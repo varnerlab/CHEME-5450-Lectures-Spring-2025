{
 "cells": [
  {
   "cell_type": "markdown",
   "id": "dcc59bf4-ee5f-423b-ad55-7c2d03cd4db8",
   "metadata": {},
   "source": [
    "# L5a: Models of Flux Bounds as Data Integration Tools"
   ]
  },
  {
   "cell_type": "code",
   "execution_count": null,
   "id": "779f74eb-9bdb-45cc-b42d-84d1405edb42",
   "metadata": {},
   "outputs": [],
   "source": []
  }
 ],
 "metadata": {
  "kernelspec": {
   "display_name": "Julia 1.11.2",
   "language": "julia",
   "name": "julia-1.11"
  },
  "language_info": {
   "file_extension": ".jl",
   "mimetype": "application/julia",
   "name": "julia",
   "version": "1.11.2"
  }
 },
 "nbformat": 4,
 "nbformat_minor": 5
}
