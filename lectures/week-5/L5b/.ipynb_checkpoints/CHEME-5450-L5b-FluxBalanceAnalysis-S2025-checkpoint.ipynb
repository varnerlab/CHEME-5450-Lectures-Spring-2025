{
 "cells": [
  {
   "cell_type": "markdown",
   "id": "dcc59bf4-ee5f-423b-ad55-7c2d03cd4db8",
   "metadata": {},
   "source": [
    "# L5b: Introduction to Flux Balance Analysis (FBA)\n",
    "Fill me in\n",
    "\n",
    "Check out the lecture notes: [here!](https://github.com/varnerlab/CHEME-5450-Lectures-Spring-2025/blob/main/lectures/week-5/L5b/docs/Notes.pdf)"
   ]
  },
  {
   "cell_type": "markdown",
   "id": "2db381ff-c7fd-4971-a3ce-462d69f03457",
   "metadata": {},
   "source": [
    "## Theory: Flux Balance Analysis and Linear Programming\n",
    "Fill me in"
   ]
  },
  {
   "cell_type": "markdown",
   "id": "6c92e37e-1721-44c1-944a-623c39621bbd",
   "metadata": {},
   "source": [
    "## Setup, Data, and Prerequisites\n",
    "We set up the computational environment by including the `Include.jl` file, loading any needed resources, such as sample datasets, and setting up any required constants. The `Include.jl` file loads external packages, various functions that we will use in the exercise, and custom types to model the components of our problem."
   ]
  },
  {
   "cell_type": "code",
   "execution_count": 3,
   "id": "101a766b-c6fc-4e59-8af4-0fe75c720d55",
   "metadata": {},
   "outputs": [],
   "source": [
    "include(\"Include.jl\");"
   ]
  },
  {
   "cell_type": "markdown",
   "id": "ba6f506d-a65a-4838-8a7b-9e86f4493be6",
   "metadata": {},
   "source": [
    "## Toy flux balance example: Some fun with the constraints\n",
    "The standard flux balance analysis problem is in `concentration` units and metabolic reaction flux, e.g., specific biomass units `mmol/gDW-hr`. We aren’t obligated to do so. Working in mass or mole units may be more convenient than concentration units. Let's focus on moles. The steady-state species mole balance around component $i$ in a _logical control volume_ is:\n",
    "$$\n",
    "\\begin{equation}\n",
    "\\sum_{s=1}^{\\mathcal{S}}d_{s}\\dot{n}_{is} + \\sum_{j=1}^{\\mathcal{R}}\\sigma_{ij}\\dot{\\epsilon}_{j} = 0\\qquad{i=1,2,\\dots,\\mathcal{M}}\n",
    "\\end{equation}\n",
    "$$\n",
    "The first summation are `transport` terms into and from a control volume (units: mol $i$/time) from $\\mathcal{S}$ possible `streams`; the `transport` terms can be physical, e.g., convection or diffusion or they can _logical_ where $d_{s} = 1$ if the stream $s$ enters control volume, $d_{s}=-1$ is stream $s$ exits the control volume. The second summation are the reaction terms, where $\\sigma_{ij}$ denotes the stoichiometric coefficient describing the connection between metabolite $i$ and reaction $j$ and $\\dot{\\epsilon}_{j}$ denotes the open extent of reaction (units: mol/time). Suppose a single logical stream enters (s=1) and exits (s=2) the control volume. In this case, the open species mole balance is given by:\n",
    "$$\n",
    "\\begin{equation}\n",
    "\\dot{n}_{i,2} = \\dot{n}_{i,1} + \\sum_{j=1}^{\\mathcal{R}}\\sigma_{ij}\\dot{\\epsilon}_{j}\\qquad{i=1,2,\\dots,\\mathcal{M}}\n",
    "\\end{equation}\n",
    "$$\n",
    "These balances can be used as constraints to find the optimal open extent of reaction. Thus, because $\\dot{n}_{i,2}\\geq{0}$, the FBA problem is subject to the mol constraints: \n",
    "$$\n",
    "\\begin{equation}\n",
    "\\dot{n}_{i,1} + \\sum_{j=1}^{\\mathcal{R}}\\sigma_{ij}\\dot{\\epsilon}_{j}\\geq{0}\\qquad\\qquad{i=1,2,\\dots,\\mathcal{M}}\n",
    "\\end{equation}\n",
    "$$\n",
    "In other words, when searching for the optimal set of $\\dot{\\epsilon}_{j}$, we have to select values that give physically realistic answers (we can't have a negative mol flow rate). Next, the $\\dot{\\epsilon}_{j}$ terms are bounded from above and below: $\\mathcal{L}_{j}\\leq\\dot{\\epsilon}_{j}\\leq\\mathcal{U}_{j}\\,{j=1,2\\dots,\\mathcal{R}}$.\n",
    "where the $\\mathcal{L}_{j}$ and $\\mathcal{U}_{j}$ denote the lower and upper bounds that $\\dot{\\epsilon}_{j}$ can take, remember that the open extents $\\dot{\\epsilon}_{j}$ are just reaction rates times the volume. Thus, the lower and upper bounds describe the permissible range we expect the rate _could_ obtain. Putting everything together gives a slightly different problem formulation to compute the mol/time flux through a reaction network:\n",
    "$$\n",
    "\\begin{align}\n",
    "\\text{maximize}\\quad & \\sum_{j=1}^{\\mathcal{R}}c_{j}\\dot{\\epsilon}_{j} \\\\\n",
    "\\text{subject to}\\quad & \\sum_{j=1}^{\\mathcal{R}}\\sigma_{ij}\\dot{\\epsilon}_{j}\\geq{-\\dot{n}_{i,1}}\\qquad\\forall{i}\\\\\n",
    "& \\dot{n}_{i,2}\\geq{0}\\qquad\\forall{i}\\\\ \n",
    "& \\mathcal{L}_{j}\\leq\\dot{\\epsilon}_{j}\\leq\\mathcal{U}_{j}\\qquad{j=1,2\\dots,\\mathcal{R}}\n",
    "\\end{align}\n",
    "$$"
   ]
  },
  {
   "cell_type": "code",
   "execution_count": 5,
   "id": "93cff9b5-9283-4f93-bc87-dd9c60013839",
   "metadata": {},
   "outputs": [],
   "source": [
    "n_dot_in = [\n",
    "\t10.0 \t; # 1 A₁\n",
    "\t3.0 \t; # 2 A₂\n",
    "\t0.0 \t; # 3 B\n",
    "\t0.0 \t; # 4 P\n",
    "\t1.0 \t; # 5 C\n",
    "\t0.0 \t; # 6 x\n",
    "\t0.0 \t; # 7 y\n",
    "];"
   ]
  },
  {
   "cell_type": "markdown",
   "id": "88e03523-dd1a-4134-ae1a-d70d0da5f86e",
   "metadata": {},
   "source": [
    "Setup"
   ]
  },
  {
   "cell_type": "code",
   "execution_count": 6,
   "id": "add44daf-de2c-400c-bee9-39675c2998ad",
   "metadata": {},
   "outputs": [],
   "source": [
    "S₁, flux_bounds_array, species_bounds_array = let\n",
    "\n",
    "    # Hard code the stoichiometric matrix for the toy example\n",
    "\tS = [\n",
    "\t\t# r₁ r₂ r₃\n",
    "\t\t-1.0 0.0 0.0 ; # 1 A₁\n",
    "\t\t0.0 0.0 -1.0 ; # 2 A₂\n",
    "\t\t1.0 -1.0 0.0 ; # 3 B\n",
    "\t\t0.0 1.0 0.0  ; # 4 P\n",
    "\t\t0.0 0.0 1.0  ; # 5 C\n",
    "\t\t-1.0 0.0 1.0 ; # 6 x\n",
    "\t\t1.0 0.0 -1.0 ; # 7 y \n",
    "\t];\n",
    "\n",
    "    # set the flux bounds array for the top example (col 1 = lower bound, col 2 = upper bound)\n",
    "\tflux_bounds_array = [\n",
    "\n",
    "\t\t# ℒ 𝒰\n",
    "\t\t0.0 10.0 \t; # 1 r₁\n",
    "\t\t0.0 10.0  \t; # 2 r₂\n",
    "\t\t0.0 20.0 \t; # 3 r₃\n",
    "\t];\n",
    "\n",
    "    # set the species bounds array -\n",
    "\tspecies_bounds_array = [\n",
    "\n",
    "\t\t# ℒ lower     𝒰 upper\n",
    "\t\tn_dot_in[1] 1000.0 \t\t\t\t; # 1 A₁\n",
    "\t\tn_dot_in[2] 1000.0 \t\t\t\t; # 2 A₂\n",
    "\t\tn_dot_in[3] 1000.0 \t\t\t\t; # 3 B\n",
    "\t\tn_dot_in[4] 1000.0 \t\t\t\t; # 4 P\n",
    "\t\tn_dot_in[5] 1000.0 \t\t\t\t; # 5 C\n",
    "\t\tn_dot_in[6] 1000.0 \t\t\t\t; # 6 x\n",
    "\t\tn_dot_in[7] 1000.0 \t\t\t\t; # 7 y\n",
    "\t];\n",
    "\n",
    "    # return -\n",
    "    S, flux_bounds_array, species_bounds_array\n",
    "end;"
   ]
  },
  {
   "cell_type": "markdown",
   "id": "80f6c47b-2f8e-4fa9-a4b2-5da6db5db1ba",
   "metadata": {},
   "source": [
    "objective"
   ]
  },
  {
   "cell_type": "code",
   "execution_count": 8,
   "id": "2cbdc165-aa53-4d14-969a-ea02a3968d8a",
   "metadata": {},
   "outputs": [],
   "source": [
    "objective = [\n",
    "    0.0  ; # 1 objective function coefficient r₁\n",
    "    1.0  ; # 2 objective function coefficient r₂\n",
    "    0.0  ; # 3 objective function coefficient r₃\n",
    "];"
   ]
  },
  {
   "cell_type": "markdown",
   "id": "5cb11aa1-b88e-46d4-966b-94b28195df1e",
   "metadata": {},
   "source": [
    "Setup the model"
   ]
  },
  {
   "cell_type": "code",
   "execution_count": 21,
   "id": "d2e107e8-8add-4837-9969-b8d3d39aa34b",
   "metadata": {},
   "outputs": [],
   "source": [
    "model = let\n",
    "\n",
    "    # build -\n",
    "    model = build(MyOptimalOpenExtentProblemCalculationModel, (\n",
    "        S = S₁,\n",
    "        fluxbounds = flux_bounds_array,\n",
    "        speciesbounds = species_bounds_array,\n",
    "        objective = objective,\n",
    "        species = [\"A₁\", \"A₂\", \"B\", \"P\", \"C\", \"x\", \"y\"],\n",
    "        reactions = [\n",
    "    \t\t\"A₁ + x => B + y\" \t; # 1 r₁\n",
    "    \t\t\"B => P\" \t\t\t; # 2 r₂\n",
    "    \t\t\"A₂ + y => C + x\" \t; # 3 r₃\n",
    "    \t],\n",
    "    ));\n",
    "\n",
    "    model;\n",
    "end;"
   ]
  },
  {
   "cell_type": "markdown",
   "id": "13356a8a-8186-4cc1-a86d-ac37a9451fa0",
   "metadata": {},
   "source": [
    "Flux"
   ]
  },
  {
   "cell_type": "code",
   "execution_count": 28,
   "id": "f7321b70-7579-4279-b3a1-988910245c6a",
   "metadata": {},
   "outputs": [],
   "source": [
    "solution = let\n",
    "\n",
    "    solution = nothing;\n",
    "    try\n",
    "        solution = solve(model);\n",
    "    catch error\n",
    "        println(\"error: $(error)\");\n",
    "    end\n",
    "\n",
    "    solution\n",
    "end;"
   ]
  },
  {
   "cell_type": "markdown",
   "id": "f9669315-7690-4069-a080-de1b906edb4f",
   "metadata": {},
   "source": [
    "Flux table"
   ]
  },
  {
   "cell_type": "code",
   "execution_count": 30,
   "id": "8b1d7e9b-5db1-459b-abf9-6e9a201c7dc6",
   "metadata": {
    "jupyter": {
     "source_hidden": true
    }
   },
   "outputs": [
    {
     "name": "stdout",
     "output_type": "stream",
     "text": [
      "================== ========== =========== ============\n",
      " \u001b[1m        Reaction \u001b[0m \u001b[1m   ϵᵢ_dot \u001b[0m \u001b[1m ϵ₁_dot LB \u001b[0m \u001b[1m ϵ₁_dot UB \u001b[0m\n",
      " \u001b[90m                 \u001b[0m \u001b[90m mol/time \u001b[0m \u001b[90m  mol/time \u001b[0m \u001b[90m  mol/time \u001b[0m\n",
      "================== ========== =========== ============\n",
      "  A₁ + x => B + y        3.0         0.0        10.0\n",
      "           B => P        3.0         0.0        10.0\n",
      "  A₂ + y => C + x        3.0         0.0        20.0\n",
      "================== ========== =========== ============\n"
     ]
    }
   ],
   "source": [
    "let\n",
    "\n",
    "    # setup -\n",
    "    number_of_reactions = size(S₁,2); # columns\n",
    "\tflux_table = Array{Any,2}(undef,number_of_reactions,4)\n",
    "    flux = solution[\"argmax\"];\n",
    "    \n",
    "    # populate the state table -\n",
    "\tfor reaction_index = 1:number_of_reactions\n",
    "\t\tflux_table[reaction_index,1] = model.reactions[reaction_index]\n",
    "\t\tflux_table[reaction_index,2] = flux[reaction_index]\n",
    "\t\tflux_table[reaction_index,3] = flux_bounds_array[reaction_index,1]\n",
    "\t\tflux_table[reaction_index,4] = flux_bounds_array[reaction_index,2]\n",
    "\tend\n",
    "\n",
    "    # header row -\n",
    "\tflux_table_header_row = ([\"Reaction\",\"ϵᵢ_dot\", \"ϵ₁_dot LB\", \"ϵ₁_dot UB\"],[\"\",\"mol/time\", \"mol/time\", \"mol/time\"]);\n",
    "\t\t\n",
    "\t# write the table -\n",
    "\tpretty_table(flux_table; header=flux_table_header_row, tf=tf_simple)\n",
    "end"
   ]
  },
  {
   "cell_type": "markdown",
   "id": "1b5215c2-431a-4f93-84a0-7f73c409b4fd",
   "metadata": {},
   "source": [
    "Species table"
   ]
  },
  {
   "cell_type": "code",
   "execution_count": 38,
   "id": "51a377b9-34e5-4ed8-afd7-1da1630c5ef6",
   "metadata": {
    "jupyter": {
     "source_hidden": true
    }
   },
   "outputs": [
    {
     "name": "stdout",
     "output_type": "stream",
     "text": [
      "========== =========== =============\n",
      " \u001b[1m Species \u001b[0m \u001b[1m nᵢ_dot_in \u001b[0m \u001b[1m nᵢ_dot_out \u001b[0m\n",
      " \u001b[90m         \u001b[0m \u001b[90m  mol/time \u001b[0m \u001b[90m   mol/time \u001b[0m\n",
      "========== =========== =============\n",
      "       A₁        10.0          7.0\n",
      "       A₂         3.0          0.0\n",
      "        B         0.0          0.0\n",
      "        P         0.0          3.0\n",
      "        C         1.0          4.0\n",
      "        x         0.0          0.0\n",
      "        y         0.0          0.0\n",
      "========== =========== =============\n"
     ]
    }
   ],
   "source": [
    "let\n",
    "\n",
    "    # get solution and problem components -\n",
    "    number_of_states = size(S₁,1); # rows: metabolites\n",
    "    flux = solution[\"argmax\"];\n",
    "    n_dot_in = species_bounds_array[:,1];\n",
    "    \n",
    "    # compute output -\n",
    "\tϵ_vector = flux;\n",
    "\tn_dot_out = n_dot_in .+ S₁*ϵ_vector\n",
    "\n",
    "\t# make a pretty table -\n",
    "\tstate_table = Array{Any,2}(undef, number_of_states,3)\n",
    "\tspecies_array = model.species;\n",
    "\tfor state_index = 1:number_of_states\n",
    "\t\tstate_table[state_index,1] = species_array[state_index]\n",
    "\t\tstate_table[state_index,2] = n_dot_in[state_index]\n",
    "\t\tstate_table[state_index,3] = n_dot_out[state_index]\n",
    "\tend\n",
    "\n",
    "    # header row -\n",
    "\tstate_table_header_row = ([\"Species\",\"nᵢ_dot_in\",\"nᵢ_dot_out\"],[\"\",\"mol/time\", \"mol/time\"]);\n",
    "\t\t\n",
    "\t# write the table -\n",
    "\tpretty_table(state_table; header=state_table_header_row, tf = tf_simple)\n",
    "end"
   ]
  },
  {
   "cell_type": "code",
   "execution_count": null,
   "id": "31c78e3d-f4cb-41f8-aff9-e53b5f3da287",
   "metadata": {},
   "outputs": [],
   "source": []
  }
 ],
 "metadata": {
  "kernelspec": {
   "display_name": "Julia 1.11.3",
   "language": "julia",
   "name": "julia-1.11"
  },
  "language_info": {
   "file_extension": ".jl",
   "mimetype": "application/julia",
   "name": "julia",
   "version": "1.11.3"
  }
 },
 "nbformat": 4,
 "nbformat_minor": 5
}
