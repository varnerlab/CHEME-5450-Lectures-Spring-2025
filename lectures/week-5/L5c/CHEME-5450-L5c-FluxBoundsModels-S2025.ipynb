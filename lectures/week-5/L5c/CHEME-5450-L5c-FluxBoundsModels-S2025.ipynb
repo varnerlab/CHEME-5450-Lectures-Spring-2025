{
 "cells": [
  {
   "cell_type": "markdown",
   "id": "8a98806f-e065-417a-9e90-8411982de7e7",
   "metadata": {},
   "source": [
    "# L5b: Boolean Models of Gene and Allosteric Regulatory Networks"
   ]
  },
  {
   "cell_type": "code",
   "execution_count": null,
   "id": "22460140-38da-44f8-9871-db75e780b69d",
   "metadata": {},
   "outputs": [],
   "source": []
  }
 ],
 "metadata": {
  "kernelspec": {
   "display_name": "Julia 1.11.2",
   "language": "julia",
   "name": "julia-1.11"
  },
  "language_info": {
   "file_extension": ".jl",
   "mimetype": "application/julia",
   "name": "julia",
   "version": "1.11.2"
  }
 },
 "nbformat": 4,
 "nbformat_minor": 5
}
