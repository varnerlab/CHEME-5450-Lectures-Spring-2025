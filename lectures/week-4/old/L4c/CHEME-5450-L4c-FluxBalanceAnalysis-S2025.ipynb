{
 "cells": [
  {
   "cell_type": "markdown",
   "id": "49b890d1-04dc-436e-a040-b11fd3034f7b",
   "metadata": {},
   "source": [
    "# L4c: Introduction to Flux Balance Analysis (FBA)"
   ]
  },
  {
   "cell_type": "code",
   "execution_count": null,
   "id": "c8de3f87-4720-46a8-863b-2006824256d8",
   "metadata": {},
   "outputs": [],
   "source": []
  }
 ],
 "metadata": {
  "kernelspec": {
   "display_name": "Julia 1.11.2",
   "language": "julia",
   "name": "julia-1.11"
  },
  "language_info": {
   "file_extension": ".jl",
   "mimetype": "application/julia",
   "name": "julia",
   "version": "1.11.2"
  }
 },
 "nbformat": 4,
 "nbformat_minor": 5
}
