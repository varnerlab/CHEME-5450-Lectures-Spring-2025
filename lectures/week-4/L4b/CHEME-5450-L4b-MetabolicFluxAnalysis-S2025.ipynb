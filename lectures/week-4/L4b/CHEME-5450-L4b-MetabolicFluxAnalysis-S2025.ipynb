{
 "cells": [
  {
   "cell_type": "markdown",
   "id": "7c7f2ce1-38a1-4cf9-9318-a129a02990e0",
   "metadata": {},
   "source": [
    "# L4b: Introduction to Metabolic Flux Analysis (MFA)"
   ]
  },
  {
   "cell_type": "code",
   "execution_count": null,
   "id": "54ae7136-3e3e-467b-8928-f23121f47af6",
   "metadata": {},
   "outputs": [],
   "source": []
  }
 ],
 "metadata": {
  "kernelspec": {
   "display_name": "Julia 1.11.2",
   "language": "julia",
   "name": "julia-1.11"
  },
  "language_info": {
   "file_extension": ".jl",
   "mimetype": "application/julia",
   "name": "julia",
   "version": "1.11.2"
  }
 },
 "nbformat": 4,
 "nbformat_minor": 5
}
