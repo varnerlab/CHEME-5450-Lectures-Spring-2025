{
 "cells": [
  {
   "cell_type": "markdown",
   "id": "cec5dbcf-3037-47ca-851f-0075f2f4970d",
   "metadata": {},
   "source": [
    "# L4c: Metabolic Networks and the Stoichiometric Matrix\n",
    "---\n",
    "In this lecture, we will begin our discussion of metabolism and metabolic networks, and in particular, we'll introduce the stoichiometric matrix and analyze its properties. The key ideas that we will discuss in this lecture include:\n",
    "* __Metabolism and metabolic networks__: A metabolic network is the complete set of metabolic (chemical) processes determining a cell's biochemical state. It encompasses all the chemical reactions associated with metabolism, i.e., the breakdown of raw materials such as sugars (catabolism) and the production of macromolecules, e.g., proteins, lipids, etc (anabolism).\n",
    "* __A stoichiometric matrix__ is a mathematical representation of a metabolic network that encodes the relationships between reactants and products in a metabolic network, where rows correspond to different metabolites, contained in the set $\\mathcal{M}$, and columns correspond to reactions, contained in the set $\\mathcal{R}$. Thus, the stoichiometric matrix is a $\\mathbf{S}\\in\\mathbb{R}^{|\\mathcal{M}|\\times|\\mathcal{R}|}$ matrix holding the stochiometric coefficients $\\sigma_{ij}\\in\\mathbf{S}$ for $i=1,2,\\dots,|\\mathcal{M}|$ and $j=1,2,\\dots,|\\mathcal{R}|$.\n",
    "* __Structural analysis of $\\mathbf{S}$__: Structural analysis of the stoichiometric matrix involves examining its connectivity distribution and using tools such as eigendecomposition to explore the network's fundamental pathway structures and other topological properties. These type of analyses give us some more insight into the structure of the network (and perhaps some indication of importance of particular metabolites of reactions).\n",
    "\n",
    "Check out the lecture notes: [here!](https://github.com/varnerlab/CHEME-5450-Lectures-Spring-2025/blob/main/lectures/week-4/L4c/docs/Notes.pdf)\n",
    "\n",
    "---"
   ]
  },
  {
   "cell_type": "markdown",
   "id": "5164c222-e5ef-4349-995b-6363168d555e",
   "metadata": {},
   "source": [
    "## Metabolic networks and the stoichiometric matrix\n",
    "A metabolic network encompasses all the chemical reactions associated with metabolism, i.e., the breakdown of raw materials such as sugars ([catabolism](https://en.wikipedia.org/wiki/Catabolism)) and the production of macromolecules, e.g., DNA, RNA, proteins, lipids, etc ([anabolism](https://en.wikipedia.org/wiki/Anabolism)). These networks are curated for thousands of organisms and are available in various online databases. \n",
    "\n",
    "Let's check out a few of these online metabolic databases:\n",
    "* [Minoru Kanehisa, Miho Furumichi, Yoko Sato, Yuriko Matsuura, Mari Ishiguro-Watanabe, KEGG: biological systems database as a model of the real world, Nucleic Acids Research, Volume 53, Issue D1, 6 January 2025, Pages D672–D677, https://doi.org/10.1093/nar/gkae909](https://academic.oup.com/nar/article/53/D1/D672/7824602)\n",
    "* [Karp PD, Billington R, Caspi R, Fulcher CA, Latendresse M, Kothari A, Keseler IM, Krummenacker M, Midford PE, Ong Q, Ong WK, Paley SM, Subhraveti P. The BioCyc collection of microbial genomes and metabolic pathways. Brief Bioinform. 2019 Jul 19;20(4):1085-1093. doi: 10.1093/bib/bbx085. PMID: 29447345; PMCID: PMC6781571.](https://pubmed.ncbi.nlm.nih.gov/29447345/)\n",
    "* [Charles J Norsigian, Neha Pusarla, John Luke McConn, James T Yurkovich, Andreas Dräger, Bernhard O Palsson, Zachary King, BiGG Models 2020: multi-strain genome-scale models and expansion across the phylogenetic tree, Nucleic Acids Research, Volume 48, Issue D1, 08 January 2020, Pages D402–D406, https://doi.org/10.1093/nar/gkz1054](https://academic.oup.com/nar/article/48/D1/D402/5614178)\n",
    "\n",
    "There are many other databases with information about enzymes and other biological numbers that we may be interested in:\n",
    "* [Antje Chang, Lisa Jeske, Sandra Ulbrich, Julia Hofmann, Julia Koblitz, Ida Schomburg, Meina Neumann-Schaal, Dieter Jahn, Dietmar Schomburg, BRENDA, the ELIXIR core data resource in 2021: new developments and updates, Nucleic Acids Research, Volume 49, Issue D1, 8 January 2021, Pages D498–D508, https://doi.org/10.1093/nar/gkaa1025](https://academic.oup.com/nar/article/49/D1/D498/5992283)\n",
    "* [Ron Milo, Paul Jorgensen, Uri Moran, Griffin Weber, Michael Springer, BioNumbers—the database of key numbers in molecular and cell biology, Nucleic Acids Research, Volume 38, Issue suppl_1, 1 January 2010, Pages D750–D753, https://doi.org/10.1093/nar/gkp889](https://academic.oup.com/nar/article/38/suppl_1/D750/3112244)\n",
    "\n",
    "### Stoichiometric matrix\n",
    "Suppose we have a set of biochemical reactions $\\mathcal{R}$ involving chemical species (metabolite) set $\\mathcal{M}$. Then, the stoichiometric matrix is a $\\mathbf{S}\\in\\mathbb{R}^{|\\mathcal{M}|\\times|\\mathcal{R}|}$ matrix, where $|\\mathcal{M}|$ denotes the number of chemical species and $|\\mathcal{R}|$ denotes the number of reactions. The elements of the stoichiometric matrix $\\sigma_{ij}\\in\\mathbf{S}$ are stoichiometric coefficients  such that:\n",
    "* $\\sigma_{ij}>0$: Chemical species (metabolite) $i$ is _produced_ by reaction $j$. Species $i$ is a product of reaction $j$.\n",
    "* $\\sigma_{ij} = 0$: Chemical species (metabolite) $i$ is not connected with reaction $j$\n",
    "* $\\sigma_{ij}<0$: Chemical species (metabolite) $i$ is _consumed_ by reaction $j$. Species $i$ is a reactant of reaction $j$.\n",
    "\n",
    "The stoichiometric matrix $\\mathbf{S}$ is the digital representation of the biochemistry occurring inside some volume, i.e., inside the cell, in a test tube in the case of cell-free systems, or some abstract volume such as a compartment or pseudo compartment of interest.\n",
    "\n",
    "Let's download (and construct) a few stoichiometric matrices from [the BiGG database](http://bigg.ucsd.edu/) and check out their properties"
   ]
  },
  {
   "cell_type": "markdown",
   "id": "23fe5fd2-e29b-4ebb-bf7a-7a32c08234dc",
   "metadata": {},
   "source": [
    "## Setup, Data, and Prerequisites\n",
    "We set up the computational environment by including the `Include.jl` file, loading any needed resources, such as sample datasets, and setting up any required constants. The `Include.jl` file loads external packages, various functions that we will use in the exercise, and custom types to model the components of our problem."
   ]
  },
  {
   "cell_type": "code",
   "execution_count": 4,
   "id": "9d90e4d0-3201-405a-9603-b265e94a39de",
   "metadata": {},
   "outputs": [],
   "source": [
    "include(\"Include.jl\");"
   ]
  },
  {
   "cell_type": "markdown",
   "id": "15cd5a3a-cd42-4a48-86ed-0b6d5f1ceaba",
   "metadata": {},
   "source": [
    "### Data\n",
    "We developed a simple software development kit (SDK) against [the BiGG Models application programming interface at the University of California, San Diego](http://bigg.ucsd.edu/). The [BiGG Models database](http://bigg.ucsd.edu/) integrates published genome-scale metabolic networks into a single database with standardized nomenclature and structure. \n",
    "* [The BiGG models API](http://bigg.ucsd.edu/data_access) allows users to programmatically access genome-scale stoichiometric model reconstructions using a simple web API. There are `108` models of intracellular biochemistry occurring in various organisms (including humans) in the database (so far); [see here for a list of models](http://bigg.ucsd.edu/models).\n",
    "\n",
    "We call the model download endpoint of [the BiGG models API](http://bigg.ucsd.edu/data_access) and then save the model file to disk (so we don't hit the API unless we have to). This call returns model information organized as [a Julia dictionary](https://docs.julialang.org/en/v1/base/collections/#Base.Dict) in the `model::Dict{String, Any}` variable. If a model file is saved, we use the cached file instead of making an API call."
   ]
  },
  {
   "cell_type": "code",
   "execution_count": 6,
   "id": "1f76efcc-5652-4bcc-a872-1cedf176a66a",
   "metadata": {},
   "outputs": [
    {
     "data": {
      "text/plain": [
       "Dict{String, Any} with 6 entries:\n",
       "  \"metabolites\"  => Any[Dict{String, Any}(\"compartment\"=>\"c\", \"name\"=>\"3-Phosph…\n",
       "  \"id\"           => \"iAB_RBC_283\"\n",
       "  \"compartments\" => Dict{String, Any}(\"c\"=>\"cytosol\", \"e\"=>\"extracellular space…\n",
       "  \"reactions\"    => Any[Dict{String, Any}(\"name\"=>\"Sink pchol hs 18 1 18 1(c)\",…\n",
       "  \"version\"      => \"1\"\n",
       "  \"genes\"        => Any[Dict{String, Any}(\"name\"=>\"NMRK1\", \"id\"=>\"Nrk1_AT1\", \"n…"
      ]
     },
     "execution_count": 6,
     "metadata": {},
     "output_type": "execute_result"
    }
   ],
   "source": [
    "model = let\n",
    "\n",
    "    # build download endpoint -\n",
    "    baseurl = \"http://bigg.ucsd.edu\"; # base url to download model\n",
    "    modelid = \"iAB_RBC_283\"; # model id to download\n",
    "    path_to_saved_model_file = joinpath(_PATH_TO_DATA, \"saved-model-$(modelid).jld2\");\n",
    "\n",
    "    # check: do we have a model file saved?\n",
    "    model = nothing;\n",
    "    if (isfile(path_to_saved_model_file) == false)\n",
    "        \n",
    "        endpoint = MyBiggModelsDownloadModelEndpointModel();\n",
    "        endpoint.bigg_id = modelid;\n",
    "        url = build(baseurl, endpoint)\n",
    "        model = MyBiggModelsDownloadModelEndpointModel(url);\n",
    "\n",
    "        # Before we move on, save this model for later (so we don't keep hitting the API)\n",
    "        save(path_to_saved_model_file, Dict(\"model\" => model));\n",
    "    else\n",
    "        model = load(path_to_saved_model_file)[\"model\"];\n",
    "    end\n",
    "    model; # return the model (either saved, or downloaded)\n",
    "end"
   ]
  },
  {
   "cell_type": "markdown",
   "id": "0b5db0d5-ecbf-4a2e-a29e-c208044d286d",
   "metadata": {},
   "source": [
    "__Genes records__: Each model has a set of genes associated with the model's chemical reactions. The `genes` has several subfields that give information about the gene. For example, the `refseq_name` field [is the name in the NCBI reference sequence database](https://www.ncbi.nlm.nih.gov/refseq/)."
   ]
  },
  {
   "cell_type": "code",
   "execution_count": 8,
   "id": "4852b736-07a8-4402-9062-5c3db304e387",
   "metadata": {},
   "outputs": [
    {
     "data": {
      "text/plain": [
       "Dict{String, Any} with 7 entries:\n",
       "  \"ccds\"           => Any[\"CCDS47981.1\", \"CCDS6650.1\"]\n",
       "  \"hprd\"           => Any[\"09868\"]\n",
       "  \"sbo\"            => \"SBO:0000243\"\n",
       "  \"ncbigene\"       => Any[\"54981\"]\n",
       "  \"omim\"           => Any[\"608704\"]\n",
       "  \"refseq_name\"    => Any[\"NMRK1\"]\n",
       "  \"refseq_synonym\" => Any[\"C9orf95\", \"NRK1\", \"bA235O14.2\"]"
      ]
     },
     "execution_count": 8,
     "metadata": {},
     "output_type": "execute_result"
    }
   ],
   "source": [
    "model[\"genes\"][1][\"annotation\"]"
   ]
  },
  {
   "cell_type": "markdown",
   "id": "20bc45fe-9482-4f9a-8e65-bbb742294402",
   "metadata": {},
   "source": [
    "__Metabolite records__: Each metabolite (chemical compound) in the network has an associated metabolite record with several fields. Let's take a look at the metabolite at index `1`. The  `id` field holds an abbreviation or symbol associated with this metabolite."
   ]
  },
  {
   "cell_type": "code",
   "execution_count": 10,
   "id": "a3b498ad-2426-4d58-a308-103f728c0dbd",
   "metadata": {},
   "outputs": [
    {
     "data": {
      "text/plain": [
       "Dict{String, Any} with 7 entries:\n",
       "  \"compartment\" => \"c\"\n",
       "  \"name\"        => \"3-Phospho-D-glyceroyl phosphate\"\n",
       "  \"formula\"     => \"C3H4O10P2\"\n",
       "  \"id\"          => \"13dpg_c\"\n",
       "  \"charge\"      => -4\n",
       "  \"notes\"       => Dict{String, Any}(\"original_bigg_ids\"=>Any[\"13dpg_c\"])\n",
       "  \"annotation\"  => Dict{String, Any}(\"sabiork\"=>Any[\"21215\"], \"kegg.compound\"=>…"
      ]
     },
     "execution_count": 10,
     "metadata": {},
     "output_type": "execute_result"
    }
   ],
   "source": [
    "model[\"metabolites\"][1] # example metabolite record"
   ]
  },
  {
   "cell_type": "markdown",
   "id": "c4cac7bc-9ee1-4e9e-acca-e53e55a6f578",
   "metadata": {},
   "source": [
    "__Reaction records__: Similarly, each reaction in the network has a reaction record with several fields. Let's look at the reaction record at index `25`. The species involved in a reaction are contained in the `metabolites` field, which lists the stoichiometric coefficients associated with this particular reaction."
   ]
  },
  {
   "cell_type": "code",
   "execution_count": 12,
   "id": "7367cc1a-d11d-46d8-b4ab-832aafa097a6",
   "metadata": {},
   "outputs": [
    {
     "data": {
      "text/plain": [
       "Dict{String, Any} with 9 entries:\n",
       "  \"name\"               => \"N-Acetylneuraminate 9-phosphate pyruvate-lyase (pyru…\n",
       "  \"metabolites\"        => Dict{String, Any}(\"h2o_c\"=>-1.0, \"acnamp_c\"=>1.0, \"ac…\n",
       "  \"lower_bound\"        => 0.0\n",
       "  \"id\"                 => \"ACNAM9PL\"\n",
       "  \"notes\"              => Dict{String, Any}(\"original_bigg_ids\"=>Any[\"ACNAM9PL\"…\n",
       "  \"gene_reaction_rule\" => \"Nans_AT1\"\n",
       "  \"upper_bound\"        => 1000.0\n",
       "  \"subsystem\"          => \"Aminosugar Metabolism\"\n",
       "  \"annotation\"         => Dict{String, Any}(\"bigg.reaction\"=>Any[\"ACNAM9PL\"], \"…"
      ]
     },
     "execution_count": 12,
     "metadata": {},
     "output_type": "execute_result"
    }
   ],
   "source": [
    "model[\"reactions\"][25] # example reaction record"
   ]
  },
  {
   "cell_type": "markdown",
   "id": "253d353c-cc2b-4fd3-ae7e-a519c2fa4917",
   "metadata": {},
   "source": [
    "#### Stoichiometric matrix\n",
    "Next, let's build a stoichiometric matrix $\\mathbf{S}$ using the metabolite and reaction records. We'll do this using nested [`for` loops](https://docs.julialang.org/en/v1/base/base/#for):\n",
    "* _In the outer loop_: we iterate over the system's `metabolites` (chemical species) and select the `id` field from the `metabolites` record.\n",
    "* _In the inner loop_: we iterate over each reaction. For each reaction record, we ask if this reaction has an entry for the current metabolite `id` value; if it does, we grab the stoichiometric coefficient $\\sigma_{ij}\\in\\mathbf{S}$ corresponding to this metabolite and reaction."
   ]
  },
  {
   "cell_type": "code",
   "execution_count": 14,
   "id": "42e3d91a-1ceb-4e71-8636-c6678c0c321d",
   "metadata": {},
   "outputs": [],
   "source": [
    "S = let\n",
    "\n",
    "    # get some data from the model -\n",
    "    m = model[\"metabolites\"]; # get list of metabolites\n",
    "    r = model[\"reactions\"]; # get list of reactions\n",
    "    number_of_rows = length(m); # how many metabolites do we have? (rows)\n",
    "    number_of_cols = length(r); # how many reactions do we have? (cols)\n",
    "    S = zeros(number_of_rows,number_of_cols); # initialize an empty stoichiometric matrix\n",
    "\n",
    "    # let's build a stm -\n",
    "    for i ∈ eachindex(m)\n",
    "        metabolite = m[i][\"id\"]; # we are checking if this metabolite is in the reaction record\n",
    "        for j ∈ eachindex(r)\n",
    "            reaction = r[j];\n",
    "            if (haskey(reaction[\"metabolites\"], metabolite) == true)\n",
    "                S[i,j] = reaction[\"metabolites\"][metabolite];\n",
    "            end\n",
    "        end\n",
    "    end\n",
    "    S; \n",
    "end;"
   ]
  },
  {
   "cell_type": "markdown",
   "id": "b1951cf8-cf6e-4fa8-8f71-6a39c6f07738",
   "metadata": {},
   "source": [
    "#### Binary stoichiometric matrix\n",
    "Finally, let's compute the binary stoichiometric matrix $\\bar{\\mathbf{S}}$ by [calling the `binary(...)` method](src/Compute.jl). The binary stochiometric matrix is constructed by replacing each non-zero entry of $\\mathbf{S}$ with a `1`."
   ]
  },
  {
   "cell_type": "code",
   "execution_count": 16,
   "id": "2308ab6b-af57-4330-8207-b1b7e5073764",
   "metadata": {},
   "outputs": [
    {
     "data": {
      "text/plain": [
       "342×469 Matrix{Int64}:\n",
       " 0  0  0  0  0  0  0  0  0  0  0  0  0  …  0  0  0  0  0  0  0  0  0  0  0  0\n",
       " 0  0  0  0  0  0  0  0  0  0  0  0  0     0  0  0  0  0  0  0  0  0  0  0  0\n",
       " 0  0  0  0  0  0  0  0  0  0  0  1  0     0  0  0  0  0  1  0  0  0  0  0  0\n",
       " 0  0  0  0  0  0  0  0  0  0  0  0  0     0  0  0  0  0  0  0  0  0  0  0  0\n",
       " 0  0  0  0  0  0  0  0  0  0  0  0  0     0  0  0  0  0  0  0  0  0  0  0  0\n",
       " 0  0  0  0  0  0  0  0  0  0  0  0  0  …  0  0  0  0  0  0  0  0  0  0  0  0\n",
       " 0  0  0  0  0  0  0  0  0  0  0  0  1     0  0  0  0  0  0  0  0  0  0  0  0\n",
       " 0  0  0  0  0  0  0  0  0  0  0  0  0     0  0  0  0  0  0  0  0  0  0  0  0\n",
       " 0  0  0  0  0  0  0  0  0  0  0  0  0     0  0  0  0  0  0  0  0  0  0  0  0\n",
       " 0  0  0  0  0  0  0  0  0  0  0  0  0     0  0  0  0  0  0  0  0  0  0  0  0\n",
       " 0  0  0  0  0  0  0  0  0  0  0  0  0  …  0  0  0  0  0  0  0  0  0  0  0  0\n",
       " 0  0  0  0  0  0  0  0  0  0  0  0  0     0  0  0  0  0  0  0  0  0  0  0  0\n",
       " 0  0  0  0  0  0  0  0  0  0  0  0  0     0  0  0  0  0  0  0  0  0  0  0  0\n",
       " ⋮              ⋮              ⋮        ⋱           ⋮              ⋮        \n",
       " 0  0  0  0  0  0  0  0  0  0  0  0  0  …  0  0  0  0  0  0  0  0  0  0  0  0\n",
       " 0  0  0  0  0  0  0  0  0  0  0  0  0     0  0  0  0  0  0  0  0  0  0  0  0\n",
       " 0  0  0  0  0  0  0  0  0  0  0  0  0     0  0  0  0  0  0  0  0  0  0  0  0\n",
       " 0  0  0  0  0  0  0  0  0  0  0  0  0     0  0  0  0  0  0  0  0  0  0  0  0\n",
       " 0  0  0  0  0  0  0  0  0  0  0  0  0     0  0  0  0  0  0  0  0  0  0  0  0\n",
       " 0  0  0  0  0  0  0  0  0  0  0  0  0  …  0  0  0  0  0  0  0  0  0  0  0  0\n",
       " 0  0  0  0  0  0  0  0  0  0  0  0  0     0  0  0  0  0  0  0  0  0  0  0  0\n",
       " 0  0  0  0  0  0  0  0  0  0  0  0  0     0  0  0  0  0  0  0  0  0  0  0  0\n",
       " 0  0  0  0  0  0  0  0  0  0  0  0  0     0  0  0  0  0  0  0  0  0  0  0  0\n",
       " 0  0  0  0  0  0  0  0  0  0  0  0  0     0  0  0  0  0  0  0  0  0  0  0  0\n",
       " 0  0  0  0  0  0  0  0  0  0  0  0  0  …  1  0  0  0  0  0  0  0  0  0  0  0\n",
       " 0  0  0  0  0  0  0  0  0  0  0  0  0     0  1  0  0  0  0  0  0  0  0  0  0"
      ]
     },
     "execution_count": 16,
     "metadata": {},
     "output_type": "execute_result"
    }
   ],
   "source": [
    "S̄ = binary(S) # convert all non-zero entries to 1"
   ]
  },
  {
   "cell_type": "markdown",
   "id": "431c54f7-3128-4ee9-ab2e-8a361c7746da",
   "metadata": {},
   "source": [
    "## Connectivity of a metabolic network\n",
    "The connectivity of metabolites in a metabolic network provides insight into the importance of a metabolite or reaction. Altering the enzyme level of a highly connected reaction or conditions affecting a highly connected metabolite may yield a greater response than changing an unconnected one. \n",
    "\n",
    "* __Connectivity matrix__: We can explore the connectivity by constructing connectivity matrices from the binary stoichiometric matrices. In particular, we compute the metabolite connectivity array $\\mathbf{C}_{m}$ or the reaction connectivity matrix $\\mathbf{C}_{r}$ and look at some of its properties. \n",
    "\n",
    "Let's start with the metabolite connectivity array $\\mathbf{C}_{m}$."
   ]
  },
  {
   "cell_type": "markdown",
   "id": "a93dcbb1-1024-4530-bfcf-1164e6a9f4df",
   "metadata": {},
   "source": [
    "### Metabolite connectivity\n",
    "The metabolite connectivity matrix, defined as $\\mathbf{C}_{m} \\equiv \\bar{\\mathbf{S}}\\bar{\\mathbf{S}}^{\\top}$, is an $|\\mathcal{M}|\\times|\\mathcal{M}|$ symmetric array with the following features:\n",
    "* __Diagonal elements__:The elements along the central diagonal $c_{ii}\\in\\mathbf{C}_{m}$ are the total number of reactions a particular metabolite participates in. However. because we removed the directionality when we computed the binary stoichiometric matrix, we have no information about whether the participation is a reactant or product.\n",
    "* __Off diagonal elements__: The off-diagonal elements $c_{ij}\\in\\mathbf{C}_{m}$ where $i\\neq{j}$ describe how many reactions metabolite $i$ has in common with metabolite $j$, i.e., the number of joints reactions for the pair."
   ]
  },
  {
   "cell_type": "code",
   "execution_count": 19,
   "id": "3c76c37e-4bc3-4412-9480-94f0d1f66344",
   "metadata": {},
   "outputs": [
    {
     "data": {
      "text/plain": [
       "342×342 Matrix{Int64}:\n",
       " 3  1  0  0  0  0  0  1  0  0  0  0  0  …  0  0  0  0  0  0  0  0  0  0  0  0\n",
       " 1  2  0  0  0  0  0  1  0  0  0  0  0     0  0  0  0  0  0  0  0  0  0  0  0\n",
       " 0  0  2  0  0  0  0  0  0  0  0  0  0     0  0  0  0  0  0  0  0  0  0  0  0\n",
       " 0  0  0  2  0  0  0  1  0  0  0  0  0     0  0  0  0  0  0  0  0  0  0  0  0\n",
       " 0  0  0  0  2  0  0  0  0  0  0  0  0     0  0  0  0  0  0  0  0  0  0  0  0\n",
       " 0  0  0  0  0  2  0  0  0  0  0  0  0  …  0  0  0  0  0  0  0  0  0  0  0  0\n",
       " 0  0  0  0  0  0  2  0  0  0  0  0  0     0  0  0  0  0  0  0  0  0  0  0  0\n",
       " 1  1  0  1  0  0  0  3  0  0  0  0  0     0  0  0  0  0  0  0  0  0  0  0  0\n",
       " 0  0  0  0  0  0  0  0  2  0  0  0  0     0  0  0  0  0  0  0  0  0  0  0  0\n",
       " 0  0  0  0  0  0  0  0  0  2  0  0  0     0  0  0  0  0  0  0  0  0  0  0  0\n",
       " 0  0  0  0  0  0  0  0  0  0  2  1  1  …  0  0  0  0  0  0  0  0  0  0  0  0\n",
       " 0  0  0  0  0  0  0  0  0  0  1  2  0     0  0  0  0  0  0  0  0  0  0  0  0\n",
       " 0  0  0  0  0  0  0  0  0  0  1  0  3     0  0  0  0  0  0  0  0  0  0  0  0\n",
       " ⋮              ⋮              ⋮        ⋱  ⋮              ⋮              ⋮  \n",
       " 0  0  0  0  0  0  0  0  0  0  0  0  0  …  2  0  0  0  0  0  0  0  0  0  0  0\n",
       " 0  0  0  0  0  0  0  0  0  0  0  0  0     0  2  0  0  0  0  0  0  0  0  0  0\n",
       " 0  0  0  0  0  0  0  0  0  0  0  0  0     0  0  2  0  0  0  0  0  0  0  0  0\n",
       " 0  0  0  0  0  0  0  0  0  0  0  0  0     0  0  0  2  0  0  0  0  0  0  0  0\n",
       " 0  0  0  0  0  0  0  0  0  0  0  0  0     0  0  0  0  2  0  0  0  0  0  0  0\n",
       " 0  0  0  0  0  0  0  0  0  0  0  0  0  …  0  0  0  0  0  3  0  0  0  0  0  0\n",
       " 0  0  0  0  0  0  0  0  0  0  0  0  0     0  0  0  0  0  0  2  0  0  0  0  0\n",
       " 0  0  0  0  0  0  0  0  0  0  0  0  0     0  0  0  0  0  0  0  2  0  0  0  0\n",
       " 0  0  0  0  0  0  0  0  0  0  0  0  0     0  0  0  0  0  0  0  0  2  0  0  0\n",
       " 0  0  0  0  0  0  0  0  0  0  0  0  0     0  0  0  0  0  0  0  0  0  2  0  0\n",
       " 0  0  0  0  0  0  0  0  0  0  0  0  0  …  0  0  0  0  0  0  0  0  0  0  2  0\n",
       " 0  0  0  0  0  0  0  0  0  0  0  0  0     0  0  0  0  0  0  0  0  0  0  0  2"
      ]
     },
     "execution_count": 19,
     "metadata": {},
     "output_type": "execute_result"
    }
   ],
   "source": [
    "Cₘ = S̄*transpose(S̄) # metabolite connectivity matrix M x M matrix"
   ]
  },
  {
   "cell_type": "code",
   "execution_count": 20,
   "id": "9a6675b9-3944-4a44-b27a-d5c936467d84",
   "metadata": {},
   "outputs": [
    {
     "data": {
      "text/plain": [
       "Dict{String, Any} with 7 entries:\n",
       "  \"compartment\" => \"c\"\n",
       "  \"name\"        => \"H+\"\n",
       "  \"formula\"     => \"H\"\n",
       "  \"id\"          => \"h_c\"\n",
       "  \"charge\"      => 1\n",
       "  \"notes\"       => Dict{String, Any}(\"original_bigg_ids\"=>Any[\"h_c\"])\n",
       "  \"annotation\"  => Dict{String, Any}(\"sabiork\"=>Any[\"39\"], \"kegg.compound\"=>Any…"
      ]
     },
     "execution_count": 20,
     "metadata": {},
     "output_type": "execute_result"
    }
   ],
   "source": [
    "argmax(diag(Cₘ)) |> i-> model[\"metabolites\"][i] # maximum connectivity metabolite"
   ]
  },
  {
   "cell_type": "markdown",
   "id": "fcea0222-b920-49de-97d8-ccdfc53ddd81",
   "metadata": {},
   "source": [
    "Let's sort the diagonal elements $\\text{diag}(\\mathbf{C}_{m})$ from largest to smallest and then build [a table using the `pretty_table(...)` method exported by the `PrettyTables.jl` package](https://github.com/ronisbr/PrettyTables.jl). `Unhide` the code block below to see how we constructed the metabolite connectivity table.\n",
    "* __Summary__: Several of the highest connected metabolites are associated with energy metabolism. Thus, if we manipulate [the energy metabolic pathways](https://www.genome.jp/kegg/pathway.html#energy) or otherwise perturb the energetics of the cell, we should expect a significant (for better or worse) response from the system. Interesting! But what about the reaction connectivity?"
   ]
  },
  {
   "cell_type": "code",
   "execution_count": 22,
   "id": "c8f5e4cd-b3e8-4be4-a625-296a40a894cc",
   "metadata": {
    "jupyter": {
     "source_hidden": true
    }
   },
   "outputs": [
    {
     "name": "stdout",
     "output_type": "stream",
     "text": [
      "======== ============= ======================================================= =========== ==============\n",
      " \u001b[1m index \u001b[0m \u001b[1m compartment \u001b[0m \u001b[1m                                                  name \u001b[0m \u001b[1m        id \u001b[0m \u001b[1m connections \u001b[0m\n",
      " \u001b[90m Int64 \u001b[0m \u001b[90m      String \u001b[0m \u001b[90m                                                String \u001b[0m \u001b[90m    String \u001b[0m \u001b[90m       Int64 \u001b[0m\n",
      "======== ============= ======================================================= =========== ==============\n",
      "    132             c                                                      H+         h_c           190\n",
      "    134             c                                                 H2O H2O       h2o_c           122\n",
      "     74             c                                       ATP C10H12N5O13P3       atp_c            81\n",
      "     36             c                                       ADP C10H12N5O10P2       adp_c            68\n",
      "    122             c                                               Phosphate        pi_c            68\n",
      "    153             c                                             Diphosphate       ppi_c            27\n",
      "    137             c                                          CMP C9H12N3O8P       cmp_c            22\n",
      "    143             c                                              Coenzyme A       coa_c            19\n",
      "     64             c                                         AMP C10H12N5O7P       amp_c            15\n",
      "    247             c             Nicotinamide adenine dinucleotide phosphate      nadp_c            14\n",
      "    241             c                       Nicotinamide adenine dinucleotide       nad_c            13\n",
      "    249             c   Nicotinamide adenine dinucleotide phosphate - reduced     nadph_c            12\n",
      "    283             e                                                      H+         h_e            12\n",
      "    141             c                                                 CO2 CO2       co2_c            11\n",
      "    151             c                                        CTP C9H12N3O14P3       ctp_c            10\n",
      "    225             c           1D myo Inositol 1 4 5 trisphosphate C6H9O15P3    mi145p_c            10\n",
      "    243             c             Nicotinamide adenine dinucleotide - reduced      nadh_c            10\n",
      "    206             c                                  D-Fructose 6-phosphate       f6p_c             9\n",
      "    227             c                        1D-myo-Inositol 1,4-bisphosphate     mi14p_c             9\n",
      "    231             c                             1D-myo-Inositol 1-phosphate   mi1p__D_c             9\n",
      "======== ============= ======================================================= =========== ==============\n"
     ]
    }
   ],
   "source": [
    "let\n",
    "    df = DataFrame();\n",
    "    d = diag(Cₘ);\n",
    "    î = sortperm(d, rev=true);\n",
    "    number_of_rows_in_table = 20;\n",
    "    for i ∈ î[1:number_of_rows_in_table]\n",
    "        m = model[\"metabolites\"][i]\n",
    "        row_df = (\n",
    "            index = i,\n",
    "            compartment = m[\"compartment\"],\n",
    "            name = m[\"name\"],\n",
    "            id = m[\"id\"],\n",
    "            connections = d[i]\n",
    "        );\n",
    "        push!(df, row_df) # capture the row\n",
    "    end\n",
    "    pretty_table(df, tf=tf_simple)\n",
    "end"
   ]
  },
  {
   "cell_type": "markdown",
   "id": "310cb593-e00c-4981-85e8-2f84139a956e",
   "metadata": {},
   "source": [
    "### Reaction connectivity\n",
    "The reaction connectivity matrix, defined as $\\mathbf{C}_{r} \\equiv \\bar{\\mathbf{S}}^{\\top}\\bar{\\mathbf{S}}$, is an $|\\mathcal{R}|\\times|\\mathcal{R}|$ symmetric array with the following features:\n",
    "* __Diagonal elements__:The elements along the central diagonal $c_{ii}\\in\\mathbf{C}_{r}$ are the total number of reactants and products of a particular reaction. However, because we removed the directionality when we computed the binary stoichiometric matrix, we have no information about the number of reactants or products, just the total participation number for a reaction.\n",
    "* __Off diagonal elements__: The off-diagonal elements of the reaction matrix $c_{ij}\\in\\mathbf{C}_{r}$ where $i\\neq{j}$ describe how many metabolites are shared between reaction $i$ and $j$, i.e., the number of joint metabolites for the pair."
   ]
  },
  {
   "cell_type": "code",
   "execution_count": 24,
   "id": "b9eff055-842a-409e-8957-9b1a31566967",
   "metadata": {},
   "outputs": [
    {
     "data": {
      "text/plain": [
       "469×469 Matrix{Int64}:\n",
       " 1  0  0  0  0  0  0  0  0  0  0  0  0  …  0  0  0  0  0  0  0  0  0  0  0  0\n",
       " 0  1  0  0  0  0  0  0  0  0  0  0  0     0  0  0  0  0  0  1  0  0  0  0  0\n",
       " 0  0  1  0  0  0  0  0  0  0  0  0  0     0  0  0  0  0  0  0  1  0  0  0  0\n",
       " 0  0  0  1  0  0  0  0  0  0  0  0  0     0  0  0  0  0  0  0  0  1  0  0  0\n",
       " 0  0  0  0  1  0  0  0  0  0  0  0  0     0  0  0  0  0  0  0  0  0  0  0  0\n",
       " 0  0  0  0  0  1  0  0  0  0  0  0  0  …  0  0  0  0  0  0  0  0  0  1  0  0\n",
       " 0  0  0  0  0  0  1  0  0  0  0  0  0     0  0  0  0  0  0  0  0  0  0  1  0\n",
       " 0  0  0  0  0  0  0  1  0  0  0  0  0     0  0  0  0  0  0  0  0  0  0  0  1\n",
       " 0  0  0  0  0  0  0  0  1  0  0  0  0     0  0  0  0  0  0  0  0  0  0  0  0\n",
       " 0  0  0  0  0  0  0  0  0  1  0  0  0     0  0  0  0  0  0  0  0  0  0  0  0\n",
       " 0  0  0  0  0  0  0  0  0  0  1  0  0  …  0  0  0  0  0  0  0  0  0  0  0  0\n",
       " 0  0  0  0  0  0  0  0  0  0  0  4  0     0  0  0  0  0  1  0  0  0  0  0  0\n",
       " 0  0  0  0  0  0  0  0  0  0  0  0  7     0  0  3  1  1  1  1  1  1  1  1  1\n",
       " ⋮              ⋮              ⋮        ⋱           ⋮              ⋮        \n",
       " 0  0  0  0  0  0  0  0  0  0  0  0  0     2  0  0  0  0  0  0  0  0  0  0  0\n",
       " 0  0  0  0  0  0  0  0  0  0  0  0  0     0  2  0  0  0  0  0  0  0  0  0  0\n",
       " 0  0  0  0  0  0  0  0  0  0  0  0  3     0  0  5  2  1  1  1  1  1  1  1  1\n",
       " 0  0  0  0  0  0  0  0  0  0  0  0  1  …  0  0  2  5  2  1  1  1  1  1  1  1\n",
       " 0  0  0  0  0  0  0  0  0  0  0  0  1     0  0  1  2  5  1  1  1  1  1  1  1\n",
       " 0  0  0  0  0  0  0  0  0  0  0  1  1     0  0  1  1  1  5  1  1  1  1  1  1\n",
       " 0  1  0  0  0  0  0  0  0  0  0  0  1     0  0  1  1  1  1  5  3  3  2  2  2\n",
       " 0  0  1  0  0  0  0  0  0  0  0  0  1     0  0  1  1  1  1  3  5  3  2  2  2\n",
       " 0  0  0  1  0  0  0  0  0  0  0  0  1  …  0  0  1  1  1  1  3  3  5  2  2  2\n",
       " 0  0  0  0  0  1  0  0  0  0  0  0  1     0  0  1  1  1  1  2  2  2  5  3  3\n",
       " 0  0  0  0  0  0  1  0  0  0  0  0  1     0  0  1  1  1  1  2  2  2  3  5  3\n",
       " 0  0  0  0  0  0  0  1  0  0  0  0  1     0  0  1  1  1  1  2  2  2  3  3  5"
      ]
     },
     "execution_count": 24,
     "metadata": {},
     "output_type": "execute_result"
    }
   ],
   "source": [
    "Cᵣ = transpose(S̄)*S̄ # metabolite connectivity matrix R x R matrix"
   ]
  },
  {
   "cell_type": "markdown",
   "id": "d0915490-52b4-40c7-82e6-bc29c7665af2",
   "metadata": {},
   "source": [
    "What is the most connected reaction? Find the index of the maximum diagonal element [using the `argmax(...)` method](https://docs.julialang.org/en/v1/base/collections/#Base.argmax), and then [pipe that index using the `|>` operator](https://docs.julialang.org/en/v1/manual/functions/#Function-composition-and-piping) to the reaction array. Save the highest connected reaction in the `most_connected_reaction::Dict{String,Any}` variable:"
   ]
  },
  {
   "cell_type": "code",
   "execution_count": 26,
   "id": "93e3dae6-e98e-4012-b2d5-972dea2d5ddd",
   "metadata": {},
   "outputs": [
    {
     "data": {
      "text/plain": [
       "Dict{String, Any} with 9 entries:\n",
       "  \"name\"               => \"Heme oxygenase 1\"\n",
       "  \"metabolites\"        => Dict{String, Any}(\"co_c\"=>1.0, \"h2o_c\"=>3.0, \"nadph_c…\n",
       "  \"lower_bound\"        => 0.0\n",
       "  \"id\"                 => \"HOXG\"\n",
       "  \"notes\"              => Dict{String, Any}(\"original_bigg_ids\"=>Any[\"HOXG\"])\n",
       "  \"gene_reaction_rule\" => \"Hmox2_AT1 or Hmox1_AT1\"\n",
       "  \"upper_bound\"        => 1000.0\n",
       "  \"subsystem\"          => \"Heme Degradation\"\n",
       "  \"annotation\"         => Dict{String, Any}(\"bigg.reaction\"=>Any[\"HOXG\"], \"meta…"
      ]
     },
     "execution_count": 26,
     "metadata": {},
     "output_type": "execute_result"
    }
   ],
   "source": [
    "most_connected_reaction = argmax(diag(Cᵣ)) |> i-> model[\"reactions\"][i] # maximum connectivity reaction"
   ]
  },
  {
   "cell_type": "markdown",
   "id": "7438d179-478a-4ed3-82b1-309d88796557",
   "metadata": {},
   "source": [
    "We can [call the `reactionstring(...)` method](src/Compute.jl) with the `metabolites` dictionary from a `reaction` dictionary to see the reaction string: "
   ]
  },
  {
   "cell_type": "code",
   "execution_count": 28,
   "id": "a2f4aeaf-8f0d-434a-91e2-586d26142c57",
   "metadata": {},
   "outputs": [
    {
     "data": {
      "text/plain": [
       "\"3.0 nadph_c + 3.0 o2_c + 5.0 h_c + 1.0 pheme_c = 3.0 h2o_c + 3.0 nadp_c + 1.0 fe2_c + 1.0 co_c + 1.0 biliverd_c\""
      ]
     },
     "execution_count": 28,
     "metadata": {},
     "output_type": "execute_result"
    }
   ],
   "source": [
    "test = reactionstring(most_connected_reaction[\"metabolites\"])"
   ]
  },
  {
   "cell_type": "markdown",
   "id": "4dafe6a0-7e20-49a2-b10b-7f07ef2278bf",
   "metadata": {},
   "source": [
    "Let's sort the diagonal elements $\\text{diag}(\\mathbf{C}_{r})$ from largest to smallest and then build [a table using the `pretty_table(...)` method exported by the `PrettyTables.jl` package](https://github.com/ronisbr/PrettyTables.jl). `Unhide` the code block below to see how we constructed the reaction connectivity table.\n",
    "* __Summary__: The most connected reaction list makes intuitive sense (or maybe not) depending on the network we are looking at. For example, for networks with a `biomass` reaction (which describes the requirements to make more cells), we would intuitively expect those reactions to be highly ranked. However, for other networks that describe non-replicating systems, the importance of the reaction may be specific to the function of the cell."
   ]
  },
  {
   "cell_type": "code",
   "execution_count": 30,
   "id": "e460f013-1a6f-4125-9a4f-a3012d339515",
   "metadata": {
    "jupyter": {
     "source_hidden": true
    }
   },
   "outputs": [
    {
     "name": "stdout",
     "output_type": "stream",
     "text": [
      "======== =============== ============= ==================================================================================================================\n",
      " \u001b[1m index \u001b[0m \u001b[1m            id \u001b[0m \u001b[1m connections \u001b[0m \u001b[1m                                                                                                        reaction \u001b[0m\n",
      " \u001b[90m Int64 \u001b[0m \u001b[90m        String \u001b[0m \u001b[90m       Int64 \u001b[0m \u001b[90m                                                                                                          String \u001b[0m\n",
      "======== =============== ============= ==================================================================================================================\n",
      "    232            HOXG             9   3.0 nadph_c + 3.0 o2_c + 5.0 h_c + 1.0 pheme_c = 3.0 h2o_c + 3.0 nadp_c + 1.0 fe2_c + 1.0 co_c + 1.0 biliverd_c\n",
      "    272            NaKt             9                1.0 atp_c + 1.0 h2o_c + 2.0 k_e + 3.0 na1_c = 1.0 adp_c + 3.0 na1_e + 2.0 k_c + 1.0 pi_c + 1.0 h_c\n",
      "    276           GMPS2             9     1.0 atp_c + 1.0 h2o_c + 1.0 gln__L_c + 1.0 xmp_c = 1.0 glu__L_c + 1.0 amp_c + 1.0 ppi_c + 1.0 gmp_c + 2.0 h_c\n",
      "    333           NADS2             9    1.0 atp_c + 1.0 h2o_c + 1.0 dnad_c + 1.0 gln__L_c = 1.0 glu__L_c + 1.0 nad_c + 1.0 amp_c + 1.0 ppi_c + 1.0 h_c\n",
      "     13    3MOXTYRESSte             7                            2.0 atp_c + 2.0 h2o_c + 3.0 3moxtyr_c = 2.0 adp_c + 3.0 3moxtyr_e + 2.0 pi_c + 2.0 h_c\n",
      "     14          4PYRDX             7                              1.0 atp_c + 1.0 h2o_c + 1.0 4pyrdx_c = 1.0 adp_c + 1.0 pi_c + 1.0 h_c + 1.0 4pyrdx_e\n",
      "     74          CAATPS             7                                    1.0 atp_c + 1.0 h2o_c + 2.0 ca2_c = 1.0 adp_c + 2.0 ca2_e + 1.0 h_e + 1.0 pi_c\n",
      "     75           CAMPt             7                                  1.0 atp_c + 1.0 h2o_c + 1.0 camp_c = 1.0 adp_c + 1.0 camp_e + 1.0 pi_c + 1.0 h_c\n",
      "    117           CGMPt             7                              1.0 atp_c + 1.0 h2o_c + 1.0 35cgmp_c = 1.0 adp_c + 1.0 35cgmp_e + 1.0 pi_c + 1.0 h_c\n",
      "    192            GTHS             7                               1.0 atp_c + 1.0 gly_c + 1.0 glucys_c = 1.0 adp_c + 1.0 gthrd_c + 1.0 pi_c + 1.0 h_c\n",
      "    234   NORMETEVESSte             7                      2.0 atp_c + 2.0 h2o_c + 3.0 normete__L_c = 2.0 adp_c + 3.0 normete__L_e + 2.0 pi_c + 2.0 h_c\n",
      "    257            GLNS             7                              1.0 atp_c + 1.0 glu__L_c + 1.0 nh4_c = 1.0 adp_c + 1.0 gln__L_c + 1.0 pi_c + 1.0 h_c\n",
      "    260          GLUCYS             7                           1.0 atp_c + 1.0 glu__L_c + 1.0 cys__L_c = 1.0 adp_c + 1.0 glucys_c + 1.0 pi_c + 1.0 h_c\n",
      "    290            OPAH             7                              1.0 atp_c + 2.0 h2o_c + 1.0 5oxpro_c = 1.0 adp_c + 1.0 glu__L_c + 1.0 pi_c + 1.0 h_c\n",
      "    292        GTHOXti2             7                                1.0 atp_c + 1.0 gthox_c + 1.0 h2o_c = 1.0 adp_c + 1.0 gthox_e + 1.0 pi_c + 1.0 h_c\n",
      "    297      MEPIVESSte             7                                  2.0 atp_c + 2.0 h2o_c + 3.0 mepi_c = 2.0 adp_c + 2.0 pi_c + 2.0 h_c + 3.0 mepi_e\n",
      "    415        RIBFLVt3             7                              1.0 atp_c + 1.0 h2o_c + 1.0 ribflv_e = 1.0 adp_c + 1.0 ribflv_c + 1.0 pi_c + 1.0 h_c\n",
      "    433       RIBFLVt3o             7                              1.0 atp_c + 1.0 h2o_c + 1.0 ribflv_c = 1.0 adp_c + 1.0 ribflv_e + 1.0 pi_c + 1.0 h_c\n",
      "    129          ALDD2x             6                                             1.0 h2o_c + 1.0 nad_c + 1.0 acald_c = 1.0 ac_c + 2.0 h_c + 1.0 nadh_c\n",
      "    141          CPPPGO             6                                           1.0 o2_c + 1.0 cpppg3_c + 2.0 h_c = 2.0 h2o_c + 1.0 pppg9_c + 2.0 co2_c\n",
      "======== =============== ============= ==================================================================================================================\n"
     ]
    }
   ],
   "source": [
    "let\n",
    "    df = DataFrame();\n",
    "    d = diag(Cᵣ);\n",
    "    î = sortperm(d, rev=true);\n",
    "    number_of_rows_in_table = 20;\n",
    "    for i ∈ î[1:number_of_rows_in_table]\n",
    "        m = model[\"reactions\"][i]\n",
    "        row_df = (\n",
    "            index = i,\n",
    "            id = m[\"id\"],\n",
    "            connections = d[i],\n",
    "            reaction = reactionstring(m[\"metabolites\"]),\n",
    "        );\n",
    "        push!(df, row_df) # capture the row\n",
    "    end\n",
    "    pretty_table(df, tf=tf_simple)\n",
    "end"
   ]
  },
  {
   "cell_type": "markdown",
   "id": "8dec0f89-c69b-4fd8-86ae-3e59e308e98c",
   "metadata": {},
   "source": [
    "## Other ways to estimate important reactions (metabolites)?\n",
    "We imposed the idea that connectivity is proportional to importance; what if this isn't the case? Could we have the stoichiometric matrix tell us what is important? Yes! We could decompose the stoichiometric matrix using tools from [eigendecomposition](https://en.wikipedia.org/wiki/Eigendecomposition_of_a_matrix#). But there is a _gotcha_: the stoichiometric matrix is not _square_. Thus, we cannot directly compute its [eigendecomposition](https://en.wikipedia.org/wiki/Eigendecomposition_of_a_matrix#).\n",
    "\n",
    "* __Idea__: Let's compute a square matrix that measures the _similarity_ of reactions (or metabolites) using a measure such as the [covariance](https://en.wikipedia.org/wiki/Covariance_matrix) or a [kernel function](https://en.wikipedia.org/wiki/Kernel_method). This gives us an idea about the relationship between the network's reactions (or metabolites) $i$ and $j$. Then, we can decompose that and look at the [eigenvalues and eigenvectors](https://en.wikipedia.org/wiki/Eigenvalues_and_eigenvectors) to see what we can see. In particular, we'll look at the eigenvector corresponding to the largest eigenvalue.\n",
    "\n",
    "For giggles, let's propose [a kernel function](https://en.wikipedia.org/wiki/Kernel_method) to compute the _similarity_ of the rows (metabolites) or the columns (reactions) and save it in the `k(x,y)::Function` variable:"
   ]
  },
  {
   "cell_type": "code",
   "execution_count": 32,
   "id": "201d63df-1f7e-41a1-9581-697dbc595fc5",
   "metadata": {},
   "outputs": [],
   "source": [
    "k(x,y) = dot(x,y);"
   ]
  },
  {
   "cell_type": "markdown",
   "id": "f7d467a6-65b4-44b6-a53c-9ef79565a8b8",
   "metadata": {},
   "source": [
    "Next, compute the reaction (metabolite) similarity matrix $\\hat{\\mathbf{S}}$ and save it in the `Ŝ::Array{Float64,2}` variable. If we are considering the reaction similarity then $\\hat{\\mathbf{S}}\\in\\mathbb{R}^{|\\mathcal{R}|\\times|\\mathcal{R}|}$, otherwise the metabolite similarity will be a $\\hat{\\mathbf{S}}\\in\\mathbb{M}^{|\\mathcal{R}|\\times|\\mathcal{M}|}$ matrix."
   ]
  },
  {
   "cell_type": "code",
   "execution_count": 101,
   "id": "e4666465-cca5-45b2-af80-27ed91c8e141",
   "metadata": {},
   "outputs": [],
   "source": [
    "Ŝ = let\n",
    "    \n",
    "    # get some data from the system -\n",
    "    m = model[\"metabolites\"] |> length # get the number of metabolites\n",
    "    r = model[\"reactions\"] |> length # get the number of reactions\n",
    "\n",
    "    # Uncomment me for reaction similarity\n",
    "    Ŝ = zeros(r,r); # create a scaled stoichiometric matrix\n",
    "    for i ∈ 1:r\n",
    "        σᵢ = S[:,i]; # get the ith col (reaction)\n",
    "        for j ∈ 1:r\n",
    "            σⱼ = S[:,j]; # get the jth col (reaction)\n",
    "            Ŝ[i,j] = k(σᵢ,σⱼ);\n",
    "        end\n",
    "    end\n",
    "\n",
    "    # Uncomment me for metabolite similarity -\n",
    "    # Ŝ = zeros(m,m); # create a scaled stoichiometric matrix\n",
    "    # for i ∈ 1:m\n",
    "    #     mᵢ = S[i,:]; # get the ith row (metabolite)\n",
    "    #     for j ∈ 1:m\n",
    "    #         mⱼ = S[j,:]; # get the jth row (metabolite)\n",
    "    #         Ŝ[i,j] = k(mᵢ,mⱼ);\n",
    "    #     end\n",
    "    # end\n",
    "\n",
    "    Ŝ\n",
    "end;"
   ]
  },
  {
   "cell_type": "code",
   "execution_count": 103,
   "id": "354b8107-873f-43c2-8427-f1d8cf6b57f1",
   "metadata": {},
   "outputs": [
    {
     "data": {
      "text/plain": [
       "469×469 Matrix{Float64}:\n",
       " 1.0   0.0   0.0   0.0  0.0   0.0  …   0.0   0.0   0.0   0.0   0.0   0.0\n",
       " 0.0   1.0   0.0   0.0  0.0   0.0     -1.0   0.0   0.0   0.0   0.0   0.0\n",
       " 0.0   0.0   1.0   0.0  0.0   0.0      0.0  -1.0   0.0   0.0   0.0   0.0\n",
       " 0.0   0.0   0.0   1.0  0.0   0.0      0.0   0.0  -1.0   0.0   0.0   0.0\n",
       " 0.0   0.0   0.0   0.0  1.0   0.0      0.0   0.0   0.0   0.0   0.0   0.0\n",
       " 0.0   0.0   0.0   0.0  0.0   1.0  …   0.0   0.0   0.0  -1.0   0.0   0.0\n",
       " 0.0   0.0   0.0   0.0  0.0   0.0      0.0   0.0   0.0   0.0  -1.0   0.0\n",
       " 0.0   0.0   0.0   0.0  0.0   0.0      0.0   0.0   0.0   0.0   0.0  -1.0\n",
       " 0.0   0.0   0.0   0.0  0.0   0.0      0.0   0.0   0.0   0.0   0.0   0.0\n",
       " 0.0   0.0   0.0   0.0  0.0   0.0      0.0   0.0   0.0   0.0   0.0   0.0\n",
       " 0.0   0.0   0.0   0.0  0.0   0.0  …   0.0   0.0   0.0   0.0   0.0   0.0\n",
       " 0.0   0.0   0.0   0.0  0.0   0.0      0.0   0.0   0.0   0.0   0.0   0.0\n",
       " 0.0   0.0   0.0   0.0  0.0   0.0      2.0   2.0   2.0   2.0   2.0   2.0\n",
       " ⋮                            ⋮    ⋱               ⋮                \n",
       " 0.0   0.0   0.0   0.0  0.0   0.0      0.0   0.0   0.0   0.0   0.0   0.0\n",
       " 0.0   0.0   0.0   0.0  0.0   0.0      0.0   0.0   0.0   0.0   0.0   0.0\n",
       " 0.0   0.0   0.0   0.0  0.0   0.0      1.0   1.0   1.0   1.0   1.0   1.0\n",
       " 0.0   0.0   0.0   0.0  0.0   0.0  …   1.0   1.0   1.0   1.0   1.0   1.0\n",
       " 0.0   0.0   0.0   0.0  0.0   0.0     -1.0  -1.0  -1.0  -1.0  -1.0  -1.0\n",
       " 0.0   0.0   0.0   0.0  0.0   0.0      2.0   2.0   2.0   2.0   2.0   2.0\n",
       " 0.0  -1.0   0.0   0.0  0.0   0.0      5.0   3.0   3.0   2.0   2.0   2.0\n",
       " 0.0   0.0  -1.0   0.0  0.0   0.0      3.0   5.0   3.0   2.0   2.0   2.0\n",
       " 0.0   0.0   0.0  -1.0  0.0   0.0  …   3.0   3.0   5.0   2.0   2.0   2.0\n",
       " 0.0   0.0   0.0   0.0  0.0  -1.0      2.0   2.0   2.0   5.0   3.0   3.0\n",
       " 0.0   0.0   0.0   0.0  0.0   0.0      2.0   2.0   2.0   3.0   5.0   3.0\n",
       " 0.0   0.0   0.0   0.0  0.0   0.0      2.0   2.0   2.0   3.0   3.0   5.0"
      ]
     },
     "execution_count": 103,
     "metadata": {},
     "output_type": "execute_result"
    }
   ],
   "source": [
    "Ŝ"
   ]
  },
  {
   "cell_type": "markdown",
   "id": "99332909-488b-4a05-9d98-db3bb4c7302c",
   "metadata": {},
   "source": [
    "__Compute the eigenvalues and the eigenvectors__. We use the built-in [`eigen(...)` function](https://docs.julialang.org/en/v1/stdlib/LinearAlgebra/#LinearAlgebra.eigen) to compute [the eigendecomposition](https://en.wikipedia.org/wiki/Eigendecomposition_of_a_matrix#:~:text=In%20linear%20algebra%2C%20eigendecomposition%20is,be%20factorized%20in%20this%20way.). This function takes a square matrix $\\mathbf{A}$ (and potentially some additional optional arguments) and returns [an `Eigen` factorization object](https://docs.julialang.org/en/v1/stdlib/LinearAlgebra/#LinearAlgebra.Eigen) holding the eigenvalues and eigenvectors."
   ]
  },
  {
   "cell_type": "code",
   "execution_count": 105,
   "id": "89e90170-d97f-4bcb-b46e-2ef1dd9cc53c",
   "metadata": {},
   "outputs": [],
   "source": [
    "λ,V = let\n",
    "\n",
    "    # compute the eigendecomposition\n",
    "    F = eigen(Ŝ); # compute the decomposition, returns eigen factorization\n",
    "    λ = F.values; # get the values from F\n",
    "    V = F.vectors; # get the vectors from F\n",
    "\n",
    "    # return -\n",
    "    λ,V\n",
    "end;"
   ]
  },
  {
   "cell_type": "markdown",
   "id": "10099ffd-9a24-41c5-ba6a-f241e1e2ab74",
   "metadata": {},
   "source": [
    "__What's in the largest eigenvector?__ \n",
    "\n",
    "First, why are we looking at only the largest eigenvector? Let's borrow an idea from Google. [The Google PageRank algorithm](https://epubs.siam.org/doi/10.1137/050623280) utilizes the dominant eigenvalue and its corresponding eigenvector to assess the importance of web pages when searching the internet. Let's use [the `softmax(...)` function](src/Compute.jl) to transform the largest eigenvector in a probability vector (sums to one, all entries are non-negative). The [softmax](https://en.wikipedia.org/wiki/Softmax_function) for some vector $\\mathbf{z}$ is defined as:\n",
    "$$\n",
    "\\begin{equation}\n",
    "\\sigma(\\mathbf{z})_{i} = \\frac{e^{z_{i}}}{\\sum_{j=1}^{m}e^{z_{j}}}\\quad{i=1,2,\\dots,m}\n",
    "\\end{equation}\n",
    "$$\n",
    "where $\\sigma(\\mathbf{z})_{i}$ is the ith component of the transformed eigenvector. We apply [the `argmax(...)` function](https://docs.julialang.org/en/v1/base/collections/#Base.argmax) to the transformed vector to get the largest component."
   ]
  },
  {
   "cell_type": "code",
   "execution_count": 107,
   "id": "abd2012d-51c4-421a-b2df-e13c723fe183",
   "metadata": {},
   "outputs": [],
   "source": [
    "i,j,r̂,m̂ = let\n",
    "\n",
    "    # setup -\n",
    "    m = nothing;\n",
    "    r = nothing;\n",
    "    i = argmax(λ); # get the index of the largest eigenvalue i\n",
    "    j = V[:,i] |> v-> softmax(v) |> v̂-> argmax(v̂); # get the i vector, apply a softmax, find index of maximum element\n",
    "\n",
    "    # Uncomment me for reactions -\n",
    "    r = model[\"reactions\"][j]\n",
    "\n",
    "    # Uncomment me for metabolites -\n",
    "    # m = model[\"metabolites\"][j]\n",
    "    \n",
    "    # return\n",
    "    i,j,r,m\n",
    "end;"
   ]
  },
  {
   "cell_type": "code",
   "execution_count": 109,
   "id": "9282eac8-a568-4e6f-974f-21e6d8278f24",
   "metadata": {},
   "outputs": [
    {
     "data": {
      "text/plain": [
       "Dict{String, Any} with 9 entries:\n",
       "  \"name\"               => \"Heme oxygenase 1\"\n",
       "  \"metabolites\"        => Dict{String, Any}(\"co_c\"=>1.0, \"h2o_c\"=>3.0, \"nadph_c…\n",
       "  \"lower_bound\"        => 0.0\n",
       "  \"id\"                 => \"HOXG\"\n",
       "  \"notes\"              => Dict{String, Any}(\"original_bigg_ids\"=>Any[\"HOXG\"])\n",
       "  \"gene_reaction_rule\" => \"Hmox2_AT1 or Hmox1_AT1\"\n",
       "  \"upper_bound\"        => 1000.0\n",
       "  \"subsystem\"          => \"Heme Degradation\"\n",
       "  \"annotation\"         => Dict{String, Any}(\"bigg.reaction\"=>Any[\"HOXG\"], \"meta…"
      ]
     },
     "execution_count": 109,
     "metadata": {},
     "output_type": "execute_result"
    }
   ],
   "source": [
    "r̂"
   ]
  },
  {
   "cell_type": "markdown",
   "id": "5324487c-4698-4962-8ec7-c15f8f4276a0",
   "metadata": {},
   "source": [
    "## Further Reading\n",
    "Several publications with a similar theme, i.e., using different matrix factorizations such as [singular value decomposition](https://en.wikipedia.org/wiki/Singular_value_decomposition) or different approaches such as looking at the degree distribution, have been published to understand the structural features of biologically derived networks such the stoichiometric arrays:\n",
    "* [Price ND, Reed JL, Papin JA, Famili I, Palsson BO. Analysis of metabolic capabilities using singular value decomposition of extreme pathway matrices. Biophys J. 2003 Feb;84(2 Pt 1):794-804. doi: 10.1016/S0006-3495(03)74899-1. PMID: 12547764; PMCID: PMC1302660.](https://pubmed.ncbi.nlm.nih.gov/12547764/)\n",
    "* [Famili I, Palsson BO. Systemic metabolic reactions are obtained by singular value decomposition of genome-scale stoichiometric matrices. J Theor Biol. 2003 Sep 7;224(1):87-96. doi: 10.1016/s0022-5193(03)00146-2. PMID: 12900206.](https://pubmed.ncbi.nlm.nih.gov/12900206/)\n",
    "* [Barrett CL, Price ND, Palsson BO. Network-level analysis of metabolic regulation in the human red blood cell using random sampling and singular value decomposition. BMC Bioinformatics. 2006 Mar 13;7:132. doi: 10.1186/1471-2105-7-132. PMID: 16533395; PMCID: PMC1421444.](https://pubmed.ncbi.nlm.nih.gov/16533395/)\n",
    "* [Broido, A.D., Clauset, A. Scale-free networks are rare. Nat Commun 10, 1017 (2019). https://doi.org/10.1038/s41467-019-08746-5](https://rdcu.be/d9Q02)"
   ]
  },
  {
   "cell_type": "markdown",
   "id": "a19e8917-b8cd-4856-8274-f72a4258aed8",
   "metadata": {},
   "source": [
    "# Today?\n",
    "That's a wrap! What are some things we discussed today?"
   ]
  }
 ],
 "metadata": {
  "kernelspec": {
   "display_name": "Julia 1.11.3",
   "language": "julia",
   "name": "julia-1.11"
  },
  "language_info": {
   "file_extension": ".jl",
   "mimetype": "application/julia",
   "name": "julia",
   "version": "1.11.3"
  }
 },
 "nbformat": 4,
 "nbformat_minor": 5
}
