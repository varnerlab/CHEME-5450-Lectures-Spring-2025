{
 "cells": [
  {
   "cell_type": "markdown",
   "id": "cec5dbcf-3037-47ca-851f-0075f2f4970d",
   "metadata": {},
   "source": [
    "# L4c: Metabolic Networks and the Stoichiometric Matrix\n",
    "---\n",
    "In this lecture, we will begin our discussion of metabolism and metabolic networks, and in particular, we'll introduce the stoichiometric matrix and analyze its properties. The key ideas that we will discuss in this lecture include:\n",
    "* __Metabolism and metabolic networks__: A metabolic network is the complete set of metabolic (chemical) processes determining a cell's biochemical state. It encompasses all the chemical reactions associated with metabolism, i.e., the breakdown of raw materials such as sugars (catabolism) and the production of macromolecules, e.g., proteins, lipids, etc (anabolism).\n",
    "* __A stoichiometric matrix__ is a mathematical representation of a metabolic network that encodes the relationships between reactants and products in a metabolic network, where rows correspond to different metabolites, contained in the set $\\mathcal{M}$, and columns correspond to reactions, contained in the set $\\mathcal{R}$. Thus, the stoichiometric matrix is a $\\mathbf{S}\\in\\mathbb{R}^{|\\mathcal{M}|\\times|\\mathcal{R}|}$ matrix holding the stochiometric coefficients $\\sigma_{ij}\\in\\mathbf{S}$ for $i=1,2,\\dots,|\\mathcal{M}|$ and $j=1,2,\\dots,|\\mathcal{R}|$.\n",
    "* __Structural analysis of $\\mathbf{S}$__: Structural analysis of the stoichiometric matrix involves examining its connectivity distribution and using tools such as eigendecomposition to explore the network's fundamental pathway structures and other topological properties. These type of analyses give us some more insight into the structure of the network (and perhaps some indication of importance of particular metabolites of reactions).\n",
    "\n",
    "Check out the lecture notes: [here!](https://github.com/varnerlab/CHEME-5450-Lectures-Spring-2025/blob/main/lectures/week-4/L4c/docs/Notes.pdf)\n",
    "\n",
    "---"
   ]
  },
  {
   "cell_type": "markdown",
   "id": "5164c222-e5ef-4349-995b-6363168d555e",
   "metadata": {},
   "source": [
    "## Metabolic networks and the stoichiometric matrix\n",
    "A metabolic network encompasses all the chemical reactions associated with metabolism, i.e., the breakdown of raw materials such as sugars ([catabolism](https://en.wikipedia.org/wiki/Catabolism)) and the production of macromolecules, e.g., DNA, RNA, proteins, lipids, etc ([anabolism](https://en.wikipedia.org/wiki/Anabolism)). These networks are curated for thousands of organisms and are available in various online databases. \n",
    "\n",
    "Let's check out a few of these online metabolic databases:\n",
    "* [Minoru Kanehisa, Miho Furumichi, Yoko Sato, Yuriko Matsuura, Mari Ishiguro-Watanabe, KEGG: biological systems database as a model of the real world, Nucleic Acids Research, Volume 53, Issue D1, 6 January 2025, Pages D672–D677, https://doi.org/10.1093/nar/gkae909](https://academic.oup.com/nar/article/53/D1/D672/7824602)\n",
    "* [Karp PD, Billington R, Caspi R, Fulcher CA, Latendresse M, Kothari A, Keseler IM, Krummenacker M, Midford PE, Ong Q, Ong WK, Paley SM, Subhraveti P. The BioCyc collection of microbial genomes and metabolic pathways. Brief Bioinform. 2019 Jul 19;20(4):1085-1093. doi: 10.1093/bib/bbx085. PMID: 29447345; PMCID: PMC6781571.](https://pubmed.ncbi.nlm.nih.gov/29447345/)\n",
    "* [Charles J Norsigian, Neha Pusarla, John Luke McConn, James T Yurkovich, Andreas Dräger, Bernhard O Palsson, Zachary King, BiGG Models 2020: multi-strain genome-scale models and expansion across the phylogenetic tree, Nucleic Acids Research, Volume 48, Issue D1, 08 January 2020, Pages D402–D406, https://doi.org/10.1093/nar/gkz1054](https://academic.oup.com/nar/article/48/D1/D402/5614178)\n",
    "\n",
    "There are many other databases with information about enzymes and other biological numbers that we may be interested in:\n",
    "* [Antje Chang, Lisa Jeske, Sandra Ulbrich, Julia Hofmann, Julia Koblitz, Ida Schomburg, Meina Neumann-Schaal, Dieter Jahn, Dietmar Schomburg, BRENDA, the ELIXIR core data resource in 2021: new developments and updates, Nucleic Acids Research, Volume 49, Issue D1, 8 January 2021, Pages D498–D508, https://doi.org/10.1093/nar/gkaa1025](https://academic.oup.com/nar/article/49/D1/D498/5992283)\n",
    "* [Ron Milo, Paul Jorgensen, Uri Moran, Griffin Weber, Michael Springer, BioNumbers—the database of key numbers in molecular and cell biology, Nucleic Acids Research, Volume 38, Issue suppl_1, 1 January 2010, Pages D750–D753, https://doi.org/10.1093/nar/gkp889](https://academic.oup.com/nar/article/38/suppl_1/D750/3112244)\n",
    "\n",
    "### Stoichiometric matrix\n",
    "Suppose we have a set of biochemical reactions $\\mathcal{R}$ involving chemical species (metabolite) set $\\mathcal{M}$. Then, the stoichiometric matrix is a $\\mathbf{S}\\in\\mathbb{R}^{|\\mathcal{M}|\\times|\\mathcal{R}|}$ matrix, where $|\\mathcal{M}|$ denotes the number of chemical species and $|\\mathcal{R}|$ denotes the number of reactions. The elements of the stoichiometric matrix $\\sigma_{ij}\\in\\mathbf{S}$ are stoichiometric coefficients  such that:\n",
    "* $\\sigma_{ij}>0$: Chemical species (metabolite) $i$ is _produced_ by reaction $j$. Species $i$ is a product of reaction $j$.\n",
    "* $\\sigma_{ij} = 0$: Chemical species (metabolite) $i$ is not connected with reaction $j$\n",
    "* $\\sigma_{ij}<0$: Chemical species (metabolite) $i$ is _consumed_ by reaction $j$. Species $i$ is a reactant of reaction $j$.\n",
    "\n",
    "The stoichiometric matrix $\\mathbf{S}$ is the digital representation of the biochemistry occurring inside some volume, i.e., inside the cell, in a test tube in the case of cell-free systems, or some abstract volume such as a compartment or pseudo compartment of interest.\n",
    "\n",
    "Let's download (and construct) a few stoichiometric matrices from [the BiGG database](http://bigg.ucsd.edu/) and check out their properties"
   ]
  },
  {
   "cell_type": "markdown",
   "id": "23fe5fd2-e29b-4ebb-bf7a-7a32c08234dc",
   "metadata": {},
   "source": [
    "## Setup, Data, and Prerequisites\n",
    "We set up the computational environment by including the `Include.jl` file, loading any needed resources, such as sample datasets, and setting up any required constants. The `Include.jl` file loads external packages, various functions that we will use in the exercise, and custom types to model the components of our problem."
   ]
  },
  {
   "cell_type": "code",
   "execution_count": 4,
   "id": "9d90e4d0-3201-405a-9603-b265e94a39de",
   "metadata": {},
   "outputs": [],
   "source": [
    "include(\"Include.jl\");"
   ]
  },
  {
   "cell_type": "markdown",
   "id": "15cd5a3a-cd42-4a48-86ed-0b6d5f1ceaba",
   "metadata": {},
   "source": [
    "### Data\n",
    "We developed a simple software development kit (SDK) against [the BiGG Models application programming interface at the University of California, San Diego](http://bigg.ucsd.edu/). The [BiGG Models database](http://bigg.ucsd.edu/) integrates published genome-scale metabolic networks into a single database with standardized nomenclature and structure. \n",
    "* [The BiGG models API](http://bigg.ucsd.edu/data_access) allows users to programmatically access genome-scale stoichiometric model reconstructions using a simple web API. There are `108` models of intracellular biochemistry occurring in various organisms (including humans) in the database (so far); [see here for a list of models](http://bigg.ucsd.edu/models).\n",
    "\n",
    "We call the model download endpoint of [the BiGG models API](http://bigg.ucsd.edu/data_access) and then save the model file to disk (so we don't hit the API unless we have to). This call returns model information organized as [a Julia dictionary](https://docs.julialang.org/en/v1/base/collections/#Base.Dict) in the `model::Dict{String, Any}` variable. If a model file is saved, we use the cached file instead of making an API call."
   ]
  },
  {
   "cell_type": "code",
   "execution_count": 6,
   "id": "1f76efcc-5652-4bcc-a872-1cedf176a66a",
   "metadata": {},
   "outputs": [
    {
     "data": {
      "text/plain": [
       "Dict{String, Any} with 6 entries:\n",
       "  \"metabolites\"  => Any[Dict{String, Any}(\"compartment\"=>\"c\", \"name\"=>\"L-2-Amin…\n",
       "  \"id\"           => \"iYO844\"\n",
       "  \"compartments\" => Dict{String, Any}(\"c\"=>\"cytosol\", \"e\"=>\"extracellular space…\n",
       "  \"reactions\"    => Any[Dict{String, Any}(\"name\"=>\"Ethanolamine exchange\", \"met…\n",
       "  \"version\"      => \"1\"\n",
       "  \"genes\"        => Any[Dict{String, Any}(\"name\"=>\"atpF\", \"id\"=>\"BSU36850\", \"no…"
      ]
     },
     "execution_count": 6,
     "metadata": {},
     "output_type": "execute_result"
    }
   ],
   "source": [
    "model = let\n",
    "\n",
    "    # build download endpoint -\n",
    "    baseurl = \"http://bigg.ucsd.edu\"; # base url to download model\n",
    "    modelid = \"iYO844\"; # model id to download\n",
    "    path_to_saved_model_file = joinpath(_PATH_TO_DATA, \"saved-model-$(modelid).jld2\");\n",
    "\n",
    "    # check: do we have a model file saved?\n",
    "    model = nothing;\n",
    "    if (isfile(path_to_saved_model_file) == false)\n",
    "        \n",
    "        endpoint = MyBiggModelsDownloadModelEndpointModel();\n",
    "        endpoint.bigg_id = modelid;\n",
    "        url = build(baseurl, endpoint)\n",
    "        model = MyBiggModelsDownloadModelEndpointModel(url);\n",
    "\n",
    "        # Before we move on, save this model for later (so we don't keep hitting the API)\n",
    "        save(path_to_saved_model_file, Dict(\"model\" => model));\n",
    "    else\n",
    "        model = load(path_to_saved_model_file)[\"model\"];\n",
    "    end\n",
    "    model; # return the model (either saved, or downloaded)\n",
    "end"
   ]
  },
  {
   "cell_type": "markdown",
   "id": "0b5db0d5-ecbf-4a2e-a29e-c208044d286d",
   "metadata": {},
   "source": [
    "__Genes records__: Each model has a set of genes associated with the model's chemical reactions. The `genes` has several subfields that give information about the gene. For example, the `refseq_name` field [is the name in the NCBI reference sequence database](https://www.ncbi.nlm.nih.gov/refseq/)."
   ]
  },
  {
   "cell_type": "code",
   "execution_count": 8,
   "id": "4852b736-07a8-4402-9062-5c3db304e387",
   "metadata": {},
   "outputs": [
    {
     "data": {
      "text/plain": [
       "Dict{String, Any} with 9 entries:\n",
       "  \"subtilist\"         => Any[\"BG10817\"]\n",
       "  \"sbo\"               => \"SBO:0000243\"\n",
       "  \"EnsemblGenomes-Tr\" => Any[\"CAB15702\"]\n",
       "  \"interpro\"          => Any[\"IPR002146\", \"IPR028987\", \"IPR005864\"]\n",
       "  \"goa\"               => Any[\"P37814\"]\n",
       "  \"ncbigi\"            => Any[\"2636210\"]\n",
       "  \"refseq_locus_tag\"  => Any[\"BSU36850\"]\n",
       "  \"refseq_name\"       => Any[\"atpF\"]\n",
       "  \"EnsemblGenomes-Gn\" => Any[\"BSU36850\"]"
      ]
     },
     "execution_count": 8,
     "metadata": {},
     "output_type": "execute_result"
    }
   ],
   "source": [
    "model[\"genes\"][1][\"annotation\"]"
   ]
  },
  {
   "cell_type": "markdown",
   "id": "20bc45fe-9482-4f9a-8e65-bbb742294402",
   "metadata": {},
   "source": [
    "__Metabolite records__: Each metabolite (chemical compound) in the network has an associated metabolite record with several fields. Let's take a look at the metabolite at index `1`. The  `id` field holds an abbreviation or symbol associated with this metabolite."
   ]
  },
  {
   "cell_type": "code",
   "execution_count": 10,
   "id": "a3b498ad-2426-4d58-a308-103f728c0dbd",
   "metadata": {},
   "outputs": [
    {
     "data": {
      "text/plain": [
       "Dict{String, Any} with 7 entries:\n",
       "  \"compartment\" => \"c\"\n",
       "  \"name\"        => \"L-2-Amino-3-oxobutanoate\"\n",
       "  \"formula\"     => \"C4H7NO3\"\n",
       "  \"id\"          => \"2aobut_c\"\n",
       "  \"charge\"      => 0\n",
       "  \"notes\"       => Dict{String, Any}(\"original_bigg_ids\"=>Any[\"2aobut_c\"])\n",
       "  \"annotation\"  => Dict{String, Any}(\"sabiork\"=>Any[\"6672\"], \"kegg.compound\"=>A…"
      ]
     },
     "execution_count": 10,
     "metadata": {},
     "output_type": "execute_result"
    }
   ],
   "source": [
    "model[\"metabolites\"][1] # example metabolite record"
   ]
  },
  {
   "cell_type": "markdown",
   "id": "c4cac7bc-9ee1-4e9e-acca-e53e55a6f578",
   "metadata": {},
   "source": [
    "__Reaction records__: Similarly, each reaction in the network has a reaction record with several fields. Let's look at the reaction record at index `25`. The species involved in a reaction are contained in the `metabolites` field, which lists the stoichiometric coefficients associated with this particular reaction."
   ]
  },
  {
   "cell_type": "code",
   "execution_count": 12,
   "id": "7367cc1a-d11d-46d8-b4ab-832aafa097a6",
   "metadata": {},
   "outputs": [
    {
     "data": {
      "text/plain": [
       "Dict{String, Any} with 9 entries:\n",
       "  \"name\"               => \"2  hydroxymethyl phenol transport inout via proton s…\n",
       "  \"metabolites\"        => Dict{String, Any}(\"h_e\"=>-1.0, \"2hxmp_e\"=>-1.0, \"2hxm…\n",
       "  \"lower_bound\"        => -999999.0\n",
       "  \"id\"                 => \"2HXMPt6\"\n",
       "  \"notes\"              => Dict{String, Any}(\"original_bigg_ids\"=>Any[\"2HXMPt6\"])\n",
       "  \"gene_reaction_rule\" => \"\"\n",
       "  \"upper_bound\"        => 999999.0\n",
       "  \"subsystem\"          => \"S_Transport\"\n",
       "  \"annotation\"         => Dict{String, Any}(\"metanetx.reaction\"=>Any[\"MNXR94804…"
      ]
     },
     "execution_count": 12,
     "metadata": {},
     "output_type": "execute_result"
    }
   ],
   "source": [
    "model[\"reactions\"][156] # example reaction record"
   ]
  },
  {
   "cell_type": "markdown",
   "id": "253d353c-cc2b-4fd3-ae7e-a519c2fa4917",
   "metadata": {},
   "source": [
    "#### Stoichiometric matrix\n",
    "Next, let's build a stoichiometric matrix $\\mathbf{S}$ using the metabolite and reaction records. We'll do this using nested [`for` loops](https://docs.julialang.org/en/v1/base/base/#for):\n",
    "* _In the outer loop_: we iterate over the system's `metabolites` (chemical species) and select the `id` field from the `metabolites` record.\n",
    "* _In the inner loop_: we iterate over each reaction. For each reaction record, we ask if this reaction has an entry for the current metabolite `id` value; if it does, we grab the stoichiometric coefficient $\\sigma_{ij}\\in\\mathbf{S}$ corresponding to this metabolite and reaction."
   ]
  },
  {
   "cell_type": "code",
   "execution_count": 14,
   "id": "42e3d91a-1ceb-4e71-8636-c6678c0c321d",
   "metadata": {},
   "outputs": [],
   "source": [
    "S = let\n",
    "\n",
    "    # get some data from the model -\n",
    "    m = model[\"metabolites\"]; # get list of metabolites\n",
    "    r = model[\"reactions\"]; # get list of reactions\n",
    "    number_of_rows = length(m); # how many metabolites do we have? (rows)\n",
    "    number_of_cols = length(r); # how many reactions do we have? (cols)\n",
    "    S = zeros(number_of_rows,number_of_cols); # initialize an empty stoichiometric matrix\n",
    "\n",
    "    # let's build a stm -\n",
    "    for i ∈ eachindex(m)\n",
    "        metabolite = m[i][\"id\"]; # we are checking if this metabolite is in the reaction record\n",
    "        for j ∈ eachindex(r)\n",
    "            reaction = r[j];\n",
    "            if (haskey(reaction[\"metabolites\"], metabolite) == true)\n",
    "                S[i,j] = reaction[\"metabolites\"][metabolite];\n",
    "            end\n",
    "        end\n",
    "    end\n",
    "    S; \n",
    "end;"
   ]
  },
  {
   "cell_type": "code",
   "execution_count": 15,
   "id": "01c0e188-c862-42c3-b7bd-7cd241806590",
   "metadata": {},
   "outputs": [
    {
     "data": {
      "text/plain": [
       "990×1250 Matrix{Float64}:\n",
       " 0.0  0.0  0.0  0.0  0.0  0.0  0.0  …  0.0   0.0  0.0  0.0  0.0  0.0  0.0\n",
       " 0.0  0.0  0.0  0.0  0.0  0.0  0.0     0.0   0.0  0.0  0.0  0.0  0.0  0.0\n",
       " 0.0  0.0  0.0  0.0  0.0  0.0  0.0     0.0   0.0  0.0  0.0  0.0  0.0  0.0\n",
       " 0.0  0.0  0.0  0.0  0.0  0.0  0.0     0.0   0.0  0.0  0.0  0.0  0.0  0.0\n",
       " 0.0  0.0  0.0  0.0  0.0  0.0  0.0     0.0   0.0  0.0  0.0  0.0  0.0  0.0\n",
       " 0.0  0.0  0.0  0.0  0.0  0.0  0.0  …  0.0   0.0  0.0  0.0  0.0  0.0  0.0\n",
       " 0.0  0.0  0.0  0.0  0.0  0.0  0.0     0.0   0.0  0.0  0.0  0.0  0.0  0.0\n",
       " 0.0  0.0  0.0  0.0  0.0  0.0  0.0     0.0   0.0  0.0  0.0  0.0  0.0  0.0\n",
       " 0.0  0.0  0.0  0.0  0.0  0.0  0.0     0.0   0.0  0.0  0.0  0.0  0.0  0.0\n",
       " 0.0  0.0  0.0  0.0  0.0  0.0  0.0     0.0   0.0  0.0  0.0  0.0  0.0  0.0\n",
       " 0.0  0.0  0.0  0.0  0.0  0.0  0.0  …  0.0   0.0  0.0  0.0  0.0  0.0  0.0\n",
       " 0.0  0.0  0.0  0.0  0.0  0.0  0.0     0.0   0.0  0.0  0.0  0.0  0.0  0.0\n",
       " 0.0  0.0  0.0  0.0  0.0  0.0  0.0     0.0   0.0  0.0  0.0  0.0  0.0  0.0\n",
       " ⋮                        ⋮         ⋱             ⋮                   \n",
       " 0.0  0.0  0.0  0.0  0.0  0.0  0.0     0.0   0.0  0.0  0.0  0.0  0.0  0.0\n",
       " 0.0  0.0  0.0  0.0  0.0  0.0  0.0     0.0   0.0  0.0  0.0  0.0  0.0  0.0\n",
       " 0.0  0.0  0.0  0.0  0.0  0.0  0.0  …  0.0   0.0  0.0  0.0  0.0  0.0  0.0\n",
       " 0.0  0.0  0.0  0.0  0.0  0.0  0.0     0.0   0.0  0.0  0.0  0.0  0.0  0.0\n",
       " 0.0  0.0  0.0  0.0  0.0  0.0  0.0     0.0   0.0  0.0  0.0  0.0  0.0  0.0\n",
       " 0.0  0.0  0.0  0.0  0.0  0.0  0.0     0.0  -1.0  0.0  0.0  0.0  0.0  0.0\n",
       " 0.0  0.0  0.0  0.0  0.0  0.0  0.0     0.0  -1.0  0.0  0.0  0.0  0.0  0.0\n",
       " 0.0  0.0  0.0  0.0  0.0  0.0  0.0  …  0.0   0.0  0.0  0.0  0.0  0.0  0.0\n",
       " 0.0  0.0  0.0  0.0  0.0  0.0  0.0     0.0   0.0  0.0  0.0  0.0  0.0  0.0\n",
       " 0.0  0.0  0.0  0.0  0.0  0.0  0.0     0.0   0.0  0.0  0.0  0.0  0.0  0.0\n",
       " 0.0  0.0  0.0  0.0  0.0  0.0  0.0     0.0   0.0  0.0  0.0  0.0  0.0  0.0\n",
       " 0.0  0.0  0.0  0.0  0.0  0.0  0.0     0.0   0.0  0.0  0.0  0.0  0.0  0.0"
      ]
     },
     "execution_count": 15,
     "metadata": {},
     "output_type": "execute_result"
    }
   ],
   "source": [
    "S"
   ]
  },
  {
   "cell_type": "markdown",
   "id": "b1951cf8-cf6e-4fa8-8f71-6a39c6f07738",
   "metadata": {},
   "source": [
    "#### Binary stoichiometric matrix\n",
    "Finally, let's compute the binary stoichiometric matrix $\\bar{\\mathbf{S}}$ by [calling the `binary(...)` method](src/Compute.jl). The binary stochiometric matrix is constructed by replacing each non-zero entry of $\\mathbf{S}$ with a `1`."
   ]
  },
  {
   "cell_type": "code",
   "execution_count": 17,
   "id": "2308ab6b-af57-4330-8207-b1b7e5073764",
   "metadata": {},
   "outputs": [
    {
     "data": {
      "text/plain": [
       "990×1250 Matrix{Int64}:\n",
       " 0  0  0  0  0  0  0  0  0  0  0  0  0  …  0  0  0  0  0  0  0  0  0  0  0  0\n",
       " 0  0  0  0  0  0  0  0  0  0  0  0  0     0  0  0  0  0  0  0  0  0  0  0  0\n",
       " 0  0  0  0  0  0  0  0  0  0  0  0  0     0  0  0  0  0  0  0  0  0  0  0  0\n",
       " 0  0  0  0  0  0  0  0  0  0  0  0  0     0  0  0  0  0  0  0  0  0  0  0  0\n",
       " 0  0  0  0  0  0  0  0  0  0  0  0  0     0  0  0  0  0  0  0  0  0  0  0  0\n",
       " 0  0  0  0  0  0  0  0  0  0  0  0  0  …  0  0  0  0  0  0  0  0  0  0  0  0\n",
       " 0  0  0  0  0  0  0  0  0  0  0  0  0     0  0  0  0  0  0  0  0  0  0  0  0\n",
       " 0  0  0  0  0  0  0  0  0  0  0  0  0     0  0  0  0  0  0  0  0  0  0  0  0\n",
       " 0  0  0  0  0  0  0  0  0  0  0  0  0     0  0  0  0  0  0  0  0  0  0  0  0\n",
       " 0  0  0  0  0  0  0  0  0  0  0  0  0     0  0  0  0  0  0  0  0  0  0  0  0\n",
       " 0  0  0  0  0  0  0  0  0  0  0  0  0  …  0  0  0  0  0  0  0  0  0  0  0  0\n",
       " 0  0  0  0  0  0  0  0  0  0  0  0  0     0  0  0  0  0  0  0  0  0  0  0  0\n",
       " 0  0  0  0  0  0  0  0  0  0  0  0  0     0  0  0  0  0  0  0  0  0  0  0  0\n",
       " ⋮              ⋮              ⋮        ⋱        ⋮              ⋮           \n",
       " 0  0  0  0  0  0  0  0  0  0  0  0  0     0  0  0  0  0  0  0  0  0  0  0  0\n",
       " 0  0  0  0  0  0  0  0  0  0  0  0  0     0  0  0  0  0  0  0  0  0  0  0  0\n",
       " 0  0  0  0  0  0  0  0  0  0  0  0  0  …  0  0  0  0  0  0  0  0  0  0  0  0\n",
       " 0  0  0  0  0  0  0  0  0  0  0  0  0     0  0  0  0  0  0  0  0  0  0  0  0\n",
       " 0  0  0  0  0  0  0  0  0  0  0  0  0     0  0  0  0  0  0  0  0  0  0  0  0\n",
       " 0  0  0  0  0  0  0  0  0  0  0  0  0     1  0  0  0  0  0  1  0  0  0  0  0\n",
       " 0  0  0  0  0  0  0  0  0  0  0  0  0     1  0  0  0  0  0  1  0  0  0  0  0\n",
       " 0  0  0  0  0  0  0  0  0  0  0  0  0  …  0  0  0  0  0  0  0  0  0  0  0  0\n",
       " 0  0  0  0  0  0  0  0  0  0  0  0  0     0  0  0  0  0  0  0  0  0  0  0  0\n",
       " 0  0  0  0  0  0  0  0  0  0  0  0  0     0  0  0  0  0  0  0  0  0  0  0  0\n",
       " 0  0  0  0  0  0  0  0  0  0  0  0  0     0  0  0  0  0  0  0  0  0  0  0  0\n",
       " 0  0  0  0  0  0  0  0  0  0  0  0  0     0  0  0  0  0  0  0  0  0  0  0  0"
      ]
     },
     "execution_count": 17,
     "metadata": {},
     "output_type": "execute_result"
    }
   ],
   "source": [
    "S̄ = binary(S) # convert all non-zero entries to 1"
   ]
  },
  {
   "cell_type": "markdown",
   "id": "431c54f7-3128-4ee9-ab2e-8a361c7746da",
   "metadata": {},
   "source": [
    "## Connectivity of a metabolic network\n",
    "The connectivity of metabolites in a metabolic network provides insight into the importance of a metabolite or reaction. Altering the enzyme level of a highly connected reaction or conditions affecting a highly connected metabolite may yield a greater response than changing an unconnected one. \n",
    "\n",
    "* __Connectivity matrix__: We can explore the connectivity by constructing connectivity matrices from the binary stoichiometric matrices. In particular, we compute the metabolite connectivity array $\\mathbf{C}_{m}$ or the reaction connectivity matrix $\\mathbf{C}_{r}$ and look at some of its properties. \n",
    "\n",
    "Let's start with the metabolite connectivity array $\\mathbf{C}_{m}$."
   ]
  },
  {
   "cell_type": "markdown",
   "id": "a93dcbb1-1024-4530-bfcf-1164e6a9f4df",
   "metadata": {},
   "source": [
    "### Metabolite connectivity\n",
    "The metabolite connectivity matrix, defined as $\\mathbf{C}_{m} \\equiv \\bar{\\mathbf{S}}\\bar{\\mathbf{S}}^{\\top}$, is an $|\\mathcal{M}|\\times|\\mathcal{M}|$ symmetric array with the following features:\n",
    "* __Diagonal elements__:The elements along the central diagonal $c_{ii}\\in\\mathbf{C}_{m}$ are the total number of reactions a particular metabolite participates in. However. because we removed the directionality when we computed the binary stoichiometric matrix, we have no information about whether the participation is a reactant or product.\n",
    "* __Off diagonal elements__: The off-diagonal elements $c_{ij}\\in\\mathbf{C}_{m}$ where $i\\neq{j}$ describe how many reactions metabolite $i$ has in common with metabolite $j$, i.e., the number of joints reactions for the pair."
   ]
  },
  {
   "cell_type": "code",
   "execution_count": 20,
   "id": "3c76c37e-4bc3-4412-9480-94f0d1f66344",
   "metadata": {},
   "outputs": [
    {
     "data": {
      "text/plain": [
       "990×990 Matrix{Int64}:\n",
       " 2  0  0  0  0  0  0  0  0  0  0  0  …  0  0  0  0  0   0  0  0  0  0  0  0\n",
       " 0  2  0  0  0  0  0  0  0  0  0  0     0  0  0  0  0   0  0  0  0  0  0  0\n",
       " 0  0  2  0  0  0  0  0  0  0  0  0     0  0  0  0  0   0  0  0  0  0  0  0\n",
       " 0  0  0  2  1  0  0  0  0  0  0  0     0  0  0  0  0   0  0  0  0  0  0  0\n",
       " 0  0  0  1  5  1  0  0  0  0  0  0     0  0  0  0  0   0  0  0  0  0  0  0\n",
       " 0  0  0  0  1  2  0  0  0  0  0  0  …  0  0  0  0  0   0  0  0  0  0  0  0\n",
       " 0  0  0  0  0  0  2  0  0  0  0  0     0  0  0  0  0   0  0  0  0  0  0  0\n",
       " 0  0  0  0  0  0  0  2  0  0  0  0     0  0  0  0  0   0  0  0  0  0  0  0\n",
       " 0  0  0  0  0  0  0  0  6  1  0  0     0  0  0  0  0   0  0  0  0  0  0  0\n",
       " 0  0  0  0  0  0  0  0  1  3  0  0     0  0  0  0  0   0  0  0  0  0  0  0\n",
       " 0  0  0  0  0  0  0  0  0  0  2  0  …  0  0  0  0  0   0  0  0  0  0  0  0\n",
       " 0  0  0  0  0  0  0  0  0  0  0  3     0  0  0  0  0   0  0  0  0  0  0  0\n",
       " 0  0  0  0  0  0  0  0  0  0  0  0     0  0  0  0  0   0  0  0  0  0  0  0\n",
       " ⋮              ⋮              ⋮     ⋱        ⋮               ⋮           \n",
       " 0  0  0  0  0  0  0  0  0  0  0  0     7  1  0  0  0   0  0  0  0  0  0  0\n",
       " 0  0  0  0  0  0  0  0  0  0  0  0     1  2  0  0  0   0  0  0  0  0  0  0\n",
       " 0  0  0  0  0  0  0  0  0  0  0  0  …  0  0  2  0  0   1  0  1  0  0  0  0\n",
       " 0  0  0  0  0  0  0  0  0  0  0  0     0  0  0  2  0   1  0  0  0  0  1  0\n",
       " 0  0  0  0  0  0  0  0  0  0  0  0     0  0  0  0  3   1  0  0  0  0  0  0\n",
       " 0  0  0  0  0  0  0  0  0  0  0  0     0  0  1  1  1  10  4  1  0  0  0  0\n",
       " 0  0  0  0  0  0  0  0  0  0  0  0     0  0  0  0  0   4  4  0  0  0  0  0\n",
       " 0  0  0  0  0  0  0  0  0  0  0  0  …  0  0  1  0  0   1  0  2  0  0  0  0\n",
       " 0  0  0  0  0  0  0  0  0  0  0  0     0  0  0  0  0   0  0  0  2  1  1  0\n",
       " 0  0  0  0  0  0  0  0  0  0  0  0     0  0  0  0  0   0  0  0  1  2  0  0\n",
       " 0  0  0  0  0  0  0  0  0  0  0  0     0  0  0  1  0   0  0  0  1  0  2  0\n",
       " 0  0  0  0  0  0  0  0  0  0  0  0     0  0  0  0  0   0  0  0  0  0  0  1"
      ]
     },
     "execution_count": 20,
     "metadata": {},
     "output_type": "execute_result"
    }
   ],
   "source": [
    "Cₘ = S̄*transpose(S̄) # metabolite connectivity matrix M x M matrix"
   ]
  },
  {
   "cell_type": "code",
   "execution_count": 21,
   "id": "9a6675b9-3944-4a44-b27a-d5c936467d84",
   "metadata": {},
   "outputs": [
    {
     "data": {
      "text/plain": [
       "Dict{String, Any} with 7 entries:\n",
       "  \"compartment\" => \"c\"\n",
       "  \"name\"        => \"H+\"\n",
       "  \"formula\"     => \"H\"\n",
       "  \"id\"          => \"h_c\"\n",
       "  \"charge\"      => 1\n",
       "  \"notes\"       => Dict{String, Any}(\"original_bigg_ids\"=>Any[\"h_c\"])\n",
       "  \"annotation\"  => Dict{String, Any}(\"sabiork\"=>Any[\"39\"], \"kegg.compound\"=>Any…"
      ]
     },
     "execution_count": 21,
     "metadata": {},
     "output_type": "execute_result"
    }
   ],
   "source": [
    "argmax(diag(Cₘ)) |> i-> model[\"metabolites\"][i] # maximum connectivity metabolite"
   ]
  },
  {
   "cell_type": "markdown",
   "id": "fcea0222-b920-49de-97d8-ccdfc53ddd81",
   "metadata": {},
   "source": [
    "Let's sort the diagonal elements $\\text{diag}(\\mathbf{C}_{m})$ from largest to smallest and then build [a table using the `pretty_table(...)` method exported by the `PrettyTables.jl` package](https://github.com/ronisbr/PrettyTables.jl). `Unhide` the code block below to see how we constructed the metabolite connectivity table.\n",
    "* __Summary__: Several of the highest connected metabolites are associated with energy metabolism. Thus, if we manipulate [the energy metabolic pathways](https://www.genome.jp/kegg/pathway.html#energy) or otherwise perturb the energetics of the cell, we should expect a significant (for better or worse) response from the system. Interesting! But what about the reaction connectivity?"
   ]
  },
  {
   "cell_type": "code",
   "execution_count": 23,
   "id": "c8f5e4cd-b3e8-4be4-a625-296a40a894cc",
   "metadata": {
    "jupyter": {
     "source_hidden": true
    }
   },
   "outputs": [
    {
     "name": "stdout",
     "output_type": "stream",
     "text": [
      "======== ============= ======================================================= ========== ==============\n",
      " \u001b[1m index \u001b[0m \u001b[1m compartment \u001b[0m \u001b[1m                                                  name \u001b[0m \u001b[1m       id \u001b[0m \u001b[1m connections \u001b[0m\n",
      " \u001b[90m Int64 \u001b[0m \u001b[90m      String \u001b[0m \u001b[90m                                                String \u001b[0m \u001b[90m   String \u001b[0m \u001b[90m       Int64 \u001b[0m\n",
      "======== ============= ======================================================= ========== ==============\n",
      "    596             c                                                      H+        h_c           616\n",
      "    588             c                                                 H2O H2O      h2o_c           342\n",
      "    255             c                                       ATP C10H12N5O13P3      atp_c           246\n",
      "    665             c                                               Phosphate       pi_c           210\n",
      "    231             c                                       ADP C10H12N5O10P2      adp_c           208\n",
      "    598             e                                                      H+        h_e           143\n",
      "    693             c                       Nicotinamide adenine dinucleotide      nad_c           109\n",
      "    697             c             Nicotinamide adenine dinucleotide - reduced     nadh_c           100\n",
      "    243             c                                              Coenzyme A      coa_c            74\n",
      "    707             c                                             Diphosphate      ppi_c            71\n",
      "    229             c                                                 CO2 CO2      co2_c            63\n",
      "    699             c             Nicotinamide adenine dinucleotide phosphate     nadp_c            56\n",
      "    704             c   Nicotinamide adenine dinucleotide phosphate - reduced    nadph_c            50\n",
      "    170             c                                         AMP C10H12N5O7P      amp_c            42\n",
      "    710             c                                                Ammonium      nh4_c            40\n",
      "    814             c                                                Pyruvate      pyr_c            40\n",
      "    448             c                                             L-Glutamate   glu__L_c            38\n",
      "    160             c                                              Acetyl-CoA    accoa_c            31\n",
      "    745             c                                                   O2 O2       o2_c            30\n",
      "    283             c                                               L-Alanine   ala__L_c            22\n",
      "======== ============= ======================================================= ========== ==============\n"
     ]
    }
   ],
   "source": [
    "let\n",
    "    df = DataFrame();\n",
    "    d = diag(Cₘ);\n",
    "    î = sortperm(d, rev=true);\n",
    "    number_of_rows_in_table = 20;\n",
    "    for i ∈ î[1:number_of_rows_in_table]\n",
    "        m = model[\"metabolites\"][i]\n",
    "        row_df = (\n",
    "            index = i,\n",
    "            compartment = m[\"compartment\"],\n",
    "            name = m[\"name\"],\n",
    "            id = m[\"id\"],\n",
    "            connections = d[i]\n",
    "        );\n",
    "        push!(df, row_df) # capture the row\n",
    "    end\n",
    "    pretty_table(df, tf=tf_simple)\n",
    "end"
   ]
  },
  {
   "cell_type": "markdown",
   "id": "310cb593-e00c-4981-85e8-2f84139a956e",
   "metadata": {},
   "source": [
    "### Reaction connectivity\n",
    "The reaction connectivity matrix, defined as $\\mathbf{C}_{r} \\equiv \\bar{\\mathbf{S}}^{\\top}\\bar{\\mathbf{S}}$, is an $|\\mathcal{R}|\\times|\\mathcal{R}|$ symmetric array with the following features:\n",
    "* __Diagonal elements__:The elements along the central diagonal $c_{ii}\\in\\mathbf{C}_{r}$ are the total number of reactants and products of a particular reaction. However, because we removed the directionality when we computed the binary stoichiometric matrix, we have no information about the number of reactants or products, just the total participation number for a reaction.\n",
    "* __Off diagonal elements__: The off-diagonal elements of the reaction matrix $c_{ij}\\in\\mathbf{C}_{r}$ where $i\\neq{j}$ describe how many metabolites are shared between reaction $i$ and $j$, i.e., the number of joint metabolites for the pair."
   ]
  },
  {
   "cell_type": "code",
   "execution_count": 25,
   "id": "b9eff055-842a-409e-8957-9b1a31566967",
   "metadata": {},
   "outputs": [
    {
     "data": {
      "text/plain": [
       "1250×1250 Matrix{Int64}:\n",
       " 1  0  0  0  0  0  0  0  0  0  0  0  0  …  0  0  0  0  0   0  0  0  0  0  0\n",
       " 0  1  0  0  0  0  0  0  0  0  0  0  0     0  0  0  0  0   0  0  0  0  0  0\n",
       " 0  0  1  0  0  0  0  0  0  0  0  0  0     0  0  0  0  0   0  0  0  0  0  0\n",
       " 0  0  0  1  0  0  0  0  0  0  0  0  0     0  0  0  0  0   0  0  0  0  0  0\n",
       " 0  0  0  0  1  0  0  0  0  0  0  0  0     0  0  0  0  0   0  0  0  0  0  0\n",
       " 0  0  0  0  0  1  0  0  0  0  0  0  0  …  0  0  0  0  0   0  0  0  0  0  0\n",
       " 0  0  0  0  0  0  1  0  0  0  0  0  0     0  0  0  0  0   0  0  0  0  0  0\n",
       " 0  0  0  0  0  0  0  1  0  0  0  0  0     0  0  0  0  0   0  0  0  0  0  0\n",
       " 0  0  0  0  0  0  0  0  1  0  0  0  0     0  0  0  0  0   0  0  0  0  0  0\n",
       " 0  0  0  0  0  0  0  0  0  1  0  0  0     0  0  0  0  0   0  0  0  0  0  0\n",
       " 0  0  0  0  0  0  0  0  0  0  1  0  0  …  0  0  0  0  0   0  0  0  0  0  0\n",
       " 0  0  0  0  0  0  0  0  0  0  0  1  0     0  0  0  0  0   0  0  0  0  0  0\n",
       " 0  0  0  0  0  0  0  0  0  0  0  0  1     0  0  0  0  0   0  0  0  0  0  0\n",
       " ⋮              ⋮              ⋮        ⋱     ⋮               ⋮           \n",
       " 0  0  0  0  0  0  0  0  0  0  0  0  0     1  0  1  1  1   8  0  1  1  0  2\n",
       " 0  0  0  0  0  0  0  0  0  0  0  0  0     5  0  3  0  3   1  0  1  1  0  0\n",
       " 0  0  0  0  0  0  0  0  0  0  0  0  0  …  0  2  0  0  0   0  0  0  0  0  0\n",
       " 0  0  0  0  0  0  0  0  0  0  0  0  0     3  0  5  0  3   1  0  0  1  0  0\n",
       " 0  0  0  0  0  0  0  0  0  0  0  0  0     0  0  0  5  0   1  0  1  0  1  1\n",
       " 0  0  0  0  0  0  0  0  0  0  0  0  0     3  0  3  0  5   1  0  0  1  0  0\n",
       " 0  0  0  0  0  0  0  0  0  0  0  0  0     1  0  1  1  1  10  0  0  1  0  1\n",
       " 0  0  0  0  0  0  0  0  0  0  0  0  0  …  0  0  0  0  0   0  5  0  0  0  0\n",
       " 0  0  0  0  0  0  0  0  0  0  0  0  0     1  0  0  1  0   0  0  4  0  1  0\n",
       " 0  0  0  0  0  0  0  0  0  0  0  0  0     1  0  1  0  1   1  0  0  4  0  0\n",
       " 0  0  0  0  0  0  0  0  0  0  0  0  0     0  0  0  1  0   0  0  1  0  2  0\n",
       " 0  0  0  0  0  0  0  0  0  0  0  0  0     0  0  0  1  0   1  0  0  0  0  5"
      ]
     },
     "execution_count": 25,
     "metadata": {},
     "output_type": "execute_result"
    }
   ],
   "source": [
    "Cᵣ = transpose(S̄)*S̄ # metabolite connectivity matrix R x R matrix"
   ]
  },
  {
   "cell_type": "markdown",
   "id": "d0915490-52b4-40c7-82e6-bc29c7665af2",
   "metadata": {},
   "source": [
    "What is the most connected reaction? Find the index of the maximum diagonal element [using the `argmax(...)` method](https://docs.julialang.org/en/v1/base/collections/#Base.argmax), and then [pipe that index using the `|>` operator](https://docs.julialang.org/en/v1/manual/functions/#Function-composition-and-piping) to the reaction array. Save the highest connected reaction in the `most_connected_reaction::Dict{String,Any}` variable:"
   ]
  },
  {
   "cell_type": "code",
   "execution_count": 27,
   "id": "93e3dae6-e98e-4012-b2d5-972dea2d5ddd",
   "metadata": {},
   "outputs": [
    {
     "data": {
      "text/plain": [
       "Dict{String, Any} with 10 entries:\n",
       "  \"name\"                  => \"B subtilis biomass  demand \"\n",
       "  \"metabolites\"           => Dict{String, Any}(\"glu__L_c\"=>-0.260378, \"psetha_B…\n",
       "  \"lower_bound\"           => 0.0\n",
       "  \"id\"                    => \"BIOMASS_BS_10\"\n",
       "  \"notes\"                 => Dict{String, Any}(\"original_bigg_ids\"=>Any[\"BS_Bio…\n",
       "  \"gene_reaction_rule\"    => \"\"\n",
       "  \"upper_bound\"           => 999999.0\n",
       "  \"subsystem\"             => \"Biomass and maintenance functions\"\n",
       "  \"objective_coefficient\" => 1.0\n",
       "  \"annotation\"            => Dict{String, Any}(\"metanetx.reaction\"=>Any[\"MNXR13…"
      ]
     },
     "execution_count": 27,
     "metadata": {},
     "output_type": "execute_result"
    }
   ],
   "source": [
    "most_connected_reaction = argmax(diag(Cᵣ)) |> i-> model[\"reactions\"][i] # maximum connectivity reaction"
   ]
  },
  {
   "cell_type": "markdown",
   "id": "7438d179-478a-4ed3-82b1-309d88796557",
   "metadata": {},
   "source": [
    "We can [call the `reactionstring(...)` method](src/Compute.jl) with the `metabolites` dictionary from a `reaction` dictionary to see the reaction string: "
   ]
  },
  {
   "cell_type": "code",
   "execution_count": 29,
   "id": "a2f4aeaf-8f0d-434a-91e2-586d26142c57",
   "metadata": {},
   "outputs": [
    {
     "data": {
      "text/plain": [
       "\"0.00056 psetha_BS_c + 0.000367 10fthf_c + 0.00018 gdp_c + 0.002347 gtca2_45_BS_c + 0.323093 lys__L_c + 0.081739 his__L_c + 0.101817 peptido_BS_c + 0.000503 gmp_c + 0.00467 amp_c + 1.5e-5 lipo4_24_BS_c + 0.038902 ctp_c + 0.022899 dttp_c + 6.6e-5 t12dg_BS_c + 6.0e-6 lipo2_\"\u001b[93m\u001b[1m ⋯ 672 bytes ⋯ \u001b[22m\u001b[39m\"2 tcam_BS_c + 0.266902 ala__L_c + 0.05699 cys__L_c + 0.00345 fe3_c + 0.147987 asn__L_c + 105.0 h2o_c + 0.000934 nadp_c + 8.6e-5 m12dg_BS_c + 0.148014 asp__L_c + 0.000266 mql7_c + 0.113326 met__L_c + 0.003624 gtca1_45_BS_c = 104.997414 adp_c + 104.985613 pi_c + 105.0 h_c\""
      ]
     },
     "execution_count": 29,
     "metadata": {},
     "output_type": "execute_result"
    }
   ],
   "source": [
    "test = reactionstring(most_connected_reaction[\"metabolites\"])"
   ]
  },
  {
   "cell_type": "markdown",
   "id": "4dafe6a0-7e20-49a2-b10b-7f07ef2278bf",
   "metadata": {},
   "source": [
    "Let's sort the diagonal elements $\\text{diag}(\\mathbf{C}_{r})$ from largest to smallest and then build [a table using the `pretty_table(...)` method exported by the `PrettyTables.jl` package](https://github.com/ronisbr/PrettyTables.jl). `Unhide` the code block below to see how we constructed the reaction connectivity table.\n",
    "* __Summary__: The most connected reaction list makes intuitive sense (or maybe not) depending on the network we are looking at. For example, for networks with a `biomass` reaction (which describes the requirements to make more cells), we would intuitively expect those reactions to be highly ranked. However, for other networks that describe non-replicating systems, the importance of the reaction may be specific to the function of the cell."
   ]
  },
  {
   "cell_type": "code",
   "execution_count": 65,
   "id": "e460f013-1a6f-4125-9a4f-a3012d339515",
   "metadata": {},
   "outputs": [
    {
     "data": {
      "text/html": [
       "<div><div style = \"float: left;\"><span>20×4 DataFrame</span></div><div style = \"clear: both;\"></div></div><div class = \"data-frame\" style = \"overflow-x: scroll;\"><table class = \"data-frame\" style = \"margin-bottom: 6px;\"><thead><tr class = \"header\"><th class = \"rowNumber\" style = \"font-weight: bold; text-align: right;\">Row</th><th style = \"text-align: left;\">index</th><th style = \"text-align: left;\">id</th><th style = \"text-align: left;\">connections</th><th style = \"text-align: left;\">reaction</th></tr><tr class = \"subheader headerLastRow\"><th class = \"rowNumber\" style = \"font-weight: bold; text-align: right;\"></th><th title = \"Int64\" style = \"text-align: left;\">Int64</th><th title = \"String\" style = \"text-align: left;\">String</th><th title = \"Int64\" style = \"text-align: left;\">Int64</th><th title = \"String\" style = \"text-align: left;\">String</th></tr></thead><tbody><tr><td class = \"rowNumber\" style = \"font-weight: bold; text-align: right;\">1</td><td style = \"text-align: right;\">332</td><td style = \"text-align: left;\">BIOMASS_BS_10</td><td style = \"text-align: right;\">63</td><td style = \"text-align: left;\">0.00056 psetha_BS_c + 0.000367 10fthf_c + 0.00018 gdp_c + 0.002347 gtca2_45_BS_c + 0.323093 lys__L_c + 0.081739 his__L_c + 0.101817 peptido_BS_c + 0.000503 gmp_c + 0.00467 amp_c + 1.5e-5 lipo4_24_BS_c + 0.038902 ctp_c + 0.022899 dttp_c + 6.6e-5 t12dg_BS_c + 6.0e-6 lipo2_24_BS_c + 0.041501 utp_c + 0.000918 ppi_c + 0.017398 dgtp_c + 0.062667 gtp_c + 7.0e-6 lipo1_24_BS_c + 0.269905 ile__L_c + 0.110824 tyr__L_c + 0.408288 gly_c + 1.8e-5 lipo3_24_BS_c + 0.186317 thr__L_c + 0.101714 mg2_c + 5.0e-6 cdlp_BS_c + 0.01738 dctp_c + 105.053483 atp_c + 0.160642 pro__L_c + 0.175939 phe__L_c + 0.306734 val__L_c + 0.022982 datp_c + 0.346445 leu__L_c + 0.001042 cmp_c + 0.260378 glu__L_c + 0.00011 d12dg_BS_c + 0.016164 nad_c + 2.2e-5 lysylpgly_BS_c + 0.706312 k_c + 0.216213 ser__L_c + 0.003205 ca2_c + 0.001819 gtca3_45_BS_c + 0.193021 arg__L_c + 0.000251 cdp_c + 0.260335 gln__L_c + 0.054336 trp__L_c + 0.000176 pgly_BS_c + 0.000216 nadph_c + 0.003112 tcam_BS_c + 0.266902 ala__L_c + 0.05699 cys__L_c + 0.00345 fe3_c + 0.147987 asn__L_c + 105.0 h2o_c + 0.000934 nadp_c + 8.6e-5 m12dg_BS_c + 0.148014 asp__L_c + 0.000266 mql7_c + 0.113326 met__L_c + 0.003624 gtca1_45_BS_c = 104.997414 adp_c + 104.985613 pi_c + 105.0 h_c</td></tr><tr><td class = \"rowNumber\" style = \"font-weight: bold; text-align: right;\">2</td><td style = \"text-align: right;\">1239</td><td style = \"text-align: left;\">TECA2S45</td><td style = \"text-align: right;\">13</td><td style = \"text-align: left;\">45.0 atp_c + 45.0 ala__D_c + 45.0 h2o_c + 45.0 cdpglyc_c + 1.0 uacmam_c + 1.0 uacgam_c = 45.0 amp_c + 1.0 ump_c + 45.0 ppi_c + 1.0 gtca2_45_BS_c + 1.0 udp_c + 45.0 cmp_c + 91.0 h_c</td></tr><tr><td class = \"rowNumber\" style = \"font-weight: bold; text-align: right;\">3</td><td style = \"text-align: right;\">316</td><td style = \"text-align: left;\">AGPATr_BS</td><td style = \"text-align: right;\">12</td><td style = \"text-align: left;\">0.01 1ag3p_BS_c + 0.17 fa12coa_c + 0.07 fa11coa_c + 0.2 fa3coa_c + 0.34 fa4coa_c + 0.05 fa6coa_c + 0.03 strcoa_c + 0.01 fa1coa_c + 0.1 pmtcoa_c + 0.03 tdcoa_c = 1.0 coa_c + 0.01 12dag3p_BS_c</td></tr><tr><td class = \"rowNumber\" style = \"font-weight: bold; text-align: right;\">4</td><td style = \"text-align: right;\">471</td><td style = \"text-align: left;\">G3POA_BS</td><td style = \"text-align: right;\">12</td><td style = \"text-align: left;\">0.17 fa12coa_c + 0.07 fa11coa_c + 0.2 fa3coa_c + 0.34 fa4coa_c + 0.05 fa6coa_c + 1.0 glyc3p_c + 0.03 strcoa_c + 0.01 fa1coa_c + 0.1 pmtcoa_c + 0.03 tdcoa_c = 0.01 1ag3p_BS_c + 1.0 coa_c</td></tr><tr><td class = \"rowNumber\" style = \"font-weight: bold; text-align: right;\">5</td><td style = \"text-align: right;\">758</td><td style = \"text-align: left;\">LIPO3S24_BS</td><td style = \"text-align: right;\">10</td><td style = \"text-align: left;\">2400.0 atp_c + 2400.0 ala__D_c + 2400.0 h2o_c + 2400.0 cdpglyc_c + 1.0 d12dg_BS_c = 2400.0 amp_c + 1.0 lipo3_24_BS_c + 2400.0 ppi_c + 2400.0 cmp_c + 4800.0 h_c</td></tr><tr><td class = \"rowNumber\" style = \"font-weight: bold; text-align: right;\">6</td><td style = \"text-align: right;\">1245</td><td style = \"text-align: left;\">TECA3S45</td><td style = \"text-align: right;\">10</td><td style = \"text-align: left;\">1.0 h2o_c + 45.0 cdpglyc_c + 1.0 uacmam_c + 45.0 udpg_c + 1.0 uacgam_c = 1.0 gtca3_45_BS_c + 1.0 ump_c + 46.0 udp_c + 45.0 cmp_c + 91.0 h_c</td></tr><tr><td class = \"rowNumber\" style = \"font-weight: bold; text-align: right;\">7</td><td style = \"text-align: right;\">362</td><td style = \"text-align: left;\">ASNS1</td><td style = \"text-align: right;\">9</td><td style = \"text-align: left;\">1.0 atp_c + 1.0 h2o_c + 1.0 gln__L_c + 1.0 asp__L_c = 1.0 glu__L_c + 1.0 amp_c + 1.0 ppi_c + 1.0 h_c + 1.0 asn__L_c</td></tr><tr><td class = \"rowNumber\" style = \"font-weight: bold; text-align: right;\">8</td><td style = \"text-align: right;\">403</td><td style = \"text-align: left;\">CTPS2</td><td style = \"text-align: right;\">9</td><td style = \"text-align: left;\">1.0 atp_c + 1.0 h2o_c + 1.0 gln__L_c + 1.0 utp_c = 1.0 adp_c + 1.0 glu__L_c + 1.0 ctp_c + 1.0 pi_c + 2.0 h_c</td></tr><tr><td class = \"rowNumber\" style = \"font-weight: bold; text-align: right;\">9</td><td style = \"text-align: right;\">420</td><td style = \"text-align: left;\">CBPS</td><td style = \"text-align: right;\">9</td><td style = \"text-align: left;\">2.0 atp_c + 1.0 h2o_c + 1.0 gln__L_c + 1.0 hco3_c = 2.0 adp_c + 1.0 glu__L_c + 1.0 cbp_c + 1.0 pi_c + 2.0 h_c</td></tr><tr><td class = \"rowNumber\" style = \"font-weight: bold; text-align: right;\">10</td><td style = \"text-align: right;\">511</td><td style = \"text-align: left;\">FEDCabc</td><td style = \"text-align: right;\">9</td><td style = \"text-align: left;\">1.0 atp_c + 1.0 h2o_c + 2.0 cit_e + 1.0 fe3_e = 1.0 adp_c + 2.0 cit_c + 1.0 fe3_c + 1.0 pi_c + 1.0 h_c</td></tr><tr><td class = \"rowNumber\" style = \"font-weight: bold; text-align: right;\">11</td><td style = \"text-align: right;\">609</td><td style = \"text-align: left;\">GMPS2</td><td style = \"text-align: right;\">9</td><td style = \"text-align: left;\">1.0 atp_c + 1.0 h2o_c + 1.0 gln__L_c + 1.0 xmp_c = 1.0 glu__L_c + 1.0 amp_c + 1.0 ppi_c + 1.0 gmp_c + 2.0 h_c</td></tr><tr><td class = \"rowNumber\" style = \"font-weight: bold; text-align: right;\">12</td><td style = \"text-align: right;\">729</td><td style = \"text-align: left;\">KAS1</td><td style = \"text-align: right;\">9</td><td style = \"text-align: left;\">10.0 nadph_c + 1.0 ibcoa_c + 5.0 malcoa_c + 14.0 h_c = 6.0 coa_c + 4.0 h2o_c + 1.0 fa1_c + 5.0 co2_c + 10.0 nadp_c</td></tr><tr><td class = \"rowNumber\" style = \"font-weight: bold; text-align: right;\">13</td><td style = \"text-align: right;\">935</td><td style = \"text-align: left;\">PRFGS_1</td><td style = \"text-align: right;\">9</td><td style = \"text-align: left;\">1.0 atp_c + 1.0 h2o_c + 1.0 gln__L_c + 1.0 fgam_c = 1.0 adp_c + 1.0 glu__L_c + 1.0 pi_c + 1.0 fpram_c + 2.0 h_c</td></tr><tr><td class = \"rowNumber\" style = \"font-weight: bold; text-align: right;\">14</td><td style = \"text-align: right;\">1184</td><td style = \"text-align: left;\">KAS13</td><td style = \"text-align: right;\">9</td><td style = \"text-align: left;\">16.0 nadph_c + 1.0 accoa_c + 8.0 malcoa_c + 23.0 h_c = 9.0 coa_c + 7.0 h2o_c + 8.0 co2_c + 1.0 ocdca_c + 16.0 nadp_c</td></tr><tr><td class = \"rowNumber\" style = \"font-weight: bold; text-align: right;\">15</td><td style = \"text-align: right;\">1185</td><td style = \"text-align: left;\">KAS17</td><td style = \"text-align: right;\">9</td><td style = \"text-align: left;\">15.0 nadph_c + 1.0 accoa_c + 8.0 malcoa_c + 22.0 h_c = 9.0 coa_c + 7.0 h2o_c + 1.0 ocdcea_c + 8.0 co2_c + 15.0 nadp_c</td></tr><tr><td class = \"rowNumber\" style = \"font-weight: bold; text-align: right;\">16</td><td style = \"text-align: right;\">1190</td><td style = \"text-align: left;\">KAS2</td><td style = \"text-align: right;\">9</td><td style = \"text-align: left;\">12.0 nadph_c + 1.0 accoa_c + 6.0 malcoa_c + 17.0 h_c = 7.0 coa_c + 5.0 h2o_c + 6.0 co2_c + 12.0 nadp_c + 1.0 ttdca_c</td></tr><tr><td class = \"rowNumber\" style = \"font-weight: bold; text-align: right;\">17</td><td style = \"text-align: right;\">1191</td><td style = \"text-align: left;\">KAS3</td><td style = \"text-align: right;\">9</td><td style = \"text-align: left;\">10.0 nadph_c + 1.0 ivcoa_c + 5.0 malcoa_c + 14.0 h_c = 6.0 coa_c + 4.0 h2o_c + 5.0 co2_c + 10.0 nadp_c + 1.0 fa3_c</td></tr><tr><td class = \"rowNumber\" style = \"font-weight: bold; text-align: right;\">18</td><td style = \"text-align: right;\">1192</td><td style = \"text-align: left;\">KAS4</td><td style = \"text-align: right;\">9</td><td style = \"text-align: left;\">10.0 nadph_c + 1.0 2mbcoa_c + 5.0 malcoa_c + 14.0 h_c = 6.0 coa_c + 4.0 h2o_c + 5.0 co2_c + 1.0 fa4_c + 10.0 nadp_c</td></tr><tr><td class = \"rowNumber\" style = \"font-weight: bold; text-align: right;\">19</td><td style = \"text-align: right;\">1193</td><td style = \"text-align: left;\">KAS5</td><td style = \"text-align: right;\">9</td><td style = \"text-align: left;\">11.0 nadph_c + 1.0 ibcoa_c + 6.0 malcoa_c + 16.0 h_c = 7.0 coa_c + 5.0 h2o_c + 6.0 co2_c + 11.0 nadp_c + 1.0 fa5_c</td></tr><tr><td class = \"rowNumber\" style = \"font-weight: bold; text-align: right;\">20</td><td style = \"text-align: right;\">1194</td><td style = \"text-align: left;\">KAS6</td><td style = \"text-align: right;\">9</td><td style = \"text-align: left;\">12.0 nadph_c + 1.0 ibcoa_c + 6.0 malcoa_c + 17.0 h_c = 7.0 coa_c + 5.0 h2o_c + 6.0 co2_c + 1.0 fa6_c + 12.0 nadp_c</td></tr></tbody></table></div>"
      ],
      "text/latex": [
       "\\begin{tabular}{r|cccc}\n",
       "\t& index & id & connections & reaction\\\\\n",
       "\t\\hline\n",
       "\t& Int64 & String & Int64 & String\\\\\n",
       "\t\\hline\n",
       "\t1 & 332 & BIOMASS\\_BS\\_10 & 63 & 0.00056 psetha\\_BS\\_c + 0.000367 10fthf\\_c + 0.00018 gdp\\_c + 0.002347 gtca2\\_45\\_BS\\_c + 0.323093 lys\\_\\_L\\_c + 0.081739 his\\_\\_L\\_c + 0.101817 peptido\\_BS\\_c + 0.000503 gmp\\_c + 0.00467 amp\\_c + 1.5e-5 lipo4\\_24\\_BS\\_c + 0.038902 ctp\\_c + 0.022899 dttp\\_c + 6.6e-5 t12dg\\_BS\\_c + 6.0e-6 lipo2\\_24\\_BS\\_c + 0.041501 utp\\_c + 0.000918 ppi\\_c + 0.017398 dgtp\\_c + 0.062667 gtp\\_c + 7.0e-6 lipo1\\_24\\_BS\\_c + 0.269905 ile\\_\\_L\\_c + 0.110824 tyr\\_\\_L\\_c + 0.408288 gly\\_c + 1.8e-5 lipo3\\_24\\_BS\\_c + 0.186317 thr\\_\\_L\\_c + 0.101714 mg2\\_c + 5.0e-6 cdlp\\_BS\\_c + 0.01738 dctp\\_c + 105.053483 atp\\_c + 0.160642 pro\\_\\_L\\_c + 0.175939 phe\\_\\_L\\_c + 0.306734 val\\_\\_L\\_c + 0.022982 datp\\_c + 0.346445 leu\\_\\_L\\_c + 0.001042 cmp\\_c + 0.260378 glu\\_\\_L\\_c + 0.00011 d12dg\\_BS\\_c + 0.016164 nad\\_c + 2.2e-5 lysylpgly\\_BS\\_c + 0.706312 k\\_c + 0.216213 ser\\_\\_L\\_c + 0.003205 ca2\\_c + 0.001819 gtca3\\_45\\_BS\\_c + 0.193021 arg\\_\\_L\\_c + 0.000251 cdp\\_c + 0.260335 gln\\_\\_L\\_c + 0.054336 trp\\_\\_L\\_c + 0.000176 pgly\\_BS\\_c + 0.000216 nadph\\_c + 0.003112 tcam\\_BS\\_c + 0.266902 ala\\_\\_L\\_c + 0.05699 cys\\_\\_L\\_c + 0.00345 fe3\\_c + 0.147987 asn\\_\\_L\\_c + 105.0 h2o\\_c + 0.000934 nadp\\_c + 8.6e-5 m12dg\\_BS\\_c + 0.148014 asp\\_\\_L\\_c + 0.000266 mql7\\_c + 0.113326 met\\_\\_L\\_c + 0.003624 gtca1\\_45\\_BS\\_c = 104.997414 adp\\_c + 104.985613 pi\\_c + 105.0 h\\_c \\\\\n",
       "\t2 & 1239 & TECA2S45 & 13 & 45.0 atp\\_c + 45.0 ala\\_\\_D\\_c + 45.0 h2o\\_c + 45.0 cdpglyc\\_c + 1.0 uacmam\\_c + 1.0 uacgam\\_c = 45.0 amp\\_c + 1.0 ump\\_c + 45.0 ppi\\_c + 1.0 gtca2\\_45\\_BS\\_c + 1.0 udp\\_c + 45.0 cmp\\_c + 91.0 h\\_c \\\\\n",
       "\t3 & 316 & AGPATr\\_BS & 12 & 0.01 1ag3p\\_BS\\_c + 0.17 fa12coa\\_c + 0.07 fa11coa\\_c + 0.2 fa3coa\\_c + 0.34 fa4coa\\_c + 0.05 fa6coa\\_c + 0.03 strcoa\\_c + 0.01 fa1coa\\_c + 0.1 pmtcoa\\_c + 0.03 tdcoa\\_c = 1.0 coa\\_c + 0.01 12dag3p\\_BS\\_c \\\\\n",
       "\t4 & 471 & G3POA\\_BS & 12 & 0.17 fa12coa\\_c + 0.07 fa11coa\\_c + 0.2 fa3coa\\_c + 0.34 fa4coa\\_c + 0.05 fa6coa\\_c + 1.0 glyc3p\\_c + 0.03 strcoa\\_c + 0.01 fa1coa\\_c + 0.1 pmtcoa\\_c + 0.03 tdcoa\\_c = 0.01 1ag3p\\_BS\\_c + 1.0 coa\\_c \\\\\n",
       "\t5 & 758 & LIPO3S24\\_BS & 10 & 2400.0 atp\\_c + 2400.0 ala\\_\\_D\\_c + 2400.0 h2o\\_c + 2400.0 cdpglyc\\_c + 1.0 d12dg\\_BS\\_c = 2400.0 amp\\_c + 1.0 lipo3\\_24\\_BS\\_c + 2400.0 ppi\\_c + 2400.0 cmp\\_c + 4800.0 h\\_c \\\\\n",
       "\t6 & 1245 & TECA3S45 & 10 & 1.0 h2o\\_c + 45.0 cdpglyc\\_c + 1.0 uacmam\\_c + 45.0 udpg\\_c + 1.0 uacgam\\_c = 1.0 gtca3\\_45\\_BS\\_c + 1.0 ump\\_c + 46.0 udp\\_c + 45.0 cmp\\_c + 91.0 h\\_c \\\\\n",
       "\t7 & 362 & ASNS1 & 9 & 1.0 atp\\_c + 1.0 h2o\\_c + 1.0 gln\\_\\_L\\_c + 1.0 asp\\_\\_L\\_c = 1.0 glu\\_\\_L\\_c + 1.0 amp\\_c + 1.0 ppi\\_c + 1.0 h\\_c + 1.0 asn\\_\\_L\\_c \\\\\n",
       "\t8 & 403 & CTPS2 & 9 & 1.0 atp\\_c + 1.0 h2o\\_c + 1.0 gln\\_\\_L\\_c + 1.0 utp\\_c = 1.0 adp\\_c + 1.0 glu\\_\\_L\\_c + 1.0 ctp\\_c + 1.0 pi\\_c + 2.0 h\\_c \\\\\n",
       "\t9 & 420 & CBPS & 9 & 2.0 atp\\_c + 1.0 h2o\\_c + 1.0 gln\\_\\_L\\_c + 1.0 hco3\\_c = 2.0 adp\\_c + 1.0 glu\\_\\_L\\_c + 1.0 cbp\\_c + 1.0 pi\\_c + 2.0 h\\_c \\\\\n",
       "\t10 & 511 & FEDCabc & 9 & 1.0 atp\\_c + 1.0 h2o\\_c + 2.0 cit\\_e + 1.0 fe3\\_e = 1.0 adp\\_c + 2.0 cit\\_c + 1.0 fe3\\_c + 1.0 pi\\_c + 1.0 h\\_c \\\\\n",
       "\t11 & 609 & GMPS2 & 9 & 1.0 atp\\_c + 1.0 h2o\\_c + 1.0 gln\\_\\_L\\_c + 1.0 xmp\\_c = 1.0 glu\\_\\_L\\_c + 1.0 amp\\_c + 1.0 ppi\\_c + 1.0 gmp\\_c + 2.0 h\\_c \\\\\n",
       "\t12 & 729 & KAS1 & 9 & 10.0 nadph\\_c + 1.0 ibcoa\\_c + 5.0 malcoa\\_c + 14.0 h\\_c = 6.0 coa\\_c + 4.0 h2o\\_c + 1.0 fa1\\_c + 5.0 co2\\_c + 10.0 nadp\\_c \\\\\n",
       "\t13 & 935 & PRFGS\\_1 & 9 & 1.0 atp\\_c + 1.0 h2o\\_c + 1.0 gln\\_\\_L\\_c + 1.0 fgam\\_c = 1.0 adp\\_c + 1.0 glu\\_\\_L\\_c + 1.0 pi\\_c + 1.0 fpram\\_c + 2.0 h\\_c \\\\\n",
       "\t14 & 1184 & KAS13 & 9 & 16.0 nadph\\_c + 1.0 accoa\\_c + 8.0 malcoa\\_c + 23.0 h\\_c = 9.0 coa\\_c + 7.0 h2o\\_c + 8.0 co2\\_c + 1.0 ocdca\\_c + 16.0 nadp\\_c \\\\\n",
       "\t15 & 1185 & KAS17 & 9 & 15.0 nadph\\_c + 1.0 accoa\\_c + 8.0 malcoa\\_c + 22.0 h\\_c = 9.0 coa\\_c + 7.0 h2o\\_c + 1.0 ocdcea\\_c + 8.0 co2\\_c + 15.0 nadp\\_c \\\\\n",
       "\t16 & 1190 & KAS2 & 9 & 12.0 nadph\\_c + 1.0 accoa\\_c + 6.0 malcoa\\_c + 17.0 h\\_c = 7.0 coa\\_c + 5.0 h2o\\_c + 6.0 co2\\_c + 12.0 nadp\\_c + 1.0 ttdca\\_c \\\\\n",
       "\t17 & 1191 & KAS3 & 9 & 10.0 nadph\\_c + 1.0 ivcoa\\_c + 5.0 malcoa\\_c + 14.0 h\\_c = 6.0 coa\\_c + 4.0 h2o\\_c + 5.0 co2\\_c + 10.0 nadp\\_c + 1.0 fa3\\_c \\\\\n",
       "\t18 & 1192 & KAS4 & 9 & 10.0 nadph\\_c + 1.0 2mbcoa\\_c + 5.0 malcoa\\_c + 14.0 h\\_c = 6.0 coa\\_c + 4.0 h2o\\_c + 5.0 co2\\_c + 1.0 fa4\\_c + 10.0 nadp\\_c \\\\\n",
       "\t19 & 1193 & KAS5 & 9 & 11.0 nadph\\_c + 1.0 ibcoa\\_c + 6.0 malcoa\\_c + 16.0 h\\_c = 7.0 coa\\_c + 5.0 h2o\\_c + 6.0 co2\\_c + 11.0 nadp\\_c + 1.0 fa5\\_c \\\\\n",
       "\t20 & 1194 & KAS6 & 9 & 12.0 nadph\\_c + 1.0 ibcoa\\_c + 6.0 malcoa\\_c + 17.0 h\\_c = 7.0 coa\\_c + 5.0 h2o\\_c + 6.0 co2\\_c + 1.0 fa6\\_c + 12.0 nadp\\_c \\\\\n",
       "\\end{tabular}\n"
      ],
      "text/plain": [
       "\u001b[1m20×4 DataFrame\u001b[0m\n",
       "\u001b[1m Row \u001b[0m│\u001b[1m index \u001b[0m\u001b[1m id            \u001b[0m\u001b[1m connections \u001b[0m\u001b[1m reaction                          \u001b[0m\n",
       "     │\u001b[90m Int64 \u001b[0m\u001b[90m String        \u001b[0m\u001b[90m Int64       \u001b[0m\u001b[90m String                            \u001b[0m\n",
       "─────┼──────────────────────────────────────────────────────────────────────\n",
       "   1 │   332  BIOMASS_BS_10           63  0.00056 psetha_BS_c + 0.000367 1…\n",
       "   2 │  1239  TECA2S45                13  45.0 atp_c + 45.0 ala__D_c + 45.…\n",
       "   3 │   316  AGPATr_BS               12  0.01 1ag3p_BS_c + 0.17 fa12coa_c…\n",
       "   4 │   471  G3POA_BS                12  0.17 fa12coa_c + 0.07 fa11coa_c …\n",
       "   5 │   758  LIPO3S24_BS             10  2400.0 atp_c + 2400.0 ala__D_c +…\n",
       "   6 │  1245  TECA3S45                10  1.0 h2o_c + 45.0 cdpglyc_c + 1.0…\n",
       "   7 │   362  ASNS1                    9  1.0 atp_c + 1.0 h2o_c + 1.0 gln_…\n",
       "   8 │   403  CTPS2                    9  1.0 atp_c + 1.0 h2o_c + 1.0 gln_…\n",
       "   9 │   420  CBPS                     9  2.0 atp_c + 1.0 h2o_c + 1.0 gln_…\n",
       "  10 │   511  FEDCabc                  9  1.0 atp_c + 1.0 h2o_c + 2.0 cit_…\n",
       "  11 │   609  GMPS2                    9  1.0 atp_c + 1.0 h2o_c + 1.0 gln_…\n",
       "  12 │   729  KAS1                     9  10.0 nadph_c + 1.0 ibcoa_c + 5.0…\n",
       "  13 │   935  PRFGS_1                  9  1.0 atp_c + 1.0 h2o_c + 1.0 gln_…\n",
       "  14 │  1184  KAS13                    9  16.0 nadph_c + 1.0 accoa_c + 8.0…\n",
       "  15 │  1185  KAS17                    9  15.0 nadph_c + 1.0 accoa_c + 8.0…\n",
       "  16 │  1190  KAS2                     9  12.0 nadph_c + 1.0 accoa_c + 6.0…\n",
       "  17 │  1191  KAS3                     9  10.0 nadph_c + 1.0 ivcoa_c + 5.0…\n",
       "  18 │  1192  KAS4                     9  10.0 nadph_c + 1.0 2mbcoa_c + 5.…\n",
       "  19 │  1193  KAS5                     9  11.0 nadph_c + 1.0 ibcoa_c + 6.0…\n",
       "  20 │  1194  KAS6                     9  12.0 nadph_c + 1.0 ibcoa_c + 6.0…"
      ]
     },
     "execution_count": 65,
     "metadata": {},
     "output_type": "execute_result"
    }
   ],
   "source": [
    "let\n",
    "    df = DataFrame();\n",
    "    d = diag(Cᵣ);\n",
    "    î = sortperm(d, rev=true);\n",
    "    number_of_rows_in_table = 20;\n",
    "    for i ∈ î[1:number_of_rows_in_table]\n",
    "        m = model[\"reactions\"][i]\n",
    "        row_df = (\n",
    "            index = i,\n",
    "            id = m[\"id\"],\n",
    "            connections = d[i],\n",
    "            reaction = reactionstring(m[\"metabolites\"]),\n",
    "        );\n",
    "        push!(df, row_df) # capture the row\n",
    "    end\n",
    "    #pretty_table(df, tf=tf_simple)\n",
    "    df\n",
    "end"
   ]
  },
  {
   "cell_type": "markdown",
   "id": "8dec0f89-c69b-4fd8-86ae-3e59e308e98c",
   "metadata": {},
   "source": [
    "## Other ways to estimate important reactions (metabolites)?\n",
    "We imposed the idea that connectivity is proportional to importance; what if this isn't the case? Could we have the stoichiometric matrix tell us what is important? Yes! We could decompose the stoichiometric matrix using tools from [eigendecomposition](https://en.wikipedia.org/wiki/Eigendecomposition_of_a_matrix#). But there is a _gotcha_: the stoichiometric matrix is not _square_. Thus, we cannot directly compute its [eigendecomposition](https://en.wikipedia.org/wiki/Eigendecomposition_of_a_matrix#).\n",
    "\n",
    "* __Idea__: Let's compute a square matrix that measures the _similarity_ of reactions (or metabolites) using a measure such as the [covariance](https://en.wikipedia.org/wiki/Covariance_matrix) or a [kernel function](https://en.wikipedia.org/wiki/Kernel_method). This gives us an idea about the relationship between the network's reactions (or metabolites) $i$ and $j$. Then, we can decompose that and look at the [eigenvalues and eigenvectors](https://en.wikipedia.org/wiki/Eigenvalues_and_eigenvectors) to see what we can see. In particular, we'll look at the eigenvector corresponding to the largest eigenvalue.\n",
    "\n",
    "For giggles, let's propose [a kernel function](https://en.wikipedia.org/wiki/Kernel_method) to compute the _similarity_ of the rows (metabolites) or the columns (reactions) and save it in the `k(x,y)::Function` variable:"
   ]
  },
  {
   "cell_type": "code",
   "execution_count": 33,
   "id": "201d63df-1f7e-41a1-9581-697dbc595fc5",
   "metadata": {},
   "outputs": [],
   "source": [
    "k(x,y) = dot(x,y);"
   ]
  },
  {
   "cell_type": "markdown",
   "id": "f7d467a6-65b4-44b6-a53c-9ef79565a8b8",
   "metadata": {},
   "source": [
    "Next, compute the reaction (metabolite) similarity matrix $\\hat{\\mathbf{S}}$ and save it in the `Ŝ::Array{Float64,2}` variable. If we are considering the reaction similarity then $\\hat{\\mathbf{S}}\\in\\mathbb{R}^{|\\mathcal{R}|\\times|\\mathcal{R}|}$, otherwise the metabolite similarity will be a $\\hat{\\mathbf{S}}\\in\\mathbb{M}^{|\\mathcal{R}|\\times|\\mathcal{M}|}$ matrix."
   ]
  },
  {
   "cell_type": "code",
   "execution_count": 35,
   "id": "e4666465-cca5-45b2-af80-27ed91c8e141",
   "metadata": {},
   "outputs": [],
   "source": [
    "Ŝ = let\n",
    "    \n",
    "    # get some data from the system -\n",
    "    m = model[\"metabolites\"] |> length # get the number of metabolites\n",
    "    r = model[\"reactions\"] |> length # get the number of reactions\n",
    "\n",
    "    # Uncomment me for reaction similarity\n",
    "    Ŝ = zeros(r,r); # create a scaled stoichiometric matrix\n",
    "    for i ∈ 1:r\n",
    "        σᵢ = S[:,i]; # get the ith col (reaction)\n",
    "        for j ∈ 1:r\n",
    "            σⱼ = S[:,j]; # get the jth col (reaction)\n",
    "            Ŝ[i,j] = k(σᵢ,σⱼ);\n",
    "        end\n",
    "    end\n",
    "\n",
    "    # Uncomment me for metabolite similarity -\n",
    "    # Ŝ = zeros(m,m); # create a scaled stoichiometric matrix\n",
    "    # for i ∈ 1:m\n",
    "    #     mᵢ = S[i,:]; # get the ith row (metabolite)\n",
    "    #     for j ∈ 1:m\n",
    "    #         mⱼ = S[j,:]; # get the jth row (metabolite)\n",
    "    #         Ŝ[i,j] = k(mᵢ,mⱼ);\n",
    "    #     end\n",
    "    # end\n",
    "\n",
    "    Ŝ\n",
    "end;"
   ]
  },
  {
   "cell_type": "code",
   "execution_count": 36,
   "id": "354b8107-873f-43c2-8427-f1d8cf6b57f1",
   "metadata": {},
   "outputs": [
    {
     "data": {
      "text/plain": [
       "1250×1250 Matrix{Float64}:\n",
       " 1.0  0.0  0.0  0.0  0.0  0.0  0.0  0.0  …  0.0   0.0   0.0   0.0    0.0\n",
       " 0.0  1.0  0.0  0.0  0.0  0.0  0.0  0.0     0.0   0.0   0.0   0.0    0.0\n",
       " 0.0  0.0  1.0  0.0  0.0  0.0  0.0  0.0     0.0   0.0   0.0   0.0    0.0\n",
       " 0.0  0.0  0.0  1.0  0.0  0.0  0.0  0.0     0.0   0.0   0.0   0.0    0.0\n",
       " 0.0  0.0  0.0  0.0  1.0  0.0  0.0  0.0     0.0   0.0   0.0   0.0    0.0\n",
       " 0.0  0.0  0.0  0.0  0.0  1.0  0.0  0.0  …  0.0   0.0   0.0   0.0    0.0\n",
       " 0.0  0.0  0.0  0.0  0.0  0.0  1.0  0.0     0.0   0.0   0.0   0.0    0.0\n",
       " 0.0  0.0  0.0  0.0  0.0  0.0  0.0  1.0     0.0   0.0   0.0   0.0    0.0\n",
       " 0.0  0.0  0.0  0.0  0.0  0.0  0.0  0.0     0.0   0.0   0.0   0.0    0.0\n",
       " 0.0  0.0  0.0  0.0  0.0  0.0  0.0  0.0     0.0   0.0   0.0   0.0    0.0\n",
       " 0.0  0.0  0.0  0.0  0.0  0.0  0.0  0.0  …  0.0   0.0   0.0   0.0    0.0\n",
       " 0.0  0.0  0.0  0.0  0.0  0.0  0.0  0.0     0.0   0.0   0.0   0.0    0.0\n",
       " 0.0  0.0  0.0  0.0  0.0  0.0  0.0  0.0     0.0   0.0   0.0   0.0    0.0\n",
       " ⋮                        ⋮              ⋱  ⋮                      \n",
       " 0.0  0.0  0.0  0.0  0.0  0.0  0.0  0.0     0.0  45.0  45.0   0.0  -46.0\n",
       " 0.0  0.0  0.0  0.0  0.0  0.0  0.0  0.0     0.0  -1.0  -1.0   0.0    0.0\n",
       " 0.0  0.0  0.0  0.0  0.0  0.0  0.0  0.0  …  0.0   0.0   0.0   0.0    0.0\n",
       " 0.0  0.0  0.0  0.0  0.0  0.0  0.0  0.0     0.0   0.0  -1.0   0.0    0.0\n",
       " 0.0  0.0  0.0  0.0  0.0  0.0  0.0  0.0     0.0   1.0   0.0  -1.0   -1.0\n",
       " 0.0  0.0  0.0  0.0  0.0  0.0  0.0  0.0     0.0   0.0  -1.0   0.0    0.0\n",
       " 0.0  0.0  0.0  0.0  0.0  0.0  0.0  0.0     0.0   0.0   1.0   0.0  -91.0\n",
       " 0.0  0.0  0.0  0.0  0.0  0.0  0.0  0.0  …  5.0   0.0   0.0   0.0    0.0\n",
       " 0.0  0.0  0.0  0.0  0.0  0.0  0.0  0.0     0.0   4.0   0.0  -1.0    0.0\n",
       " 0.0  0.0  0.0  0.0  0.0  0.0  0.0  0.0     0.0   0.0   4.0   0.0    0.0\n",
       " 0.0  0.0  0.0  0.0  0.0  0.0  0.0  0.0     0.0  -1.0   0.0   2.0    0.0\n",
       " 0.0  0.0  0.0  0.0  0.0  0.0  0.0  0.0     0.0   0.0   0.0   0.0    3.0002"
      ]
     },
     "execution_count": 36,
     "metadata": {},
     "output_type": "execute_result"
    }
   ],
   "source": [
    "Ŝ"
   ]
  },
  {
   "cell_type": "markdown",
   "id": "99332909-488b-4a05-9d98-db3bb4c7302c",
   "metadata": {},
   "source": [
    "__Compute the eigenvalues and the eigenvectors__. We use the built-in [`eigen(...)` function](https://docs.julialang.org/en/v1/stdlib/LinearAlgebra/#LinearAlgebra.eigen) to compute [the eigendecomposition](https://en.wikipedia.org/wiki/Eigendecomposition_of_a_matrix#:~:text=In%20linear%20algebra%2C%20eigendecomposition%20is,be%20factorized%20in%20this%20way.). This function takes a square matrix $\\mathbf{A}$ (and potentially some additional optional arguments) and returns [an `Eigen` factorization object](https://docs.julialang.org/en/v1/stdlib/LinearAlgebra/#LinearAlgebra.Eigen) holding the eigenvalues and eigenvectors."
   ]
  },
  {
   "cell_type": "code",
   "execution_count": 38,
   "id": "89e90170-d97f-4bcb-b46e-2ef1dd9cc53c",
   "metadata": {},
   "outputs": [],
   "source": [
    "λ,V = let\n",
    "\n",
    "    # compute the eigendecomposition\n",
    "    F = eigen(Ŝ); # compute the decomposition, returns eigen factorization\n",
    "    λ = F.values; # get the values from F\n",
    "    V = F.vectors; # get the vectors from F\n",
    "\n",
    "    # return -\n",
    "    λ,V\n",
    "end;"
   ]
  },
  {
   "cell_type": "markdown",
   "id": "10099ffd-9a24-41c5-ba6a-f241e1e2ab74",
   "metadata": {},
   "source": [
    "__What's in the largest eigenvector?__ \n",
    "\n",
    "First, why are we looking at only the largest eigenvector? Let's borrow an idea from Google. [The Google PageRank algorithm](https://epubs.siam.org/doi/10.1137/050623280) utilizes the dominant eigenvalue and its corresponding eigenvector to assess the importance of web pages when searching the internet. Let's use [the `softmax(...)` function](src/Compute.jl) to transform the largest eigenvector in a probability vector (sums to one, all entries are non-negative). The [softmax](https://en.wikipedia.org/wiki/Softmax_function) for some vector $\\mathbf{z}$ is defined as:\n",
    "$$\n",
    "\\begin{equation}\n",
    "\\sigma(\\mathbf{z})_{i} = \\frac{e^{z_{i}}}{\\sum_{j=1}^{m}e^{z_{j}}}\\quad{i=1,2,\\dots,m}\n",
    "\\end{equation}\n",
    "$$\n",
    "where $\\sigma(\\mathbf{z})_{i}$ is the ith component of the transformed eigenvector. We apply [the `argmax(...)` function](https://docs.julialang.org/en/v1/base/collections/#Base.argmax) to the transformed vector to get the largest component."
   ]
  },
  {
   "cell_type": "code",
   "execution_count": 40,
   "id": "abd2012d-51c4-421a-b2df-e13c723fe183",
   "metadata": {},
   "outputs": [],
   "source": [
    "i,j,r̂,m̂ = let\n",
    "\n",
    "    # setup -\n",
    "    m = nothing;\n",
    "    r = nothing;\n",
    "    i = argmax(λ); # get the index of the largest eigenvalue i\n",
    "    j = V[:,i] |> v-> softmax(v) |> v̂-> argmax(v̂); # get the i vector, apply a softmax, find index of maximum element\n",
    "\n",
    "    # Uncomment me for reactions -\n",
    "    r = model[\"reactions\"][j]\n",
    "\n",
    "    # Uncomment me for metabolites -\n",
    "    # m = model[\"metabolites\"][j]\n",
    "    \n",
    "    # return\n",
    "    i,j,r,m\n",
    "end;"
   ]
  },
  {
   "cell_type": "code",
   "execution_count": 67,
   "id": "9282eac8-a568-4e6f-974f-21e6d8278f24",
   "metadata": {},
   "outputs": [
    {
     "ename": "LoadError",
     "evalue": "MethodError: no method matching isless(::Dict{String, Any}, ::Int64)\nThe function `isless` exists, but no method is defined for this combination of argument types.\n\n\u001b[0mClosest candidates are:\n\u001b[0m  isless(\u001b[91m::Missing\u001b[39m, ::Any)\n\u001b[0m\u001b[90m   @\u001b[39m \u001b[90mBase\u001b[39m \u001b[90m\u001b[4mmissing.jl:87\u001b[24m\u001b[39m\n\u001b[0m  isless(::Any, \u001b[91m::Missing\u001b[39m)\n\u001b[0m\u001b[90m   @\u001b[39m \u001b[90mBase\u001b[39m \u001b[90m\u001b[4mmissing.jl:88\u001b[24m\u001b[39m\n\u001b[0m  isless(\u001b[91m::AbstractFloat\u001b[39m, ::Real)\n\u001b[0m\u001b[90m   @\u001b[39m \u001b[90mBase\u001b[39m \u001b[90m\u001b[4moperators.jl:180\u001b[24m\u001b[39m\n\u001b[0m  ...\n",
     "output_type": "error",
     "traceback": [
      "MethodError: no method matching isless(::Dict{String, Any}, ::Int64)\nThe function `isless` exists, but no method is defined for this combination of argument types.\n\n\u001b[0mClosest candidates are:\n\u001b[0m  isless(\u001b[91m::Missing\u001b[39m, ::Any)\n\u001b[0m\u001b[90m   @\u001b[39m \u001b[90mBase\u001b[39m \u001b[90m\u001b[4mmissing.jl:87\u001b[24m\u001b[39m\n\u001b[0m  isless(::Any, \u001b[91m::Missing\u001b[39m)\n\u001b[0m\u001b[90m   @\u001b[39m \u001b[90mBase\u001b[39m \u001b[90m\u001b[4mmissing.jl:88\u001b[24m\u001b[39m\n\u001b[0m  isless(\u001b[91m::AbstractFloat\u001b[39m, ::Real)\n\u001b[0m\u001b[90m   @\u001b[39m \u001b[90mBase\u001b[39m \u001b[90m\u001b[4moperators.jl:180\u001b[24m\u001b[39m\n\u001b[0m  ...\n",
      "",
      "Stacktrace:",
      " [1] <(x::Dict{String, Any}, y::Int64)",
      "   @ Base ./operators.jl:353",
      " [2] reactionstring(metabolites::Dict{String, Any})",
      "   @ Main ~/Desktop/julia_work/CHEME-5450-Lectures-Spring-2025/lectures/week-4/L4c/src/Compute.jl:62",
      " [3] |>(x::Dict{String, Any}, f::typeof(reactionstring))",
      "   @ Base ./operators.jl:926",
      " [4] top-level scope",
      "   @ In[67]:1"
     ]
    }
   ],
   "source": [
    "r̂ |> reactionstring"
   ]
  },
  {
   "cell_type": "markdown",
   "id": "5324487c-4698-4962-8ec7-c15f8f4276a0",
   "metadata": {},
   "source": [
    "## Further Reading\n",
    "Several publications with a similar theme, i.e., using different matrix factorizations such as [singular value decomposition](https://en.wikipedia.org/wiki/Singular_value_decomposition) or different approaches such as looking at the degree distribution, have been published to understand the structural features of biologically derived networks such the stoichiometric arrays:\n",
    "* [Price ND, Reed JL, Papin JA, Famili I, Palsson BO. Analysis of metabolic capabilities using singular value decomposition of extreme pathway matrices. Biophys J. 2003 Feb;84(2 Pt 1):794-804. doi: 10.1016/S0006-3495(03)74899-1. PMID: 12547764; PMCID: PMC1302660.](https://pubmed.ncbi.nlm.nih.gov/12547764/)\n",
    "* [Famili I, Palsson BO. Systemic metabolic reactions are obtained by singular value decomposition of genome-scale stoichiometric matrices. J Theor Biol. 2003 Sep 7;224(1):87-96. doi: 10.1016/s0022-5193(03)00146-2. PMID: 12900206.](https://pubmed.ncbi.nlm.nih.gov/12900206/)\n",
    "* [Barrett CL, Price ND, Palsson BO. Network-level analysis of metabolic regulation in the human red blood cell using random sampling and singular value decomposition. BMC Bioinformatics. 2006 Mar 13;7:132. doi: 10.1186/1471-2105-7-132. PMID: 16533395; PMCID: PMC1421444.](https://pubmed.ncbi.nlm.nih.gov/16533395/)\n",
    "* [Broido, A.D., Clauset, A. Scale-free networks are rare. Nat Commun 10, 1017 (2019). https://doi.org/10.1038/s41467-019-08746-5](https://rdcu.be/d9Q02)"
   ]
  },
  {
   "cell_type": "markdown",
   "id": "a19e8917-b8cd-4856-8274-f72a4258aed8",
   "metadata": {},
   "source": [
    "# Today?\n",
    "That's a wrap! What are some things we discussed today?"
   ]
  }
 ],
 "metadata": {
  "kernelspec": {
   "display_name": "Julia 1.11.3",
   "language": "julia",
   "name": "julia-1.11"
  },
  "language_info": {
   "file_extension": ".jl",
   "mimetype": "application/julia",
   "name": "julia",
   "version": "1.11.3"
  }
 },
 "nbformat": 4,
 "nbformat_minor": 5
}
