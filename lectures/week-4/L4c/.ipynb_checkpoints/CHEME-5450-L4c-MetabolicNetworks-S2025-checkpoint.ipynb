{
 "cells": [
  {
   "cell_type": "markdown",
   "id": "cec5dbcf-3037-47ca-851f-0075f2f4970d",
   "metadata": {},
   "source": [
    "# L4c: Metabolic Networks and the Stoichiometric Matrix\n",
    "In this lecture, we will begin our discussion of metabolism and metabolic networks, and in particular, we'll introduce the stoichiometric matrix and analyze its properties. The key ideas that we will discuss in this lecture include:\n",
    "* __Metabolism and metabolic networks__: A metabolic network is the complete set of metabolic and physical processes that determine the physiological and biochemical properties of a cell. It encompasses all chemical reactions of metabolism, metabolic pathways, and regulatory interactions that guide these reactions, providing a comprehensive representation of an organism's biochemical capabilities.\n",
    "* __A stoichiometric matrix__ is a mathematical representation that encodes the relationships between reactants and products in a metabolic network, where rows correspond to different metabolites, contained in the set $\\mathcal{M}$, and columns correspond to reactions, contained in the set $\\mathcal{R}$. Thus, the stoichiometric matrix is a $\\mathbf{S}\\in\\mathbb{R}^{|\\mathcal{M}|\\times|\\mathcal{R}|}$ matrix holding the stochiometric coefficients.\n",
    "\n",
    "Check out the lecture notes: [here!](https://github.com/varnerlab/CHEME-5450-Lectures-Spring-2025/blob/main/lectures/week-4/L4c/docs/Notes.pdf)"
   ]
  },
  {
   "cell_type": "markdown",
   "id": "5164c222-e5ef-4349-995b-6363168d555e",
   "metadata": {},
   "source": [
    "## What is a stoichiometric matrix?\n",
    "Suppose we have a set of chemical (or biochemical) reactions $\\mathcal{R}$ involving chemical species (metabolite) set $\\mathcal{M}$. Then, the stoichiometric matrix is a $\\mathbf{S}\\in\\mathbb{R}^{|\\mathcal{M}|\\times|\\mathcal{R}|}$ matrix, where $|\\mathcal{M}|$ denotes the number of chemical species and $|\\mathcal{R}|$ denotes the number of reactions. The elements of the stoichiometric matrix $\\sigma_{ij}\\in\\mathbf{S}$ are stoichiometric coefficients  such that:\n",
    "* $\\sigma_{ij}>0$: Chemical species (metabolite) $i$ is _produced_ by reaction $j$. Species $i$ is a product of reaction $j$.\n",
    "* $\\sigma_{ij} = 0$: Chemical species (metabolite) $i$ is not connected with reaction $j$\n",
    "* $\\sigma_{ij}<0$: Chemical species (metabolite) $i$ is _consumed_ by reaction $j$. Species $i$ is a reactant of reaction $j$.\n",
    "\n",
    "The stoichiometric matrix $\\mathbf{S}$ is the digital representation of the biochemistry occurring inside some volume, i.e., inside the cell, in a test tube in the case of cell-free systems, or some abstract volume such as a compartment or pseudo compartment of interest."
   ]
  },
  {
   "cell_type": "markdown",
   "id": "23fe5fd2-e29b-4ebb-bf7a-7a32c08234dc",
   "metadata": {
    "jp-MarkdownHeadingCollapsed": true
   },
   "source": [
    "## Setup, Data, and Prerequisites\n",
    "We set up the computational environment by including the `Include.jl` file, loading any needed resources, such as sample datasets, and setting up any required constants. The `Include.jl` file loads external packages, various functions that we will use in the exercise, and custom types to model the components of our problem."
   ]
  },
  {
   "cell_type": "code",
   "execution_count": 4,
   "id": "9d90e4d0-3201-405a-9603-b265e94a39de",
   "metadata": {},
   "outputs": [],
   "source": [
    "include(\"Include.jl\");"
   ]
  },
  {
   "cell_type": "markdown",
   "id": "15cd5a3a-cd42-4a48-86ed-0b6d5f1ceaba",
   "metadata": {},
   "source": [
    "### Data\n",
    "We developed a simple software development kit (SDK) against [the BiGG Models application programming interface at the University of California, San Diego](http://bigg.ucsd.edu/). The [BiGG Models database](http://bigg.ucsd.edu/) integrates published genome-scale metabolic networks into a single database with standardized nomenclature and structure. \n",
    "* [The BiGG models API](http://bigg.ucsd.edu/data_access) allows users to programmatically access genome-scale stoichiometric model reconstructions using a simple web API. There are `108` models of intracellular biochemistry occurring in various organisms (including humans) in the database (so far); [see here for a list of models](http://bigg.ucsd.edu/models).\n",
    "\n",
    "We call the model download endpoint of [the BiGG models API](http://bigg.ucsd.edu/data_access) and then save the model file to disk (so we don't hit the API unless we have to). This call returns model information organized as [a Julia dictionary](https://docs.julialang.org/en/v1/base/collections/#Base.Dict) in the `model::Dict{String, Any}` variable. If a model file is saved, we use the cached file instead of making an API call."
   ]
  },
  {
   "cell_type": "code",
   "execution_count": 6,
   "id": "1f76efcc-5652-4bcc-a872-1cedf176a66a",
   "metadata": {},
   "outputs": [
    {
     "data": {
      "text/plain": [
       "Dict{String, Any} with 6 entries:\n",
       "  \"metabolites\"  => Any[Dict{String, Any}(\"compartment\"=>\"c\", \"name\"=>\"3-Phosph…\n",
       "  \"id\"           => \"iAB_RBC_283\"\n",
       "  \"compartments\" => Dict{String, Any}(\"c\"=>\"cytosol\", \"e\"=>\"extracellular space…\n",
       "  \"reactions\"    => Any[Dict{String, Any}(\"name\"=>\"Sink pchol hs 18 1 18 1(c)\",…\n",
       "  \"version\"      => \"1\"\n",
       "  \"genes\"        => Any[Dict{String, Any}(\"name\"=>\"NMRK1\", \"id\"=>\"Nrk1_AT1\", \"n…"
      ]
     },
     "execution_count": 6,
     "metadata": {},
     "output_type": "execute_result"
    }
   ],
   "source": [
    "model = let\n",
    "\n",
    "    # build download endpoint -\n",
    "    baseurl = \"http://bigg.ucsd.edu\"; # base url to download model\n",
    "    modelid = \"iAB_RBC_283\"; # model id to download\n",
    "    path_to_saved_model_file = joinpath(_PATH_TO_DATA, \"saved-model-$(modelid).jld2\");\n",
    "\n",
    "    # check: do we have a model file saved?\n",
    "    model = nothing;\n",
    "    if (isfile(path_to_saved_model_file) == false)\n",
    "        \n",
    "        endpoint = MyBiggModelsDownloadModelEndpointModel();\n",
    "        endpoint.bigg_id = modelid;\n",
    "        url = build(baseurl, endpoint)\n",
    "        model = MyBiggModelsDownloadModelEndpointModel(url);\n",
    "\n",
    "        # Before we move on, save this model for later (so we don't keep hitting the API)\n",
    "        save(path_to_saved_model_file, Dict(\"model\" => model));\n",
    "    else\n",
    "        model = load(path_to_saved_model_file)[\"model\"];\n",
    "    end\n",
    "    model; # return the model (either saved, or downloaded)\n",
    "end"
   ]
  },
  {
   "cell_type": "markdown",
   "id": "20bc45fe-9482-4f9a-8e65-bbb742294402",
   "metadata": {},
   "source": [
    "__Metabolite records__: Each metabolite (chemical compound) in the network has an associated metabolite record with several fields. Let's take a look at the metabolite at index `1`.\n",
    "* The key field for today in the metabolite record is the `id` field, an abbreviation or symbol associated with this metabolite."
   ]
  },
  {
   "cell_type": "code",
   "execution_count": 8,
   "id": "a3b498ad-2426-4d58-a308-103f728c0dbd",
   "metadata": {},
   "outputs": [
    {
     "data": {
      "text/plain": [
       "Dict{String, Any} with 7 entries:\n",
       "  \"compartment\" => \"c\"\n",
       "  \"name\"        => \"3-Phospho-D-glyceroyl phosphate\"\n",
       "  \"formula\"     => \"C3H4O10P2\"\n",
       "  \"id\"          => \"13dpg_c\"\n",
       "  \"charge\"      => -4\n",
       "  \"notes\"       => Dict{String, Any}(\"original_bigg_ids\"=>Any[\"13dpg_c\"])\n",
       "  \"annotation\"  => Dict{String, Any}(\"sabiork\"=>Any[\"21215\"], \"kegg.compound\"=>…"
      ]
     },
     "execution_count": 8,
     "metadata": {},
     "output_type": "execute_result"
    }
   ],
   "source": [
    "model[\"metabolites\"][1] # example metabolite record"
   ]
  },
  {
   "cell_type": "markdown",
   "id": "c4cac7bc-9ee1-4e9e-acca-e53e55a6f578",
   "metadata": {},
   "source": [
    "__Reaction records__: Similarly, each reaction in the network has a reaction record with several fields. Let's look at the reaction record at index `25`.\n",
    "* The key field for the reaction record is the `metabolites` field, which lists the stoichiometric coefficients associated with this particular reaction."
   ]
  },
  {
   "cell_type": "code",
   "execution_count": 10,
   "id": "7367cc1a-d11d-46d8-b4ab-832aafa097a6",
   "metadata": {},
   "outputs": [
    {
     "data": {
      "text/plain": [
       "Dict{String, Any} with 9 entries:\n",
       "  \"name\"               => \"N-Acetylneuraminate 9-phosphate pyruvate-lyase (pyru…\n",
       "  \"metabolites\"        => Dict{String, Any}(\"h2o_c\"=>-1.0, \"acnamp_c\"=>1.0, \"ac…\n",
       "  \"lower_bound\"        => 0.0\n",
       "  \"id\"                 => \"ACNAM9PL\"\n",
       "  \"notes\"              => Dict{String, Any}(\"original_bigg_ids\"=>Any[\"ACNAM9PL\"…\n",
       "  \"gene_reaction_rule\" => \"Nans_AT1\"\n",
       "  \"upper_bound\"        => 1000.0\n",
       "  \"subsystem\"          => \"Aminosugar Metabolism\"\n",
       "  \"annotation\"         => Dict{String, Any}(\"bigg.reaction\"=>Any[\"ACNAM9PL\"], \"…"
      ]
     },
     "execution_count": 10,
     "metadata": {},
     "output_type": "execute_result"
    }
   ],
   "source": [
    "model[\"reactions\"][25] # example reaction record"
   ]
  },
  {
   "cell_type": "markdown",
   "id": "253d353c-cc2b-4fd3-ae7e-a519c2fa4917",
   "metadata": {},
   "source": [
    "__Stoichiometric matrix__: Next, let's build a stoichiometric matrix $\\mathbf{S}$ using the metabolite and reaction records. We'll do this using two for loops. \n",
    "* __Strategy__: In the outer loop, we iterate over the system's metabolites (chemical species) and select the `id` from the metabolites record for each metabolite. In the inner loop, we iterate over each reaction. For each reaction record, we ask if this reaction has an entry for the current metabolite `id` value; if it does, we grab the stoichiometric coefficient $\\sigma_{ij}$ corresponding to this metabolite and reaction."
   ]
  },
  {
   "cell_type": "code",
   "execution_count": 12,
   "id": "42e3d91a-1ceb-4e71-8636-c6678c0c321d",
   "metadata": {},
   "outputs": [],
   "source": [
    "S = let\n",
    "\n",
    "    # get some data from the model -\n",
    "    m = model[\"metabolites\"]; # get list of metabolites\n",
    "    r = model[\"reactions\"]; # get list of reactions\n",
    "    number_of_rows = length(m); # how many metabolites do we have? (rows)\n",
    "    number_of_cols = length(r); # how many reactions do we have? (cols)\n",
    "    S = zeros(number_of_rows,number_of_cols); # initialize an empty stoichiometric matrix\n",
    "\n",
    "    # let's build a stm -\n",
    "    for i ∈ eachindex(m)\n",
    "        metabolite = m[i][\"id\"]; # we are checking if this metabolite is in the reaction record\n",
    "        for j ∈ eachindex(r)\n",
    "            reaction = r[j];\n",
    "            if (haskey(reaction[\"metabolites\"], metabolite) == true)\n",
    "                S[i,j] = reaction[\"metabolites\"][metabolite];\n",
    "            end\n",
    "        end\n",
    "    end\n",
    "    S; \n",
    "end;"
   ]
  },
  {
   "cell_type": "markdown",
   "id": "b1951cf8-cf6e-4fa8-8f71-6a39c6f07738",
   "metadata": {},
   "source": [
    "Finally, let's compute the binary stoichiometric matrix $\\bar{\\mathbf{S}}$ by [calling the `binary(...)` method](src/Compute.jl)."
   ]
  },
  {
   "cell_type": "code",
   "execution_count": 14,
   "id": "2308ab6b-af57-4330-8207-b1b7e5073764",
   "metadata": {},
   "outputs": [
    {
     "data": {
      "text/plain": [
       "342×469 Matrix{Int64}:\n",
       " 0  0  0  0  0  0  0  0  0  0  0  0  0  …  0  0  0  0  0  0  0  0  0  0  0  0\n",
       " 0  0  0  0  0  0  0  0  0  0  0  0  0     0  0  0  0  0  0  0  0  0  0  0  0\n",
       " 0  0  0  0  0  0  0  0  0  0  0  1  0     0  0  0  0  0  1  0  0  0  0  0  0\n",
       " 0  0  0  0  0  0  0  0  0  0  0  0  0     0  0  0  0  0  0  0  0  0  0  0  0\n",
       " 0  0  0  0  0  0  0  0  0  0  0  0  0     0  0  0  0  0  0  0  0  0  0  0  0\n",
       " 0  0  0  0  0  0  0  0  0  0  0  0  0  …  0  0  0  0  0  0  0  0  0  0  0  0\n",
       " 0  0  0  0  0  0  0  0  0  0  0  0  1     0  0  0  0  0  0  0  0  0  0  0  0\n",
       " 0  0  0  0  0  0  0  0  0  0  0  0  0     0  0  0  0  0  0  0  0  0  0  0  0\n",
       " 0  0  0  0  0  0  0  0  0  0  0  0  0     0  0  0  0  0  0  0  0  0  0  0  0\n",
       " 0  0  0  0  0  0  0  0  0  0  0  0  0     0  0  0  0  0  0  0  0  0  0  0  0\n",
       " 0  0  0  0  0  0  0  0  0  0  0  0  0  …  0  0  0  0  0  0  0  0  0  0  0  0\n",
       " 0  0  0  0  0  0  0  0  0  0  0  0  0     0  0  0  0  0  0  0  0  0  0  0  0\n",
       " 0  0  0  0  0  0  0  0  0  0  0  0  0     0  0  0  0  0  0  0  0  0  0  0  0\n",
       " ⋮              ⋮              ⋮        ⋱           ⋮              ⋮        \n",
       " 0  0  0  0  0  0  0  0  0  0  0  0  0  …  0  0  0  0  0  0  0  0  0  0  0  0\n",
       " 0  0  0  0  0  0  0  0  0  0  0  0  0     0  0  0  0  0  0  0  0  0  0  0  0\n",
       " 0  0  0  0  0  0  0  0  0  0  0  0  0     0  0  0  0  0  0  0  0  0  0  0  0\n",
       " 0  0  0  0  0  0  0  0  0  0  0  0  0     0  0  0  0  0  0  0  0  0  0  0  0\n",
       " 0  0  0  0  0  0  0  0  0  0  0  0  0     0  0  0  0  0  0  0  0  0  0  0  0\n",
       " 0  0  0  0  0  0  0  0  0  0  0  0  0  …  0  0  0  0  0  0  0  0  0  0  0  0\n",
       " 0  0  0  0  0  0  0  0  0  0  0  0  0     0  0  0  0  0  0  0  0  0  0  0  0\n",
       " 0  0  0  0  0  0  0  0  0  0  0  0  0     0  0  0  0  0  0  0  0  0  0  0  0\n",
       " 0  0  0  0  0  0  0  0  0  0  0  0  0     0  0  0  0  0  0  0  0  0  0  0  0\n",
       " 0  0  0  0  0  0  0  0  0  0  0  0  0     0  0  0  0  0  0  0  0  0  0  0  0\n",
       " 0  0  0  0  0  0  0  0  0  0  0  0  0  …  1  0  0  0  0  0  0  0  0  0  0  0\n",
       " 0  0  0  0  0  0  0  0  0  0  0  0  0     0  1  0  0  0  0  0  0  0  0  0  0"
      ]
     },
     "execution_count": 14,
     "metadata": {},
     "output_type": "execute_result"
    }
   ],
   "source": [
    "S̄ = binary(S) # convert all non-zero entries to 1"
   ]
  },
  {
   "cell_type": "markdown",
   "id": "34780e51-028d-4bc4-a397-925e734bbdcb",
   "metadata": {},
   "source": [
    "Scaled stoichiometric matrix. We'll also consider the [z-score centered](https://en.wikipedia.org/wiki/Feature_scaling) stoichiometric matrix $\\hat{\\mathbf{S}}$ in which we center the columns (reactions) of the matrix. We'll save this version of the stoichiometric matrix in the `Ŝ::Array{Float64,2}` variable."
   ]
  },
  {
   "cell_type": "code",
   "execution_count": 16,
   "id": "9a198a43-7883-434f-b260-4d68ff17bc3a",
   "metadata": {},
   "outputs": [],
   "source": [
    "Ŝ = let\n",
    "    \n",
    "    # get some data from the system -\n",
    "    m = model[\"metabolites\"] |> length # get the number of metabolites\n",
    "    r = model[\"reactions\"] |> length # get the number of reactions\n",
    "    Ŝ = zeros(m,r); # create a scaled stoichiometric matrix\n",
    "\n",
    "    for j ∈ 1:r\n",
    "        col = S[:,j]; # get the jth col (reaction)\n",
    "        μⱼ = mean(col); # mean of the col\n",
    "        σⱼ = std(col); # std of the col\n",
    "\n",
    "        for i ∈ 1:m\n",
    "            Ŝ[i,j] = (col[i] - μⱼ)/σⱼ\n",
    "        end\n",
    "    end\n",
    "\n",
    "    Ŝ\n",
    "end;"
   ]
  },
  {
   "cell_type": "markdown",
   "id": "431c54f7-3128-4ee9-ab2e-8a361c7746da",
   "metadata": {},
   "source": [
    "## Connectivity of a metabolic network\n",
    "The connectivity of the metabolites (reactions) in a metabolic network gives us some insight into the importance of a metabolite (or a reaction). For example, suppose we alter the enzyme level of a highly connected reaction or change conditions in the cell that impact the concentration of a highly connected metabolite. In that case, we might expect a more significant response than changing an unconnected metabolite. \n",
    "\n",
    "We construct the corresponding connectivity matrix $\\mathbf{C}_{\\star}$ and analyze its properties to compute the connectivity of metabolites or reactions. Let's start with the metabolite connectivity array $\\mathbf{C}_{m}$, and then consider the reaction connectivity matrix $\\mathbf{C}_{r}$."
   ]
  },
  {
   "cell_type": "markdown",
   "id": "a93dcbb1-1024-4530-bfcf-1164e6a9f4df",
   "metadata": {},
   "source": [
    "### Metabolite connectivity\n",
    "The metabolite connectivity matrix, defined as $\\mathbf{C}_{m} \\equiv \\bar{\\mathbf{S}}\\bar{\\mathbf{S}}^{\\top}$, is an $|\\mathcal{M}|\\times|\\mathcal{M}|$ symmetric array with the following features:\n",
    "* __Diagonal elements__:The elements along the central diagonal $c_{ii}\\in\\mathbf{C}_{m}$ are the total number of reactions a particular metabolite participates in. However. because we removed the directionality when we computed the binary stoichiometric matrix, we have no information about whether the participation is a reactant or product.\n",
    "* __Off diagonal elements__: The off-diagonal elements $c_{ij}\\in\\mathbf{C}_{m}$ where $i\\neq{j}$ describe how many reactions metabolite $i$ has in common with metabolite $j$, i.e., the number of joints reactions for the pair."
   ]
  },
  {
   "cell_type": "code",
   "execution_count": 19,
   "id": "3c76c37e-4bc3-4412-9480-94f0d1f66344",
   "metadata": {},
   "outputs": [
    {
     "data": {
      "text/plain": [
       "342×342 Matrix{Int64}:\n",
       " 3  1  0  0  0  0  0  1  0  0  0  0  0  …  0  0  0  0  0  0  0  0  0  0  0  0\n",
       " 1  2  0  0  0  0  0  1  0  0  0  0  0     0  0  0  0  0  0  0  0  0  0  0  0\n",
       " 0  0  2  0  0  0  0  0  0  0  0  0  0     0  0  0  0  0  0  0  0  0  0  0  0\n",
       " 0  0  0  2  0  0  0  1  0  0  0  0  0     0  0  0  0  0  0  0  0  0  0  0  0\n",
       " 0  0  0  0  2  0  0  0  0  0  0  0  0     0  0  0  0  0  0  0  0  0  0  0  0\n",
       " 0  0  0  0  0  2  0  0  0  0  0  0  0  …  0  0  0  0  0  0  0  0  0  0  0  0\n",
       " 0  0  0  0  0  0  2  0  0  0  0  0  0     0  0  0  0  0  0  0  0  0  0  0  0\n",
       " 1  1  0  1  0  0  0  3  0  0  0  0  0     0  0  0  0  0  0  0  0  0  0  0  0\n",
       " 0  0  0  0  0  0  0  0  2  0  0  0  0     0  0  0  0  0  0  0  0  0  0  0  0\n",
       " 0  0  0  0  0  0  0  0  0  2  0  0  0     0  0  0  0  0  0  0  0  0  0  0  0\n",
       " 0  0  0  0  0  0  0  0  0  0  2  1  1  …  0  0  0  0  0  0  0  0  0  0  0  0\n",
       " 0  0  0  0  0  0  0  0  0  0  1  2  0     0  0  0  0  0  0  0  0  0  0  0  0\n",
       " 0  0  0  0  0  0  0  0  0  0  1  0  3     0  0  0  0  0  0  0  0  0  0  0  0\n",
       " ⋮              ⋮              ⋮        ⋱  ⋮              ⋮              ⋮  \n",
       " 0  0  0  0  0  0  0  0  0  0  0  0  0  …  2  0  0  0  0  0  0  0  0  0  0  0\n",
       " 0  0  0  0  0  0  0  0  0  0  0  0  0     0  2  0  0  0  0  0  0  0  0  0  0\n",
       " 0  0  0  0  0  0  0  0  0  0  0  0  0     0  0  2  0  0  0  0  0  0  0  0  0\n",
       " 0  0  0  0  0  0  0  0  0  0  0  0  0     0  0  0  2  0  0  0  0  0  0  0  0\n",
       " 0  0  0  0  0  0  0  0  0  0  0  0  0     0  0  0  0  2  0  0  0  0  0  0  0\n",
       " 0  0  0  0  0  0  0  0  0  0  0  0  0  …  0  0  0  0  0  3  0  0  0  0  0  0\n",
       " 0  0  0  0  0  0  0  0  0  0  0  0  0     0  0  0  0  0  0  2  0  0  0  0  0\n",
       " 0  0  0  0  0  0  0  0  0  0  0  0  0     0  0  0  0  0  0  0  2  0  0  0  0\n",
       " 0  0  0  0  0  0  0  0  0  0  0  0  0     0  0  0  0  0  0  0  0  2  0  0  0\n",
       " 0  0  0  0  0  0  0  0  0  0  0  0  0     0  0  0  0  0  0  0  0  0  2  0  0\n",
       " 0  0  0  0  0  0  0  0  0  0  0  0  0  …  0  0  0  0  0  0  0  0  0  0  2  0\n",
       " 0  0  0  0  0  0  0  0  0  0  0  0  0     0  0  0  0  0  0  0  0  0  0  0  2"
      ]
     },
     "execution_count": 19,
     "metadata": {},
     "output_type": "execute_result"
    }
   ],
   "source": [
    "Cₘ = S̄*transpose(S̄) # metabolite connectivity matrix M x M matrix"
   ]
  },
  {
   "cell_type": "code",
   "execution_count": 20,
   "id": "9a6675b9-3944-4a44-b27a-d5c936467d84",
   "metadata": {},
   "outputs": [
    {
     "data": {
      "text/plain": [
       "Dict{String, Any} with 7 entries:\n",
       "  \"compartment\" => \"c\"\n",
       "  \"name\"        => \"H+\"\n",
       "  \"formula\"     => \"H\"\n",
       "  \"id\"          => \"h_c\"\n",
       "  \"charge\"      => 1\n",
       "  \"notes\"       => Dict{String, Any}(\"original_bigg_ids\"=>Any[\"h_c\"])\n",
       "  \"annotation\"  => Dict{String, Any}(\"sabiork\"=>Any[\"39\"], \"kegg.compound\"=>Any…"
      ]
     },
     "execution_count": 20,
     "metadata": {},
     "output_type": "execute_result"
    }
   ],
   "source": [
    "argmax(diag(Cₘ)) |> i-> model[\"metabolites\"][i] # maximum connectivity metabolite"
   ]
  },
  {
   "cell_type": "markdown",
   "id": "fcea0222-b920-49de-97d8-ccdfc53ddd81",
   "metadata": {},
   "source": [
    "Let's sort the diagonal elements $\\text{diag}(\\mathbf{C}_{m})$ from largest to smallest and then build [a table using the `pretty_table(...)` method exported by the `PrettyTables.jl` package](https://github.com/ronisbr/PrettyTables.jl). `Unhide` the code block below to see how we constructed the metabolite connectivity table."
   ]
  },
  {
   "cell_type": "code",
   "execution_count": 22,
   "id": "c8f5e4cd-b3e8-4be4-a625-296a40a894cc",
   "metadata": {},
   "outputs": [
    {
     "name": "stdout",
     "output_type": "stream",
     "text": [
      "======== ============= ======================================================= =========== ==============\n",
      " \u001b[1m index \u001b[0m \u001b[1m compartment \u001b[0m \u001b[1m                                                  name \u001b[0m \u001b[1m        id \u001b[0m \u001b[1m connections \u001b[0m\n",
      " \u001b[90m Int64 \u001b[0m \u001b[90m      String \u001b[0m \u001b[90m                                                String \u001b[0m \u001b[90m    String \u001b[0m \u001b[90m       Int64 \u001b[0m\n",
      "======== ============= ======================================================= =========== ==============\n",
      "    132             c                                                      H+         h_c           190\n",
      "    134             c                                                 H2O H2O       h2o_c           122\n",
      "     74             c                                       ATP C10H12N5O13P3       atp_c            81\n",
      "     36             c                                       ADP C10H12N5O10P2       adp_c            68\n",
      "    122             c                                               Phosphate        pi_c            68\n",
      "    153             c                                             Diphosphate       ppi_c            27\n",
      "    137             c                                          CMP C9H12N3O8P       cmp_c            22\n",
      "    143             c                                              Coenzyme A       coa_c            19\n",
      "     64             c                                         AMP C10H12N5O7P       amp_c            15\n",
      "    247             c             Nicotinamide adenine dinucleotide phosphate      nadp_c            14\n",
      "    241             c                       Nicotinamide adenine dinucleotide       nad_c            13\n",
      "    249             c   Nicotinamide adenine dinucleotide phosphate - reduced     nadph_c            12\n",
      "    283             e                                                      H+         h_e            12\n",
      "    141             c                                                 CO2 CO2       co2_c            11\n",
      "    151             c                                        CTP C9H12N3O14P3       ctp_c            10\n",
      "    225             c           1D myo Inositol 1 4 5 trisphosphate C6H9O15P3    mi145p_c            10\n",
      "    243             c             Nicotinamide adenine dinucleotide - reduced      nadh_c            10\n",
      "    206             c                                  D-Fructose 6-phosphate       f6p_c             9\n",
      "    227             c                        1D-myo-Inositol 1,4-bisphosphate     mi14p_c             9\n",
      "    231             c                             1D-myo-Inositol 1-phosphate   mi1p__D_c             9\n",
      "======== ============= ======================================================= =========== ==============\n"
     ]
    }
   ],
   "source": [
    "let\n",
    "    df = DataFrame();\n",
    "    d = diag(Cₘ);\n",
    "    î = sortperm(d, rev=true);\n",
    "    number_of_rows_in_table = 20;\n",
    "    for i ∈ î[1:number_of_rows_in_table]\n",
    "        m = model[\"metabolites\"][i]\n",
    "        row_df = (\n",
    "            index = i,\n",
    "            compartment = m[\"compartment\"],\n",
    "            name = m[\"name\"],\n",
    "            id = m[\"id\"],\n",
    "            connections = d[i]\n",
    "        );\n",
    "        push!(df, row_df) # capture the row\n",
    "    end\n",
    "    pretty_table(df, tf=tf_simple)\n",
    "end"
   ]
  },
  {
   "cell_type": "markdown",
   "id": "310cb593-e00c-4981-85e8-2f84139a956e",
   "metadata": {},
   "source": [
    "### Reaction connectivity\n",
    "The reaction connectivity matrix, defined as $\\mathbf{C}_{r} \\equiv \\bar{\\mathbf{S}}^{\\top}\\bar{\\mathbf{S}}$, is an $|\\mathcal{R}|\\times|\\mathcal{R}|$ symmetric array with the following features:\n",
    "* __Diagonal elements__:The elements along the central diagonal $c_{ii}\\in\\mathbf{C}_{r}$ are the total number of reactants and products of a particular reaction. However, because we removed the directionality when we computed the binary stoichiometric matrix, we have no information about the number of reactants or products, just the total participation number for a reaction.\n",
    "* __Off diagonal elements__: The off-diagonal elements of the reaction matrix $c_{ij}\\in\\mathbf{C}_{r}$ where $i\\neq{j}$ describe how many metabolites are shared between reaction $i$ and $j$, i.e., the number of joint metabolites for the pair."
   ]
  },
  {
   "cell_type": "code",
   "execution_count": 24,
   "id": "b9eff055-842a-409e-8957-9b1a31566967",
   "metadata": {},
   "outputs": [
    {
     "data": {
      "text/plain": [
       "469×469 Matrix{Int64}:\n",
       " 1  0  0  0  0  0  0  0  0  0  0  0  0  …  0  0  0  0  0  0  0  0  0  0  0  0\n",
       " 0  1  0  0  0  0  0  0  0  0  0  0  0     0  0  0  0  0  0  1  0  0  0  0  0\n",
       " 0  0  1  0  0  0  0  0  0  0  0  0  0     0  0  0  0  0  0  0  1  0  0  0  0\n",
       " 0  0  0  1  0  0  0  0  0  0  0  0  0     0  0  0  0  0  0  0  0  1  0  0  0\n",
       " 0  0  0  0  1  0  0  0  0  0  0  0  0     0  0  0  0  0  0  0  0  0  0  0  0\n",
       " 0  0  0  0  0  1  0  0  0  0  0  0  0  …  0  0  0  0  0  0  0  0  0  1  0  0\n",
       " 0  0  0  0  0  0  1  0  0  0  0  0  0     0  0  0  0  0  0  0  0  0  0  1  0\n",
       " 0  0  0  0  0  0  0  1  0  0  0  0  0     0  0  0  0  0  0  0  0  0  0  0  1\n",
       " 0  0  0  0  0  0  0  0  1  0  0  0  0     0  0  0  0  0  0  0  0  0  0  0  0\n",
       " 0  0  0  0  0  0  0  0  0  1  0  0  0     0  0  0  0  0  0  0  0  0  0  0  0\n",
       " 0  0  0  0  0  0  0  0  0  0  1  0  0  …  0  0  0  0  0  0  0  0  0  0  0  0\n",
       " 0  0  0  0  0  0  0  0  0  0  0  4  0     0  0  0  0  0  1  0  0  0  0  0  0\n",
       " 0  0  0  0  0  0  0  0  0  0  0  0  7     0  0  3  1  1  1  1  1  1  1  1  1\n",
       " ⋮              ⋮              ⋮        ⋱           ⋮              ⋮        \n",
       " 0  0  0  0  0  0  0  0  0  0  0  0  0     2  0  0  0  0  0  0  0  0  0  0  0\n",
       " 0  0  0  0  0  0  0  0  0  0  0  0  0     0  2  0  0  0  0  0  0  0  0  0  0\n",
       " 0  0  0  0  0  0  0  0  0  0  0  0  3     0  0  5  2  1  1  1  1  1  1  1  1\n",
       " 0  0  0  0  0  0  0  0  0  0  0  0  1  …  0  0  2  5  2  1  1  1  1  1  1  1\n",
       " 0  0  0  0  0  0  0  0  0  0  0  0  1     0  0  1  2  5  1  1  1  1  1  1  1\n",
       " 0  0  0  0  0  0  0  0  0  0  0  1  1     0  0  1  1  1  5  1  1  1  1  1  1\n",
       " 0  1  0  0  0  0  0  0  0  0  0  0  1     0  0  1  1  1  1  5  3  3  2  2  2\n",
       " 0  0  1  0  0  0  0  0  0  0  0  0  1     0  0  1  1  1  1  3  5  3  2  2  2\n",
       " 0  0  0  1  0  0  0  0  0  0  0  0  1  …  0  0  1  1  1  1  3  3  5  2  2  2\n",
       " 0  0  0  0  0  1  0  0  0  0  0  0  1     0  0  1  1  1  1  2  2  2  5  3  3\n",
       " 0  0  0  0  0  0  1  0  0  0  0  0  1     0  0  1  1  1  1  2  2  2  3  5  3\n",
       " 0  0  0  0  0  0  0  1  0  0  0  0  1     0  0  1  1  1  1  2  2  2  3  3  5"
      ]
     },
     "execution_count": 24,
     "metadata": {},
     "output_type": "execute_result"
    }
   ],
   "source": [
    "Cᵣ = transpose(S̄)*S̄ # metabolite connectivity matrix R x R matrix"
   ]
  },
  {
   "cell_type": "code",
   "execution_count": 25,
   "id": "93e3dae6-e98e-4012-b2d5-972dea2d5ddd",
   "metadata": {},
   "outputs": [
    {
     "data": {
      "text/plain": [
       "Dict{String, Any} with 9 entries:\n",
       "  \"name\"               => \"Heme oxygenase 1\"\n",
       "  \"metabolites\"        => Dict{String, Any}(\"co_c\"=>1.0, \"h2o_c\"=>3.0, \"nadph_c…\n",
       "  \"lower_bound\"        => 0.0\n",
       "  \"id\"                 => \"HOXG\"\n",
       "  \"notes\"              => Dict{String, Any}(\"original_bigg_ids\"=>Any[\"HOXG\"])\n",
       "  \"gene_reaction_rule\" => \"Hmox2_AT1 or Hmox1_AT1\"\n",
       "  \"upper_bound\"        => 1000.0\n",
       "  \"subsystem\"          => \"Heme Degradation\"\n",
       "  \"annotation\"         => Dict{String, Any}(\"bigg.reaction\"=>Any[\"HOXG\"], \"meta…"
      ]
     },
     "execution_count": 25,
     "metadata": {},
     "output_type": "execute_result"
    }
   ],
   "source": [
    "most_connected_reaction = argmax(diag(Cᵣ)) |> i-> model[\"reactions\"][i] # maximum connectivity reaction"
   ]
  },
  {
   "cell_type": "code",
   "execution_count": 26,
   "id": "a2f4aeaf-8f0d-434a-91e2-586d26142c57",
   "metadata": {},
   "outputs": [
    {
     "data": {
      "text/plain": [
       "\"3.0 nadph_c + 3.0 o2_c + 5.0 h_c + 1.0 pheme_c = 3.0 h2o_c + 3.0 nadp_c + 1.0 fe2_c + 1.0 co_c + 1.0 biliverd_c\""
      ]
     },
     "execution_count": 26,
     "metadata": {},
     "output_type": "execute_result"
    }
   ],
   "source": [
    "test = reactionstring(most_connected_reaction[\"metabolites\"])"
   ]
  },
  {
   "cell_type": "markdown",
   "id": "4dafe6a0-7e20-49a2-b10b-7f07ef2278bf",
   "metadata": {},
   "source": [
    "Fill me in"
   ]
  },
  {
   "cell_type": "code",
   "execution_count": 28,
   "id": "e460f013-1a6f-4125-9a4f-a3012d339515",
   "metadata": {
    "jupyter": {
     "source_hidden": true
    }
   },
   "outputs": [
    {
     "data": {
      "text/html": [
       "<div><div style = \"float: left;\"><span>20×4 DataFrame</span></div><div style = \"clear: both;\"></div></div><div class = \"data-frame\" style = \"overflow-x: scroll;\"><table class = \"data-frame\" style = \"margin-bottom: 6px;\"><thead><tr class = \"header\"><th class = \"rowNumber\" style = \"font-weight: bold; text-align: right;\">Row</th><th style = \"text-align: left;\">index</th><th style = \"text-align: left;\">id</th><th style = \"text-align: left;\">connections</th><th style = \"text-align: left;\">reaction</th></tr><tr class = \"subheader headerLastRow\"><th class = \"rowNumber\" style = \"font-weight: bold; text-align: right;\"></th><th title = \"Int64\" style = \"text-align: left;\">Int64</th><th title = \"String\" style = \"text-align: left;\">String</th><th title = \"Int64\" style = \"text-align: left;\">Int64</th><th title = \"String\" style = \"text-align: left;\">String</th></tr></thead><tbody><tr><td class = \"rowNumber\" style = \"font-weight: bold; text-align: right;\">1</td><td style = \"text-align: right;\">232</td><td style = \"text-align: left;\">HOXG</td><td style = \"text-align: right;\">9</td><td style = \"text-align: left;\">3.0 nadph_c + 3.0 o2_c + 5.0 h_c + 1.0 pheme_c = 3.0 h2o_c + 3.0 nadp_c + 1.0 fe2_c + 1.0 co_c + 1.0 biliverd_c</td></tr><tr><td class = \"rowNumber\" style = \"font-weight: bold; text-align: right;\">2</td><td style = \"text-align: right;\">272</td><td style = \"text-align: left;\">NaKt</td><td style = \"text-align: right;\">9</td><td style = \"text-align: left;\">1.0 atp_c + 1.0 h2o_c + 2.0 k_e + 3.0 na1_c = 1.0 adp_c + 3.0 na1_e + 2.0 k_c + 1.0 pi_c + 1.0 h_c</td></tr><tr><td class = \"rowNumber\" style = \"font-weight: bold; text-align: right;\">3</td><td style = \"text-align: right;\">276</td><td style = \"text-align: left;\">GMPS2</td><td style = \"text-align: right;\">9</td><td style = \"text-align: left;\">1.0 atp_c + 1.0 h2o_c + 1.0 gln__L_c + 1.0 xmp_c = 1.0 glu__L_c + 1.0 amp_c + 1.0 ppi_c + 1.0 gmp_c + 2.0 h_c</td></tr><tr><td class = \"rowNumber\" style = \"font-weight: bold; text-align: right;\">4</td><td style = \"text-align: right;\">333</td><td style = \"text-align: left;\">NADS2</td><td style = \"text-align: right;\">9</td><td style = \"text-align: left;\">1.0 atp_c + 1.0 h2o_c + 1.0 dnad_c + 1.0 gln__L_c = 1.0 glu__L_c + 1.0 nad_c + 1.0 amp_c + 1.0 ppi_c + 1.0 h_c</td></tr><tr><td class = \"rowNumber\" style = \"font-weight: bold; text-align: right;\">5</td><td style = \"text-align: right;\">13</td><td style = \"text-align: left;\">3MOXTYRESSte</td><td style = \"text-align: right;\">7</td><td style = \"text-align: left;\">2.0 atp_c + 2.0 h2o_c + 3.0 3moxtyr_c = 2.0 adp_c + 3.0 3moxtyr_e + 2.0 pi_c + 2.0 h_c</td></tr><tr><td class = \"rowNumber\" style = \"font-weight: bold; text-align: right;\">6</td><td style = \"text-align: right;\">14</td><td style = \"text-align: left;\">4PYRDX</td><td style = \"text-align: right;\">7</td><td style = \"text-align: left;\">1.0 atp_c + 1.0 h2o_c + 1.0 4pyrdx_c = 1.0 adp_c + 1.0 pi_c + 1.0 h_c + 1.0 4pyrdx_e</td></tr><tr><td class = \"rowNumber\" style = \"font-weight: bold; text-align: right;\">7</td><td style = \"text-align: right;\">74</td><td style = \"text-align: left;\">CAATPS</td><td style = \"text-align: right;\">7</td><td style = \"text-align: left;\">1.0 atp_c + 1.0 h2o_c + 2.0 ca2_c = 1.0 adp_c + 2.0 ca2_e + 1.0 h_e + 1.0 pi_c</td></tr><tr><td class = \"rowNumber\" style = \"font-weight: bold; text-align: right;\">8</td><td style = \"text-align: right;\">75</td><td style = \"text-align: left;\">CAMPt</td><td style = \"text-align: right;\">7</td><td style = \"text-align: left;\">1.0 atp_c + 1.0 h2o_c + 1.0 camp_c = 1.0 adp_c + 1.0 camp_e + 1.0 pi_c + 1.0 h_c</td></tr><tr><td class = \"rowNumber\" style = \"font-weight: bold; text-align: right;\">9</td><td style = \"text-align: right;\">117</td><td style = \"text-align: left;\">CGMPt</td><td style = \"text-align: right;\">7</td><td style = \"text-align: left;\">1.0 atp_c + 1.0 h2o_c + 1.0 35cgmp_c = 1.0 adp_c + 1.0 35cgmp_e + 1.0 pi_c + 1.0 h_c</td></tr><tr><td class = \"rowNumber\" style = \"font-weight: bold; text-align: right;\">10</td><td style = \"text-align: right;\">192</td><td style = \"text-align: left;\">GTHS</td><td style = \"text-align: right;\">7</td><td style = \"text-align: left;\">1.0 atp_c + 1.0 gly_c + 1.0 glucys_c = 1.0 adp_c + 1.0 gthrd_c + 1.0 pi_c + 1.0 h_c</td></tr><tr><td class = \"rowNumber\" style = \"font-weight: bold; text-align: right;\">11</td><td style = \"text-align: right;\">234</td><td style = \"text-align: left;\">NORMETEVESSte</td><td style = \"text-align: right;\">7</td><td style = \"text-align: left;\">2.0 atp_c + 2.0 h2o_c + 3.0 normete__L_c = 2.0 adp_c + 3.0 normete__L_e + 2.0 pi_c + 2.0 h_c</td></tr><tr><td class = \"rowNumber\" style = \"font-weight: bold; text-align: right;\">12</td><td style = \"text-align: right;\">257</td><td style = \"text-align: left;\">GLNS</td><td style = \"text-align: right;\">7</td><td style = \"text-align: left;\">1.0 atp_c + 1.0 glu__L_c + 1.0 nh4_c = 1.0 adp_c + 1.0 gln__L_c + 1.0 pi_c + 1.0 h_c</td></tr><tr><td class = \"rowNumber\" style = \"font-weight: bold; text-align: right;\">13</td><td style = \"text-align: right;\">260</td><td style = \"text-align: left;\">GLUCYS</td><td style = \"text-align: right;\">7</td><td style = \"text-align: left;\">1.0 atp_c + 1.0 glu__L_c + 1.0 cys__L_c = 1.0 adp_c + 1.0 glucys_c + 1.0 pi_c + 1.0 h_c</td></tr><tr><td class = \"rowNumber\" style = \"font-weight: bold; text-align: right;\">14</td><td style = \"text-align: right;\">290</td><td style = \"text-align: left;\">OPAH</td><td style = \"text-align: right;\">7</td><td style = \"text-align: left;\">1.0 atp_c + 2.0 h2o_c + 1.0 5oxpro_c = 1.0 adp_c + 1.0 glu__L_c + 1.0 pi_c + 1.0 h_c</td></tr><tr><td class = \"rowNumber\" style = \"font-weight: bold; text-align: right;\">15</td><td style = \"text-align: right;\">292</td><td style = \"text-align: left;\">GTHOXti2</td><td style = \"text-align: right;\">7</td><td style = \"text-align: left;\">1.0 atp_c + 1.0 gthox_c + 1.0 h2o_c = 1.0 adp_c + 1.0 gthox_e + 1.0 pi_c + 1.0 h_c</td></tr><tr><td class = \"rowNumber\" style = \"font-weight: bold; text-align: right;\">16</td><td style = \"text-align: right;\">297</td><td style = \"text-align: left;\">MEPIVESSte</td><td style = \"text-align: right;\">7</td><td style = \"text-align: left;\">2.0 atp_c + 2.0 h2o_c + 3.0 mepi_c = 2.0 adp_c + 2.0 pi_c + 2.0 h_c + 3.0 mepi_e</td></tr><tr><td class = \"rowNumber\" style = \"font-weight: bold; text-align: right;\">17</td><td style = \"text-align: right;\">415</td><td style = \"text-align: left;\">RIBFLVt3</td><td style = \"text-align: right;\">7</td><td style = \"text-align: left;\">1.0 atp_c + 1.0 h2o_c + 1.0 ribflv_e = 1.0 adp_c + 1.0 ribflv_c + 1.0 pi_c + 1.0 h_c</td></tr><tr><td class = \"rowNumber\" style = \"font-weight: bold; text-align: right;\">18</td><td style = \"text-align: right;\">433</td><td style = \"text-align: left;\">RIBFLVt3o</td><td style = \"text-align: right;\">7</td><td style = \"text-align: left;\">1.0 atp_c + 1.0 h2o_c + 1.0 ribflv_c = 1.0 adp_c + 1.0 ribflv_e + 1.0 pi_c + 1.0 h_c</td></tr><tr><td class = \"rowNumber\" style = \"font-weight: bold; text-align: right;\">19</td><td style = \"text-align: right;\">129</td><td style = \"text-align: left;\">ALDD2x</td><td style = \"text-align: right;\">6</td><td style = \"text-align: left;\">1.0 h2o_c + 1.0 nad_c + 1.0 acald_c = 1.0 ac_c + 2.0 h_c + 1.0 nadh_c</td></tr><tr><td class = \"rowNumber\" style = \"font-weight: bold; text-align: right;\">20</td><td style = \"text-align: right;\">141</td><td style = \"text-align: left;\">CPPPGO</td><td style = \"text-align: right;\">6</td><td style = \"text-align: left;\">1.0 o2_c + 1.0 cpppg3_c + 2.0 h_c = 2.0 h2o_c + 1.0 pppg9_c + 2.0 co2_c</td></tr></tbody></table></div>"
      ],
      "text/latex": [
       "\\begin{tabular}{r|cccc}\n",
       "\t& index & id & connections & reaction\\\\\n",
       "\t\\hline\n",
       "\t& Int64 & String & Int64 & String\\\\\n",
       "\t\\hline\n",
       "\t1 & 232 & HOXG & 9 & 3.0 nadph\\_c + 3.0 o2\\_c + 5.0 h\\_c + 1.0 pheme\\_c = 3.0 h2o\\_c + 3.0 nadp\\_c + 1.0 fe2\\_c + 1.0 co\\_c + 1.0 biliverd\\_c \\\\\n",
       "\t2 & 272 & NaKt & 9 & 1.0 atp\\_c + 1.0 h2o\\_c + 2.0 k\\_e + 3.0 na1\\_c = 1.0 adp\\_c + 3.0 na1\\_e + 2.0 k\\_c + 1.0 pi\\_c + 1.0 h\\_c \\\\\n",
       "\t3 & 276 & GMPS2 & 9 & 1.0 atp\\_c + 1.0 h2o\\_c + 1.0 gln\\_\\_L\\_c + 1.0 xmp\\_c = 1.0 glu\\_\\_L\\_c + 1.0 amp\\_c + 1.0 ppi\\_c + 1.0 gmp\\_c + 2.0 h\\_c \\\\\n",
       "\t4 & 333 & NADS2 & 9 & 1.0 atp\\_c + 1.0 h2o\\_c + 1.0 dnad\\_c + 1.0 gln\\_\\_L\\_c = 1.0 glu\\_\\_L\\_c + 1.0 nad\\_c + 1.0 amp\\_c + 1.0 ppi\\_c + 1.0 h\\_c \\\\\n",
       "\t5 & 13 & 3MOXTYRESSte & 7 & 2.0 atp\\_c + 2.0 h2o\\_c + 3.0 3moxtyr\\_c = 2.0 adp\\_c + 3.0 3moxtyr\\_e + 2.0 pi\\_c + 2.0 h\\_c \\\\\n",
       "\t6 & 14 & 4PYRDX & 7 & 1.0 atp\\_c + 1.0 h2o\\_c + 1.0 4pyrdx\\_c = 1.0 adp\\_c + 1.0 pi\\_c + 1.0 h\\_c + 1.0 4pyrdx\\_e \\\\\n",
       "\t7 & 74 & CAATPS & 7 & 1.0 atp\\_c + 1.0 h2o\\_c + 2.0 ca2\\_c = 1.0 adp\\_c + 2.0 ca2\\_e + 1.0 h\\_e + 1.0 pi\\_c \\\\\n",
       "\t8 & 75 & CAMPt & 7 & 1.0 atp\\_c + 1.0 h2o\\_c + 1.0 camp\\_c = 1.0 adp\\_c + 1.0 camp\\_e + 1.0 pi\\_c + 1.0 h\\_c \\\\\n",
       "\t9 & 117 & CGMPt & 7 & 1.0 atp\\_c + 1.0 h2o\\_c + 1.0 35cgmp\\_c = 1.0 adp\\_c + 1.0 35cgmp\\_e + 1.0 pi\\_c + 1.0 h\\_c \\\\\n",
       "\t10 & 192 & GTHS & 7 & 1.0 atp\\_c + 1.0 gly\\_c + 1.0 glucys\\_c = 1.0 adp\\_c + 1.0 gthrd\\_c + 1.0 pi\\_c + 1.0 h\\_c \\\\\n",
       "\t11 & 234 & NORMETEVESSte & 7 & 2.0 atp\\_c + 2.0 h2o\\_c + 3.0 normete\\_\\_L\\_c = 2.0 adp\\_c + 3.0 normete\\_\\_L\\_e + 2.0 pi\\_c + 2.0 h\\_c \\\\\n",
       "\t12 & 257 & GLNS & 7 & 1.0 atp\\_c + 1.0 glu\\_\\_L\\_c + 1.0 nh4\\_c = 1.0 adp\\_c + 1.0 gln\\_\\_L\\_c + 1.0 pi\\_c + 1.0 h\\_c \\\\\n",
       "\t13 & 260 & GLUCYS & 7 & 1.0 atp\\_c + 1.0 glu\\_\\_L\\_c + 1.0 cys\\_\\_L\\_c = 1.0 adp\\_c + 1.0 glucys\\_c + 1.0 pi\\_c + 1.0 h\\_c \\\\\n",
       "\t14 & 290 & OPAH & 7 & 1.0 atp\\_c + 2.0 h2o\\_c + 1.0 5oxpro\\_c = 1.0 adp\\_c + 1.0 glu\\_\\_L\\_c + 1.0 pi\\_c + 1.0 h\\_c \\\\\n",
       "\t15 & 292 & GTHOXti2 & 7 & 1.0 atp\\_c + 1.0 gthox\\_c + 1.0 h2o\\_c = 1.0 adp\\_c + 1.0 gthox\\_e + 1.0 pi\\_c + 1.0 h\\_c \\\\\n",
       "\t16 & 297 & MEPIVESSte & 7 & 2.0 atp\\_c + 2.0 h2o\\_c + 3.0 mepi\\_c = 2.0 adp\\_c + 2.0 pi\\_c + 2.0 h\\_c + 3.0 mepi\\_e \\\\\n",
       "\t17 & 415 & RIBFLVt3 & 7 & 1.0 atp\\_c + 1.0 h2o\\_c + 1.0 ribflv\\_e = 1.0 adp\\_c + 1.0 ribflv\\_c + 1.0 pi\\_c + 1.0 h\\_c \\\\\n",
       "\t18 & 433 & RIBFLVt3o & 7 & 1.0 atp\\_c + 1.0 h2o\\_c + 1.0 ribflv\\_c = 1.0 adp\\_c + 1.0 ribflv\\_e + 1.0 pi\\_c + 1.0 h\\_c \\\\\n",
       "\t19 & 129 & ALDD2x & 6 & 1.0 h2o\\_c + 1.0 nad\\_c + 1.0 acald\\_c = 1.0 ac\\_c + 2.0 h\\_c + 1.0 nadh\\_c \\\\\n",
       "\t20 & 141 & CPPPGO & 6 & 1.0 o2\\_c + 1.0 cpppg3\\_c + 2.0 h\\_c = 2.0 h2o\\_c + 1.0 pppg9\\_c + 2.0 co2\\_c \\\\\n",
       "\\end{tabular}\n"
      ],
      "text/plain": [
       "\u001b[1m20×4 DataFrame\u001b[0m\n",
       "\u001b[1m Row \u001b[0m│\u001b[1m index \u001b[0m\u001b[1m id            \u001b[0m\u001b[1m connections \u001b[0m\u001b[1m reaction                          \u001b[0m\n",
       "     │\u001b[90m Int64 \u001b[0m\u001b[90m String        \u001b[0m\u001b[90m Int64       \u001b[0m\u001b[90m String                            \u001b[0m\n",
       "─────┼──────────────────────────────────────────────────────────────────────\n",
       "   1 │   232  HOXG                     9  3.0 nadph_c + 3.0 o2_c + 5.0 h_c…\n",
       "   2 │   272  NaKt                     9  1.0 atp_c + 1.0 h2o_c + 2.0 k_e …\n",
       "   3 │   276  GMPS2                    9  1.0 atp_c + 1.0 h2o_c + 1.0 gln_…\n",
       "   4 │   333  NADS2                    9  1.0 atp_c + 1.0 h2o_c + 1.0 dnad…\n",
       "   5 │    13  3MOXTYRESSte             7  2.0 atp_c + 2.0 h2o_c + 3.0 3mox…\n",
       "   6 │    14  4PYRDX                   7  1.0 atp_c + 1.0 h2o_c + 1.0 4pyr…\n",
       "   7 │    74  CAATPS                   7  1.0 atp_c + 1.0 h2o_c + 2.0 ca2_…\n",
       "   8 │    75  CAMPt                    7  1.0 atp_c + 1.0 h2o_c + 1.0 camp…\n",
       "   9 │   117  CGMPt                    7  1.0 atp_c + 1.0 h2o_c + 1.0 35cg…\n",
       "  10 │   192  GTHS                     7  1.0 atp_c + 1.0 gly_c + 1.0 gluc…\n",
       "  11 │   234  NORMETEVESSte            7  2.0 atp_c + 2.0 h2o_c + 3.0 norm…\n",
       "  12 │   257  GLNS                     7  1.0 atp_c + 1.0 glu__L_c + 1.0 n…\n",
       "  13 │   260  GLUCYS                   7  1.0 atp_c + 1.0 glu__L_c + 1.0 c…\n",
       "  14 │   290  OPAH                     7  1.0 atp_c + 2.0 h2o_c + 1.0 5oxp…\n",
       "  15 │   292  GTHOXti2                 7  1.0 atp_c + 1.0 gthox_c + 1.0 h2…\n",
       "  16 │   297  MEPIVESSte               7  2.0 atp_c + 2.0 h2o_c + 3.0 mepi…\n",
       "  17 │   415  RIBFLVt3                 7  1.0 atp_c + 1.0 h2o_c + 1.0 ribf…\n",
       "  18 │   433  RIBFLVt3o                7  1.0 atp_c + 1.0 h2o_c + 1.0 ribf…\n",
       "  19 │   129  ALDD2x                   6  1.0 h2o_c + 1.0 nad_c + 1.0 acal…\n",
       "  20 │   141  CPPPGO                   6  1.0 o2_c + 1.0 cpppg3_c + 2.0 h_…"
      ]
     },
     "execution_count": 28,
     "metadata": {},
     "output_type": "execute_result"
    }
   ],
   "source": [
    "let\n",
    "    df = DataFrame();\n",
    "    d = diag(Cᵣ);\n",
    "    î = sortperm(d, rev=true);\n",
    "    number_of_rows_in_table = 20;\n",
    "    for i ∈ î[1:number_of_rows_in_table]\n",
    "        m = model[\"reactions\"][i]\n",
    "        row_df = (\n",
    "            index = i,\n",
    "            id = m[\"id\"],\n",
    "            connections = d[i],\n",
    "            reaction = reactionstring(m[\"metabolites\"]),\n",
    "        );\n",
    "        push!(df, row_df) # capture the row\n",
    "    end\n",
    "    # pretty_table(df, tf=tf_simple)\n",
    "    df\n",
    "end"
   ]
  },
  {
   "cell_type": "markdown",
   "id": "8dec0f89-c69b-4fd8-86ae-3e59e308e98c",
   "metadata": {},
   "source": [
    "## Question 1: What is a metabolic network's most important reaction (or metabolite)?\n",
    "To explore this question, we'll have the stoichiometric matrix tell us what is important using [eigendecomposition](https://en.wikipedia.org/wiki/Eigendecomposition_of_a_matrix#). However, the stoichiometric matrix is not square. Thus, we cannot directly compute its eigendecomposition. Suppose we compute [the covariance matrix](https://en.wikipedia.org/wiki/Covariance_matrix) between the columns, i.e., between the reactions stoichiometric vectors of the rows (chemical interactions). This gives us an idea about the relationship between the network's reactions $i$ and $j$.\n",
    "\n",
    "### Covariance matrix $\\mathbf{\\Sigma}$\n",
    "The covariance matrix is a square matrix that summarizes the variance and covariance of the features in the dataset.\n",
    "Suppose we have a dataset $\\mathcal{D} = \\left\\{\\mathbf{x}_{1},\\mathbf{x}_{2},\\dots,\\mathbf{x}_{n}\\right\\}$ where each $\\mathbf{x}_{i}\\in\\mathbb{R}^{m}$ is a feature vector.\n",
    "The covariance of feature vectors $i$ and $j$, denoted as $\\text{cov}\\left(\\mathbf{x}_{i},\\mathbf{x}_{j}\\right)$, is a real-valued symmetric matrix $\\mathbf{\\Sigma}\\in\\mathbb{R}^{n\\times{n}}$ with elements: \n",
    "$$\n",
    "\\begin{equation}\n",
    "    \\Sigma_{ij} = \\text{cov}\\left(\\mathbf{x}_{i},\\mathbf{x}_{j}\\right) = \\sigma_{i}\\,\\sigma_{j}\\,\\rho_{ij}\\qquad\\text{for}\\quad{i,j \\in \\mathcal{D}}\n",
    "\\end{equation}\n",
    "$$\n",
    "where $\\sigma_{i}$ denote the standard deviation of the feature vector $\\mathbf{x}_{i}$, $\\sigma_{j}$ denote the standard deviation of the \n",
    "feature vector $\\mathbf{x}_{j}$, and $\\rho_{ij}$ denotes the correlation between features $i$ and $j$ in the dataset $\\mathcal{D}$. The correlation is given by:\n",
    "$$\n",
    "\\begin{equation}\n",
    "\\rho_{ij} = \\frac{\\mathbb{E}(\\mathbf{x}_{i}-\\mu_{i})\\cdot\\mathbb{E}(\\mathbf{x}_{j} - \\mu_{j})}{\\sigma_{i}\\sigma_{j}}\\qquad\\text{for}\\quad{i,j \\in \\mathcal{D}}\n",
    "\\end{equation}\n",
    "$$\n",
    "where $\\mathbb{E}(\\cdot)$ denotes the expected value, and $\\mu_{i}$ denotes the mean of the feature vector $\\mathbf{x}_{i}$.\n",
    "The diagonal elements of the covariance matrix $\\Sigma_{ii}\\in\\mathbf{\\Sigma}$ are the variances of features $i$,\n",
    "while the off-diagonal elements $\\Sigma_{ij}\\in\\mathbf{\\Sigma}$ for $i\\neq{j}$ measure the relationship between features \n",
    "$i$ and $j$ in the dataset $\\mathcal{D}$."
   ]
  },
  {
   "cell_type": "markdown",
   "id": "e58f140c-20c4-406c-b0b0-16194343cfa8",
   "metadata": {},
   "source": [
    "#### Computation\n",
    "Finally, let's compute the covariance array $\\mathbf{\\Sigma}$, which will be a $|\\mathcal{R}|\\times|\\mathcal{R}|$ symmetric array with real values. We calculate this array using [the `cov(...)` method exported by the `Statistics.jl` package](https://docs.julialang.org/en/v1/stdlib/Statistics/#Statistics.cov). \n",
    "* __Note__: We compute the covariance $\\mathbf{\\Sigma}$ using the regular stoichiometric matrix $\\mathbf{S}$. However, we could choose the binary version $\\bar{\\mathbf{S}}$, or the centered version $\\hat{\\mathbf{S}}$. These _will likely_ give different results."
   ]
  },
  {
   "cell_type": "code",
   "execution_count": 31,
   "id": "16256117-6d7b-4d60-9028-f4d03bc8f11a",
   "metadata": {},
   "outputs": [
    {
     "data": {
      "text/plain": [
       "469×469 Matrix{Float64}:\n",
       "  0.00292398  -8.57471e-6  -8.57471e-6  …   8.57471e-6   8.57471e-6\n",
       " -8.57471e-6   0.00292398  -8.57471e-6      8.57471e-6   8.57471e-6\n",
       " -8.57471e-6  -8.57471e-6   0.00292398      8.57471e-6   8.57471e-6\n",
       " -8.57471e-6  -8.57471e-6  -8.57471e-6      8.57471e-6   8.57471e-6\n",
       " -8.57471e-6  -8.57471e-6  -8.57471e-6      8.57471e-6   8.57471e-6\n",
       " -8.57471e-6  -8.57471e-6  -8.57471e-6  …   8.57471e-6   8.57471e-6\n",
       " -8.57471e-6  -8.57471e-6  -8.57471e-6     -0.00292398   8.57471e-6\n",
       " -8.57471e-6  -8.57471e-6  -8.57471e-6      8.57471e-6  -0.00292398\n",
       " -8.57471e-6  -8.57471e-6  -8.57471e-6      8.57471e-6   8.57471e-6\n",
       " -8.57471e-6  -8.57471e-6  -8.57471e-6      8.57471e-6   8.57471e-6\n",
       " -8.57471e-6  -8.57471e-6  -8.57471e-6  …   8.57471e-6   8.57471e-6\n",
       "  0.0          0.0          0.0             0.0          0.0\n",
       "  1.71494e-5   1.71494e-5   1.71494e-5      0.00584795   0.00584795\n",
       "  ⋮                                     ⋱               \n",
       "  0.0          0.0          0.0             0.0          0.0\n",
       "  0.0          0.0          0.0             0.0          0.0\n",
       "  8.57471e-6   8.57471e-6   8.57471e-6      0.00292398   0.00292398\n",
       "  8.57471e-6   8.57471e-6   8.57471e-6  …   0.00292398   0.00292398\n",
       " -8.57471e-6  -8.57471e-6  -8.57471e-6     -0.00292398  -0.00292398\n",
       "  1.71494e-5   1.71494e-5   1.71494e-5      0.00584795   0.00584795\n",
       "  8.57471e-6  -0.00292398   8.57471e-6      0.00585653   0.00585653\n",
       "  8.57471e-6   8.57471e-6  -0.00292398      0.00585653   0.00585653\n",
       "  8.57471e-6   8.57471e-6   8.57471e-6  …   0.00585653   0.00585653\n",
       "  8.57471e-6   8.57471e-6   8.57471e-6      0.00878908   0.00878908\n",
       "  8.57471e-6   8.57471e-6   8.57471e-6      0.0146542    0.00878908\n",
       "  8.57471e-6   8.57471e-6   8.57471e-6      0.00878908   0.0146542"
      ]
     },
     "execution_count": 31,
     "metadata": {},
     "output_type": "execute_result"
    }
   ],
   "source": [
    "Σ = cov(S) # use the scaled stoichiometric array"
   ]
  },
  {
   "cell_type": "markdown",
   "id": "3bd076de-d9be-41f5-b4c4-28f2cbbf47e1",
   "metadata": {},
   "source": [
    "Fill me in"
   ]
  },
  {
   "cell_type": "code",
   "execution_count": 33,
   "id": "1d1e1c33-9446-4de0-9e60-62e727b58bcc",
   "metadata": {},
   "outputs": [],
   "source": [
    "(λ, V) = let\n",
    "\n",
    "    # compute -\n",
    "    A = Σ; # What array do we want to decompose?\n",
    "    F = eigen(A); # compute the eigendecomposition\n",
    "    \n",
    "    # return -\n",
    "    F.values, F.vectors\n",
    "end;"
   ]
  },
  {
   "cell_type": "markdown",
   "id": "10099ffd-9a24-41c5-ba6a-f241e1e2ab74",
   "metadata": {},
   "source": [
    "__What's in the largest eigenvector?__ Let's use [the `softmax(...)` function](src/Compute.jl) to transform the largest eigenvector in a probability vector (sums to one, all entries are non-negative). The [softmax](https://en.wikipedia.org/wiki/Softmax_function) for some vector $\\mathbf{z}$ as\n",
    "$$\n",
    "\\begin{equation}\n",
    "\\sigma(\\mathbf{z})_{i} = \\frac{e^{z_{i}}}{\\sum_{j=1}^{m}e^{z_{j}}}\\quad{i=1,2,\\dots,m}\n",
    "\\end{equation}\n",
    "$$\n",
    "where $\\sigma(\\mathbf{z})_{i}$ is the ith components of the transformed eigenvector. We apply [the `argmax(...)` function](https://docs.julialang.org/en/v1/base/collections/#Base.argmax) to the transformed vector to get the largest component."
   ]
  },
  {
   "cell_type": "code",
   "execution_count": 35,
   "id": "abd2012d-51c4-421a-b2df-e13c723fe183",
   "metadata": {},
   "outputs": [
    {
     "data": {
      "text/plain": [
       "(469, 232)"
      ]
     },
     "execution_count": 35,
     "metadata": {},
     "output_type": "execute_result"
    }
   ],
   "source": [
    "(i,j) = let\n",
    "\n",
    "    i = argmax(λ); # index of the largest eigenvalue\n",
    "    j = V[:,i] |> v-> softmax(v) |> v̂-> argmax(v̂); # index of maximum element\n",
    "    model[\"reactions\"][j]\n",
    "\n",
    "    i,j\n",
    "end"
   ]
  },
  {
   "cell_type": "code",
   "execution_count": 36,
   "id": "84dfd8d7-b721-4405-a2c1-48f100d98cf5",
   "metadata": {},
   "outputs": [
    {
     "data": {
      "text/plain": [
       "Dict{String, Any} with 9 entries:\n",
       "  \"name\"               => \"Heme oxygenase 1\"\n",
       "  \"metabolites\"        => Dict{String, Any}(\"co_c\"=>1.0, \"h2o_c\"=>3.0, \"nadph_c…\n",
       "  \"lower_bound\"        => 0.0\n",
       "  \"id\"                 => \"HOXG\"\n",
       "  \"notes\"              => Dict{String, Any}(\"original_bigg_ids\"=>Any[\"HOXG\"])\n",
       "  \"gene_reaction_rule\" => \"Hmox2_AT1 or Hmox1_AT1\"\n",
       "  \"upper_bound\"        => 1000.0\n",
       "  \"subsystem\"          => \"Heme Degradation\"\n",
       "  \"annotation\"         => Dict{String, Any}(\"bigg.reaction\"=>Any[\"HOXG\"], \"meta…"
      ]
     },
     "execution_count": 36,
     "metadata": {},
     "output_type": "execute_result"
    }
   ],
   "source": [
    "model[\"reactions\"][j]"
   ]
  },
  {
   "cell_type": "code",
   "execution_count": null,
   "id": "9282eac8-a568-4e6f-974f-21e6d8278f24",
   "metadata": {},
   "outputs": [],
   "source": []
  }
 ],
 "metadata": {
  "kernelspec": {
   "display_name": "Julia 1.11.3",
   "language": "julia",
   "name": "julia-1.11"
  },
  "language_info": {
   "file_extension": ".jl",
   "mimetype": "application/julia",
   "name": "julia",
   "version": "1.11.3"
  }
 },
 "nbformat": 4,
 "nbformat_minor": 5
}
