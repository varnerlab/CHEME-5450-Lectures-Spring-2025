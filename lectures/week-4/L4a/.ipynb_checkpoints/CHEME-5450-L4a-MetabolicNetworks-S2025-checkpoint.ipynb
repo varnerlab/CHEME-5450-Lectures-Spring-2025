{
 "cells": [
  {
   "cell_type": "markdown",
   "id": "cec5dbcf-3037-47ca-851f-0075f2f4970d",
   "metadata": {},
   "source": [
    "# L4a: Introduction to Metabolism and Metabolic Networks"
   ]
  },
  {
   "cell_type": "code",
   "execution_count": null,
   "id": "fb903f7c-cead-4431-aaf5-78e7c8b3e5e6",
   "metadata": {},
   "outputs": [],
   "source": []
  }
 ],
 "metadata": {
  "kernelspec": {
   "display_name": "Julia 1.11.2",
   "language": "julia",
   "name": "julia-1.11"
  },
  "language_info": {
   "file_extension": ".jl",
   "mimetype": "application/julia",
   "name": "julia",
   "version": "1.11.2"
  }
 },
 "nbformat": 4,
 "nbformat_minor": 5
}
