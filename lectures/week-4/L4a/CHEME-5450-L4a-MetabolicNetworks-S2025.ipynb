{
 "cells": [
  {
   "cell_type": "markdown",
   "id": "cec5dbcf-3037-47ca-851f-0075f2f4970d",
   "metadata": {},
   "source": [
    "# L4a: Metabolic Networks and the Stoichiometric Matrix\n",
    "Fill me in."
   ]
  },
  {
   "cell_type": "markdown",
   "id": "5164c222-e5ef-4349-995b-6363168d555e",
   "metadata": {},
   "source": [
    "## Theory: What is a stoichiometric matrix?\n",
    "Suppose we have a set of chemical (or biochemical) reactions $\\mathcal{R}$ involving chemical species (metabolite) set $\\mathcal{M}$. Then, the stoichiometric matrix is a $\\mathbf{S}\\in\\mathbb{R}^{|\\mathcal{M}|\\times|\\mathcal{R}|}$ matrix, where $|\\mathcal{M}|$ denotes the number of chemical species and $|\\mathcal{R}|$ denotes the number of reactions. The elements of the stoichiometric matrix $\\sigma_{ij}\\in\\mathbf{S}$ are stoichiometric coefficients  such that:\n",
    "* $\\sigma_{ij}>0$: Chemical species (metabolite) $i$ is _produced_ by reaction $j$. Species $i$ is a product of reaction $j$.\n",
    "* $\\sigma_{ij} = 0$: Chemical species (metabolite) $i$ is not connected with reaction $j$\n",
    "* $\\sigma_{ij}<0$: Chemical species (metabolite) $i$ is _consumed_ by reaction $j$. Species $i$ is a reactant of reaction $j$.\n",
    "\n",
    "The stoichiometric matrix $\\mathbf{S}$ is the digital representation of the biochemistry occurring inside the cell."
   ]
  },
  {
   "cell_type": "markdown",
   "id": "23fe5fd2-e29b-4ebb-bf7a-7a32c08234dc",
   "metadata": {},
   "source": [
    "## Setup, Data, and Prerequisites\n",
    "We set up the computational environment by including the `Include.jl` file, loading any needed resources, such as sample datasets, and setting up any required constants. The `Include.jl` file loads external packages, various functions that we will use in the exercise, and custom types to model the components of our problem."
   ]
  },
  {
   "cell_type": "code",
   "execution_count": 7,
   "id": "9d90e4d0-3201-405a-9603-b265e94a39de",
   "metadata": {},
   "outputs": [],
   "source": [
    "include(\"Include.jl\");"
   ]
  },
  {
   "cell_type": "markdown",
   "id": "15cd5a3a-cd42-4a48-86ed-0b6d5f1ceaba",
   "metadata": {},
   "source": [
    "### Data\n",
    "We developed a simple software development kit (SDK) against [the BiGG Models application programming interface at the University of California, San Diego](http://bigg.ucsd.edu/). The [BiGG Models database](http://bigg.ucsd.edu/) integrates published genome-scale metabolic networks into a single database with standardized nomenclature and structure. \n",
    "* [The BiGG models API](http://bigg.ucsd.edu/data_access) allows users to programmatically access genome-scale stoichiometric model reconstructions using a simple web API. There are `108` models of intracellular biochemistry occurring in various organisms (including humans) in the database (so far); [see here for a list of models](http://bigg.ucsd.edu/models).\n",
    "* Here, we'll first explore the [core metabolic model of Palsson and coworkers](https://pubmed.ncbi.nlm.nih.gov/26443778/), which is a scaled-down model of [carbohydrate metabolism](https://en.wikipedia.org/wiki/Carbohydrate_metabolism) in _E.coli_. This model has 72 metabolites and 95 reactions. We'll then look at other models, and see what is going on with these.\n",
    "\n",
    "We call the model download endpoint of [the BiGG models API](http://bigg.ucsd.edu/data_access) and then save the model file to disk (so we don't hit the API unless we have to). This call returns model information organized as [a Julia dictionary](https://docs.julialang.org/en/v1/base/collections/#Base.Dict) in the `model::Dict{String, Any}` variable. If a model file is saved, we use the cached file instead of making an API call."
   ]
  },
  {
   "cell_type": "code",
   "execution_count": 10,
   "id": "1f76efcc-5652-4bcc-a872-1cedf176a66a",
   "metadata": {},
   "outputs": [
    {
     "data": {
      "text/plain": [
       "Dict{String, Any} with 6 entries:\n",
       "  \"metabolites\"  => Any[Dict{String, Any}(\"compartment\"=>\"c\", \"name\"=>\"3-Phosph…\n",
       "  \"id\"           => \"iAB_RBC_283\"\n",
       "  \"compartments\" => Dict{String, Any}(\"c\"=>\"cytosol\", \"e\"=>\"extracellular space…\n",
       "  \"reactions\"    => Any[Dict{String, Any}(\"name\"=>\"Sink pchol hs 18 1 18 1(c)\",…\n",
       "  \"version\"      => \"1\"\n",
       "  \"genes\"        => Any[Dict{String, Any}(\"name\"=>\"NMRK1\", \"id\"=>\"Nrk1_AT1\", \"n…"
      ]
     },
     "execution_count": 10,
     "metadata": {},
     "output_type": "execute_result"
    }
   ],
   "source": [
    "model = let\n",
    "\n",
    "    # build download endpoint -\n",
    "    baseurl = \"http://bigg.ucsd.edu\"; # base url to download model\n",
    "    modelid = \"iAB_RBC_283\"; # model id to download\n",
    "    path_to_saved_model_file = joinpath(_PATH_TO_DATA, \"saved-model-$(modelid).jld2\");\n",
    "\n",
    "    # check: do we have a model file saved?\n",
    "    model = nothing;\n",
    "    if (isfile(path_to_saved_model_file) == false)\n",
    "        \n",
    "        endpoint = MyBiggModelsDownloadModelEndpointModel();\n",
    "        endpoint.bigg_id = modelid;\n",
    "        url = build(baseurl, endpoint)\n",
    "        model = MyBiggModelsDownloadModelEndpointModel(url);\n",
    "\n",
    "        # Before we move on, save this model for later (so we don't keep hitting the API)\n",
    "        save(path_to_saved_model_file, Dict(\"model\" => model));\n",
    "    else\n",
    "        model = load(path_to_saved_model_file)[\"model\"];\n",
    "    end\n",
    "    model; # return the model (either saved, or downloaded)\n",
    "end"
   ]
  },
  {
   "cell_type": "markdown",
   "id": "20bc45fe-9482-4f9a-8e65-bbb742294402",
   "metadata": {},
   "source": [
    "__Metabolite records__: Each metabolite (chemical compound) in the network has an associated metabolite record with several fields. Let's take a look at the metabolite at index `1`.\n",
    "* The key field for today in the metabolite record is the `id` field, an abbreviation or symbol associated with this metabolite."
   ]
  },
  {
   "cell_type": "code",
   "execution_count": 27,
   "id": "a3b498ad-2426-4d58-a308-103f728c0dbd",
   "metadata": {},
   "outputs": [
    {
     "data": {
      "text/plain": [
       "Dict{String, Any} with 7 entries:\n",
       "  \"compartment\" => \"c\"\n",
       "  \"name\"        => \"3-Phospho-D-glyceroyl phosphate\"\n",
       "  \"formula\"     => \"C3H4O10P2\"\n",
       "  \"id\"          => \"13dpg_c\"\n",
       "  \"charge\"      => -4\n",
       "  \"notes\"       => Dict{String, Any}(\"original_bigg_ids\"=>Any[\"13dpg_c\"])\n",
       "  \"annotation\"  => Dict{String, Any}(\"kegg.compound\"=>Any[\"C00236\"], \"sbo\"=>\"SB…"
      ]
     },
     "execution_count": 27,
     "metadata": {},
     "output_type": "execute_result"
    }
   ],
   "source": [
    "model[\"metabolites\"][1] # example metabolite record"
   ]
  },
  {
   "cell_type": "markdown",
   "id": "c4cac7bc-9ee1-4e9e-acca-e53e55a6f578",
   "metadata": {},
   "source": [
    "__Reaction records__: Similarly, each reaction in the network has a reaction record with several fields. Let's look at the reaction record at index `25`.\n",
    "* The key field for the reaction record is the `metabolites` field, which lists the stoichiometric coefficients associated with this particular reaction."
   ]
  },
  {
   "cell_type": "code",
   "execution_count": 32,
   "id": "7367cc1a-d11d-46d8-b4ab-832aafa097a6",
   "metadata": {},
   "outputs": [
    {
     "data": {
      "text/plain": [
       "Dict{String, Any} with 9 entries:\n",
       "  \"name\"               => \"N-Acetylneuraminate 9-phosphate pyruvate-lyase (pyru…\n",
       "  \"metabolites\"        => Dict{String, Any}(\"h2o_c\"=>-1.0, \"acnamp_c\"=>1.0, \"ac…\n",
       "  \"lower_bound\"        => 0.0\n",
       "  \"id\"                 => \"ACNAM9PL\"\n",
       "  \"notes\"              => Dict{String, Any}(\"original_bigg_ids\"=>Any[\"ACNAM9PL\"…\n",
       "  \"gene_reaction_rule\" => \"Nans_AT1\"\n",
       "  \"upper_bound\"        => 1000.0\n",
       "  \"subsystem\"          => \"Aminosugar Metabolism\"\n",
       "  \"annotation\"         => Dict{String, Any}(\"ec-code\"=>Any[\"2.5.1.57\"], \"metane…"
      ]
     },
     "execution_count": 32,
     "metadata": {},
     "output_type": "execute_result"
    }
   ],
   "source": [
    "model[\"reactions\"][25] # example reaction record"
   ]
  },
  {
   "cell_type": "markdown",
   "id": "253d353c-cc2b-4fd3-ae7e-a519c2fa4917",
   "metadata": {},
   "source": [
    "__Stoichiometric matrix__: Next, let's build a stoichiometric matrix $\\mathbf{S}$ using the metabolite and reaction records. We'll do this using two for loops. \n",
    "* __Strategy__: In the outer loop, we iterate over the system's metabolites (chemical species) and select the `id` from the metabolites record for each metabolite. In the inner loop, we iterate over each reaction. For each reaction record, we ask if this reaction has an entry for the current metabolite `id` value; if it does, we grab the stoichiometric coefficient $\\sigma_{ij}$ corresponding to this metabolite and reaction."
   ]
  },
  {
   "cell_type": "code",
   "execution_count": 40,
   "id": "42e3d91a-1ceb-4e71-8636-c6678c0c321d",
   "metadata": {},
   "outputs": [],
   "source": [
    "S = let\n",
    "\n",
    "    # get some data from the model -\n",
    "    m = model[\"metabolites\"]; # get list of metabolites\n",
    "    r = model[\"reactions\"]; # get list of reactions\n",
    "    number_of_rows = length(m); # how many metabolites do we have? (rows)\n",
    "    number_of_cols = length(r); # how many reactions do we have? (cols)\n",
    "    S = zeros(number_of_rows,number_of_cols); # initialize an empty stoichiometric matrix\n",
    "\n",
    "    # let's build a stm -\n",
    "    for i ∈ eachindex(m)\n",
    "        metabolite = m[i][\"id\"]; # we are checking if this metabolite is in the reaction record\n",
    "        for j ∈ eachindex(r)\n",
    "            reaction = r[j];\n",
    "            if (haskey(reaction[\"metabolites\"], metabolite) == true)\n",
    "                S[i,j] = reaction[\"metabolites\"][metabolite];\n",
    "            end\n",
    "        end\n",
    "    end\n",
    "    S; \n",
    "end;"
   ]
  },
  {
   "cell_type": "markdown",
   "id": "8dec0f89-c69b-4fd8-86ae-3e59e308e98c",
   "metadata": {},
   "source": [
    "## What is a metabolic network's most important reaction (or metabolite)?\n",
    "To explore this question, we'll have the stoichiometric matrix tell us what is important using [eigendecomposition](https://en.wikipedia.org/wiki/Eigendecomposition_of_a_matrix#). However, the stoichiometric matrix is not square. Thus, we cannot directly compute its eigendecomposition. Suppose we compute [the covariance matrix](https://en.wikipedia.org/wiki/Covariance_matrix) between the columns, i.e., between the reactions stoichiometric vectors of the rows (chemical interactions). This gives us an idea about the relationship between the network's reactions $i$ and $j$.\n",
    "\n",
    "### Covariance matrix $\\mathbf{\\Sigma}$\n",
    "The covariance matrix is a square matrix that summarizes the variance and covariance of the features in the dataset.\n",
    "Suppose we have a dataset $\\mathcal{D} = \\left\\{\\mathbf{x}_{1},\\mathbf{x}_{2},\\dots,\\mathbf{x}_{n}\\right\\}$ where each $\\mathbf{x}_{i}\\in\\mathbb{R}^{m}$ is a feature vector.\n",
    "The covariance of feature vectors $i$ and $j$, denoted as $\\text{cov}\\left(\\mathbf{x}_{i},\\mathbf{x}_{j}\\right)$, is a real-valued symmetric matrix $\\mathbf{\\Sigma}\\in\\mathbb{R}^{n\\times{n}}$ with elements: \n",
    "$$\n",
    "\\begin{equation}\n",
    "    \\Sigma_{ij} = \\text{cov}\\left(\\mathbf{x}_{i},\\mathbf{x}_{j}\\right) = \\sigma_{i}\\,\\sigma_{j}\\,\\rho_{ij}\\qquad\\text{for}\\quad{i,j \\in \\mathcal{D}}\n",
    "\\end{equation}\n",
    "$$\n",
    "where $\\sigma_{i}$ denote the standard deviation of the feature vector $\\mathbf{x}_{i}$, $\\sigma_{j}$ denote the standard deviation of the \n",
    "feature vector $\\mathbf{x}_{j}$, and $\\rho_{ij}$ denotes the correlation between features $i$ and $j$ in the dataset $\\mathcal{D}$. The correlation is given by:\n",
    "$$\n",
    "\\begin{equation}\n",
    "\\rho_{ij} = \\frac{\\mathbb{E}(\\mathbf{x}_{i}-\\mu_{i})\\cdot\\mathbb{E}(\\mathbf{x}_{j} - \\mu_{j})}{\\sigma_{i}\\sigma_{j}}\\qquad\\text{for}\\quad{i,j \\in \\mathcal{D}}\n",
    "\\end{equation}\n",
    "$$\n",
    "where $\\mathbb{E}(\\cdot)$ denotes the expected value, and $\\mu_{i}$ denotes the mean of the feature vector $\\mathbf{x}_{i}$.\n",
    "The diagonal elements of the covariance matrix $\\Sigma_{ii}\\in\\mathbf{\\Sigma}$ are the variances of features $i$,\n",
    "while the off-diagonal elements $\\Sigma_{ij}\\in\\mathbf{\\Sigma}$ for $i\\neq{j}$ measure the relationship between features \n",
    "$i$ and $j$ in the dataset $\\mathcal{D}$."
   ]
  },
  {
   "cell_type": "code",
   "execution_count": 51,
   "id": "16256117-6d7b-4d60-9028-f4d03bc8f11a",
   "metadata": {},
   "outputs": [
    {
     "data": {
      "text/plain": [
       "469×469 Matrix{Float64}:\n",
       "  0.00292398  -8.57471e-6  -8.57471e-6  …   8.57471e-6   8.57471e-6\n",
       " -8.57471e-6   0.00292398  -8.57471e-6      8.57471e-6   8.57471e-6\n",
       " -8.57471e-6  -8.57471e-6   0.00292398      8.57471e-6   8.57471e-6\n",
       " -8.57471e-6  -8.57471e-6  -8.57471e-6      8.57471e-6   8.57471e-6\n",
       " -8.57471e-6  -8.57471e-6  -8.57471e-6      8.57471e-6   8.57471e-6\n",
       " -8.57471e-6  -8.57471e-6  -8.57471e-6  …   8.57471e-6   8.57471e-6\n",
       " -8.57471e-6  -8.57471e-6  -8.57471e-6     -0.00292398   8.57471e-6\n",
       " -8.57471e-6  -8.57471e-6  -8.57471e-6      8.57471e-6  -0.00292398\n",
       " -8.57471e-6  -8.57471e-6  -8.57471e-6      8.57471e-6   8.57471e-6\n",
       " -8.57471e-6  -8.57471e-6  -8.57471e-6      8.57471e-6   8.57471e-6\n",
       " -8.57471e-6  -8.57471e-6  -8.57471e-6  …   8.57471e-6   8.57471e-6\n",
       "  0.0          0.0          0.0             0.0          0.0\n",
       "  1.71494e-5   1.71494e-5   1.71494e-5      0.00584795   0.00584795\n",
       "  ⋮                                     ⋱               \n",
       "  0.0          0.0          0.0             0.0          0.0\n",
       "  0.0          0.0          0.0             0.0          0.0\n",
       "  8.57471e-6   8.57471e-6   8.57471e-6      0.00292398   0.00292398\n",
       "  8.57471e-6   8.57471e-6   8.57471e-6  …   0.00292398   0.00292398\n",
       " -8.57471e-6  -8.57471e-6  -8.57471e-6     -0.00292398  -0.00292398\n",
       "  1.71494e-5   1.71494e-5   1.71494e-5      0.00584795   0.00584795\n",
       "  8.57471e-6  -0.00292398   8.57471e-6      0.00585653   0.00585653\n",
       "  8.57471e-6   8.57471e-6  -0.00292398      0.00585653   0.00585653\n",
       "  8.57471e-6   8.57471e-6   8.57471e-6  …   0.00585653   0.00585653\n",
       "  8.57471e-6   8.57471e-6   8.57471e-6      0.00878908   0.00878908\n",
       "  8.57471e-6   8.57471e-6   8.57471e-6      0.0146542    0.00878908\n",
       "  8.57471e-6   8.57471e-6   8.57471e-6      0.00878908   0.0146542"
      ]
     },
     "execution_count": 51,
     "metadata": {},
     "output_type": "execute_result"
    }
   ],
   "source": [
    "Σ = cov(S)"
   ]
  },
  {
   "cell_type": "code",
   "execution_count": null,
   "id": "1d1e1c33-9446-4de0-9e60-62e727b58bcc",
   "metadata": {},
   "outputs": [],
   "source": []
  }
 ],
 "metadata": {
  "kernelspec": {
   "display_name": "Julia 1.11.3",
   "language": "julia",
   "name": "julia-1.11"
  },
  "language_info": {
   "file_extension": ".jl",
   "mimetype": "application/julia",
   "name": "julia",
   "version": "1.11.3"
  }
 },
 "nbformat": 4,
 "nbformat_minor": 5
}
