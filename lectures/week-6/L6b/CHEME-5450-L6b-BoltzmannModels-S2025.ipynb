{
 "cells": [
  {
   "cell_type": "markdown",
   "id": "020583ff-193b-4e41-b71f-b76845e6c976",
   "metadata": {},
   "source": [
    "# L6b: Boltzmann Models of Gene Expression and Allosteric Regulatory Networks"
   ]
  },
  {
   "cell_type": "code",
   "execution_count": null,
   "id": "bbedfb20-3d6f-4acf-a7c8-469b496c2304",
   "metadata": {},
   "outputs": [],
   "source": []
  }
 ],
 "metadata": {
  "kernelspec": {
   "display_name": "Julia 1.11.2",
   "language": "julia",
   "name": "julia-1.11"
  },
  "language_info": {
   "file_extension": ".jl",
   "mimetype": "application/julia",
   "name": "julia",
   "version": "1.11.2"
  }
 },
 "nbformat": 4,
 "nbformat_minor": 5
}
