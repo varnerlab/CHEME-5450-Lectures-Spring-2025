{
 "cells": [
  {
   "cell_type": "markdown",
   "id": "bd28a8a7-695a-4bf6-a33a-5ed6074f83df",
   "metadata": {},
   "source": [
    "# L6a: Coupled Dynamic Models of Metabolic and Gene Expression Networks"
   ]
  },
  {
   "cell_type": "code",
   "execution_count": null,
   "id": "8c2974df-99c1-4da0-9e04-ac29a4355878",
   "metadata": {},
   "outputs": [],
   "source": []
  }
 ],
 "metadata": {
  "kernelspec": {
   "display_name": "Julia 1.11.2",
   "language": "julia",
   "name": "julia-1.11"
  },
  "language_info": {
   "file_extension": ".jl",
   "mimetype": "application/julia",
   "name": "julia",
   "version": "1.11.2"
  }
 },
 "nbformat": 4,
 "nbformat_minor": 5
}
