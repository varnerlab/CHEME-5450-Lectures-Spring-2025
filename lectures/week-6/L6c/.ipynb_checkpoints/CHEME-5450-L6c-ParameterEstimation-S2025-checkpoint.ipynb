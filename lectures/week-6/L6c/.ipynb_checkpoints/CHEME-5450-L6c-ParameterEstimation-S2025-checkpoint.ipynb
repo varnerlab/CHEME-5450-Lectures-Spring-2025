{
 "cells": [
  {
   "cell_type": "markdown",
   "id": "0a652e46-e86c-4ae4-9508-00bee9acd971",
   "metadata": {},
   "source": [
    "# L6c: Parameter estimation tools for dynamic gene regulatory and metabolic network models"
   ]
  },
  {
   "cell_type": "code",
   "execution_count": null,
   "id": "fbe1d85a-9402-4023-8d49-5673abfb62dd",
   "metadata": {},
   "outputs": [],
   "source": []
  }
 ],
 "metadata": {
  "kernelspec": {
   "display_name": "Julia 1.11.2",
   "language": "julia",
   "name": "julia-1.11"
  },
  "language_info": {
   "file_extension": ".jl",
   "mimetype": "application/julia",
   "name": "julia",
   "version": "1.11.2"
  }
 },
 "nbformat": 4,
 "nbformat_minor": 5
}
