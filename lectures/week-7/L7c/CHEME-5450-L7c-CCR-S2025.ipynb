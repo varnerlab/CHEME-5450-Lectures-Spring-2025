{
 "cells": [
  {
   "cell_type": "markdown",
   "id": "52ed9fd7-ac65-4fd4-99da-b049aa29d498",
   "metadata": {},
   "source": [
    "# L7c: Carbon Catabolite Repression (CCR) Mechanisms"
   ]
  },
  {
   "cell_type": "code",
   "execution_count": null,
   "id": "1d9c05b8-a6bc-4503-aaf2-4dd5f92e5eb4",
   "metadata": {},
   "outputs": [],
   "source": []
  }
 ],
 "metadata": {
  "kernelspec": {
   "display_name": "Julia 1.11.2",
   "language": "julia",
   "name": "julia-1.11"
  },
  "language_info": {
   "file_extension": ".jl",
   "mimetype": "application/julia",
   "name": "julia",
   "version": "1.11.2"
  }
 },
 "nbformat": 4,
 "nbformat_minor": 5
}
