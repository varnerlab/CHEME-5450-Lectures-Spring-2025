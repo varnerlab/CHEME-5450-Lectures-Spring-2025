{
 "cells": [
  {
   "cell_type": "markdown",
   "id": "e0b27c81-0b8f-454a-9683-117992688985",
   "metadata": {},
   "source": [
    "# L8c: Delta-Notch Signal Transduction Systems"
   ]
  },
  {
   "cell_type": "code",
   "execution_count": null,
   "id": "964e39d1-bb99-4542-b30a-3a975d54fd7f",
   "metadata": {},
   "outputs": [],
   "source": []
  }
 ],
 "metadata": {
  "kernelspec": {
   "display_name": "Julia 1.11.2",
   "language": "julia",
   "name": "julia-1.11"
  },
  "language_info": {
   "file_extension": ".jl",
   "mimetype": "application/julia",
   "name": "julia",
   "version": "1.11.2"
  }
 },
 "nbformat": 4,
 "nbformat_minor": 5
}
