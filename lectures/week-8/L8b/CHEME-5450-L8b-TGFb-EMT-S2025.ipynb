{
 "cells": [
  {
   "cell_type": "markdown",
   "id": "60ed78a5-6d61-409c-941c-b094755dc35f",
   "metadata": {},
   "source": [
    "# L8b: Transforming Growth Factor Beta (TGF$\\beta$) Signaling Systems"
   ]
  },
  {
   "cell_type": "code",
   "execution_count": null,
   "id": "319ee304-5b56-4fc3-9421-d7aace0b4927",
   "metadata": {},
   "outputs": [],
   "source": []
  }
 ],
 "metadata": {
  "kernelspec": {
   "display_name": "Julia 1.11.2",
   "language": "julia",
   "name": "julia-1.11"
  },
  "language_info": {
   "file_extension": ".jl",
   "mimetype": "application/julia",
   "name": "julia",
   "version": "1.11.2"
  }
 },
 "nbformat": 4,
 "nbformat_minor": 5
}
